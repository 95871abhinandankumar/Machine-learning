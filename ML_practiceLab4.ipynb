{
  "nbformat": 4,
  "nbformat_minor": 0,
  "metadata": {
    "colab": {
      "name": "ML_practiceLab4.ipynb",
      "provenance": [],
      "authorship_tag": "ABX9TyMp5sNzb1/OpY74P/Bt1hxU",
      "include_colab_link": true
    },
    "kernelspec": {
      "name": "python3",
      "display_name": "Python 3"
    },
    "language_info": {
      "name": "python"
    }
  },
  "cells": [
    {
      "cell_type": "markdown",
      "metadata": {
        "id": "view-in-github",
        "colab_type": "text"
      },
      "source": [
        "<a href=\"https://colab.research.google.com/github/95871abhinandankumar/95871abhinandankumar/blob/main/ML_practiceLab4.ipynb\" target=\"_parent\"><img src=\"https://colab.research.google.com/assets/colab-badge.svg\" alt=\"Open In Colab\"/></a>"
      ]
    },
    {
      "cell_type": "code",
      "metadata": {
        "colab": {
          "base_uri": "https://localhost:8080/"
        },
        "id": "WYv_WqmXgbkY",
        "outputId": "f518d3a1-2d91-46a2-f74f-c08af65f041c"
      },
      "source": [
        "import pandas as pd\n",
        "dataframe = pd.read_csv(\"Cricket_chirps.csv\")\n",
        "\n",
        "print(dataframe)"
      ],
      "execution_count": 1,
      "outputs": [
        {
          "output_type": "stream",
          "name": "stdout",
          "text": [
            "              X   Y\n",
            "0     88.599998  19\n",
            "1     71.599998  16\n",
            "2     93.300003  22\n",
            "3     84.300003  17\n",
            "4     80.599998  19\n",
            "...         ...  ..\n",
            "1494  81.000000  17\n",
            "1495  81.000000  17\n",
            "1496  86.000000  17\n",
            "1497  83.000000  20\n",
            "1498  72.000000  16\n",
            "\n",
            "[1499 rows x 2 columns]\n"
          ]
        }
      ]
    },
    {
      "cell_type": "code",
      "metadata": {
        "colab": {
          "base_uri": "https://localhost:8080/"
        },
        "id": "shuzbOwYh4AL",
        "outputId": "9d26f6c4-ea24-45da-ddf2-756577cbd5f1"
      },
      "source": [
        "a = 0.6\n",
        "\n",
        "dataset1 = dataframe.copy()\n",
        "train_dataset = dataset1.sample(frac = a)\n",
        "dataset1 = dataset1.drop(train_dataset.index)\n",
        "\n",
        "a = 0.5\n",
        "validation_dataset = dataset1.sample(frac = a)\n",
        "test_dataset = dataset1.drop(validation_dataset.index)\n",
        "\n",
        "\n",
        "print(\"train_dataset.....\")\n",
        "print(train_dataset)\n",
        "\n",
        "print(\"validation_dataset.....\")\n",
        "print(validation_dataset)\n",
        "\n",
        "\n",
        "print(\"test_dataset.....\")\n",
        "print(test_dataset)"
      ],
      "execution_count": 6,
      "outputs": [
        {
          "output_type": "stream",
          "name": "stdout",
          "text": [
            "train_dataset.....\n",
            "         X   Y\n",
            "395   62.0  15\n",
            "708   89.0  18\n",
            "112   84.0  18\n",
            "541   89.0  20\n",
            "443   72.0  16\n",
            "...    ...  ..\n",
            "1122  90.0  21\n",
            "398   62.0  14\n",
            "661   88.0  18\n",
            "1128  75.0  19\n",
            "1216  68.0  15\n",
            "\n",
            "[899 rows x 2 columns]\n",
            "validation_dataset.....\n",
            "         X   Y\n",
            "526   82.0  17\n",
            "308   76.0  18\n",
            "111   88.0  20\n",
            "237   82.0  19\n",
            "507   85.0  21\n",
            "...    ...  ..\n",
            "1199  66.0  15\n",
            "1132  63.0  16\n",
            "547   67.0  17\n",
            "1405  82.0  16\n",
            "757   72.0  17\n",
            "\n",
            "[300 rows x 2 columns]\n",
            "test_dataset.....\n",
            "              X   Y\n",
            "3     84.300003  17\n",
            "15    62.000000  13\n",
            "23    66.000000  17\n",
            "29    80.000000  20\n",
            "32    81.000000  18\n",
            "...         ...  ..\n",
            "1473  82.000000  20\n",
            "1479  76.000000  18\n",
            "1485  87.000000  21\n",
            "1486  85.000000  17\n",
            "1496  86.000000  17\n",
            "\n",
            "[300 rows x 2 columns]\n",
            "train_dataset.....\n",
            "        X   Y\n",
            "494  71.0  16\n",
            "666  63.0  16\n",
            "482  71.0  17\n",
            "627  75.0  18\n",
            "464  62.0  14\n",
            "..    ...  ..\n",
            "674  85.0  19\n",
            "912  86.0  20\n",
            "530  62.0  15\n",
            "654  90.0  20\n",
            "343  62.0  15\n",
            "\n",
            "[899 rows x 2 columns]\n",
            "validation_dataset.....\n",
            "         X   Y\n",
            "648   74.0  18\n",
            "370   71.0  17\n",
            "848   67.0  15\n",
            "527   77.0  16\n",
            "51    68.0  15\n",
            "...    ...  ..\n",
            "1340  90.0  19\n",
            "1084  68.0  15\n",
            "954   75.0  19\n",
            "518   73.0  18\n",
            "328   64.0  13\n",
            "\n",
            "[300 rows x 2 columns]\n",
            "test_dataset.....\n",
            "              X   Y\n",
            "2     93.300003  22\n",
            "5     75.199997  19\n",
            "10    79.599998  16\n",
            "12    80.599998  19\n",
            "14    76.300003  17\n",
            "...         ...  ..\n",
            "1482  81.000000  16\n",
            "1488  75.000000  19\n",
            "1490  82.000000  18\n",
            "1491  71.000000  16\n",
            "1497  83.000000  20\n",
            "\n",
            "[300 rows x 2 columns]\n"
          ]
        }
      ]
    },
    {
      "cell_type": "code",
      "metadata": {
        "colab": {
          "base_uri": "https://localhost:8080/"
        },
        "id": "0QdpsxG4jgbb",
        "outputId": "9c49be73-61f0-4e50-c724-3254324ac4e6"
      },
      "source": [
        "import numpy as np\n",
        "\n",
        "\n",
        "def MSE_ofGivenDataset(dataset):\n",
        "\n",
        "  max1 = dataset['X'].max()\n",
        "  max2 = dataset['Y'].max()\n",
        "\n",
        "\n",
        "  learning_rates = [0.01, 0.001, 0.3, 0.5, 1]\n",
        "  w0, w1 = 3, 3;\n",
        "  #h = w0  + w1*x\n",
        "  pre_j = 0\n",
        "  epoch = 100\n",
        "  p = 0.0000001\n",
        "  dataset = dataset.to_numpy()\n",
        "\n",
        "  #normalize the datset\n",
        "  for i in range(len(dataset)):\n",
        "    dataset[i][0] /= max1\n",
        "    dataset[i][1] /= max2\n",
        "\n",
        "  for lr in learning_rates:\n",
        "    for itr  in range(epoch):\n",
        "      j = 0\n",
        "      m = len(dataset)\n",
        "      temp1 = 0\n",
        "      temp2 = 0\n",
        "      #print(\"total datset..\", m)\n",
        "      for ind in range(len(dataset)):\n",
        "        j = j + ((w0 + w1*dataset[ind][0]) - dataset[ind][1])**2\n",
        "        temp1 = temp1 +  (((w0 + w1*dataset[ind][0]) - dataset[ind][1])*1)\n",
        "        temp2 = temp2 + (((w0 + w1*dataset[ind][0]) - dataset[ind][1])*dataset[ind][0])\n",
        "      \n",
        "      j = j/(2*m)\n",
        "      j = round(j, 8)\n",
        "      w0 = w0 - (lr * temp1)/m\n",
        "      w0 = round(w0, 8)\n",
        "      w1 = w1 - (lr * temp2)/m\n",
        "      w1 = round(w1, 8)\n",
        "      #print(\"cofficient\", w0, w1)\n",
        "\n",
        "      if abs(pre_j - j) <= p or itr == epoch - 1:\n",
        "        print(\"For learning rate\", lr, \"......\")\n",
        "        print(\"MSE =\", j)\n",
        "        break\n",
        "      pre_j = j   \n",
        "\n",
        "\n",
        "print(\"For Training dataset............\")\n",
        "MSE_ofGivenDataset(train_dataset)\n",
        "\n",
        "print(\"\\n\\n\\n\\n\\nFor validation dataset............\")\n",
        "MSE_ofGivenDataset(validation_dataset)\n",
        "\n",
        "print(\"\\n\\n\\n\\n\\nFor test dataset............\")\n",
        "MSE_ofGivenDataset(test_dataset)"
      ],
      "execution_count": 50,
      "outputs": [
        {
          "output_type": "stream",
          "name": "stdout",
          "text": [
            "For Training dataset............\n",
            "For learning rate 0.01 ......\n",
            "MSE = 0.3666682\n",
            "For learning rate 0.001 ......\n",
            "MSE = 0.25236141\n",
            "For learning rate 0.3 ......\n",
            "MSE = 0.00155728\n",
            "For learning rate 0.5 ......\n",
            "MSE = 0.00155727\n",
            "For learning rate 1 ......\n",
            "MSE = 0.00155727\n",
            "\n",
            "\n",
            "\n",
            "\n",
            "\n",
            "For validation dataset............\n",
            "For learning rate 0.01 ......\n",
            "MSE = 0.37210873\n",
            "For learning rate 0.001 ......\n",
            "MSE = 0.25674014\n",
            "For learning rate 0.3 ......\n",
            "MSE = 0.00159754\n",
            "For learning rate 0.5 ......\n",
            "MSE = 0.00159751\n",
            "For learning rate 1 ......\n",
            "MSE = 0.00159748\n",
            "\n",
            "\n",
            "\n",
            "\n",
            "\n",
            "For test dataset............\n",
            "For learning rate 0.01 ......\n",
            "MSE = 0.38774945\n",
            "For learning rate 0.001 ......\n",
            "MSE = 0.2695398\n",
            "For learning rate 0.3 ......\n",
            "MSE = 0.00154622\n",
            "For learning rate 0.5 ......\n",
            "MSE = 0.00154615\n",
            "For learning rate 1 ......\n",
            "MSE = 0.00154611\n"
          ]
        }
      ]
    },
    {
      "cell_type": "code",
      "metadata": {
        "id": "j-gz0LBt9pzd",
        "outputId": "cdac97c4-cf03-4ad3-bad5-8e84295df284",
        "colab": {
          "base_uri": "https://localhost:8080/"
        }
      },
      "source": [
        "def MSE_givenLearningRate(dataset):\n",
        "\n",
        "  max1 = dataset['X'].max()\n",
        "  max2 = dataset['Y'].max()\n",
        "  MSE_ofEachEpoch = []\n",
        "  lr = 0.1\n",
        "  w0, w1 = 3, 3;\n",
        "  #h = w0  + w1*x\n",
        "  epoch = 100\n",
        "  dataset = dataset.to_numpy()\n",
        "\n",
        "  #normalize the datset\n",
        "  for i in range(len(dataset)):\n",
        "    dataset[i][0] /= max1\n",
        "    dataset[i][1] /= max2\n",
        "\n",
        "  for itr  in range(epoch):\n",
        "    j = 0\n",
        "    m = len(dataset)\n",
        "    temp1 = 0\n",
        "    temp2 = 0\n",
        "    #print(\"total datset..\", m)\n",
        "    for ind in range(len(dataset)):\n",
        "      j = j + ((w0 + w1*dataset[ind][0]) - dataset[ind][1])**2\n",
        "      temp1 = temp1 +  (((w0 + w1*dataset[ind][0]) - dataset[ind][1])*1)\n",
        "      temp2 = temp2 + (((w0 + w1*dataset[ind][0]) - dataset[ind][1])*dataset[ind][0])\n",
        "    \n",
        "    j = j/(2*m)\n",
        "    j = round(j, 8)\n",
        "    w0 = w0 - (lr * temp1)/m\n",
        "    w0 = round(w0, 8)\n",
        "    w1 = w1 - (lr * temp2)/m\n",
        "    w1 = round(w1, 8)\n",
        "    MSE_ofEachEpoch.append(j)\n",
        "    \n",
        "\n",
        "  return MSE_ofEachEpoch\n",
        "\n",
        "print(MSE_givenLearningRate(train_dataset))"
      ],
      "execution_count": 45,
      "outputs": [
        {
          "output_type": "stream",
          "name": "stdout",
          "text": [
            "[11.33160165, 7.76945585, 5.32724237, 3.65285644, 2.50489449, 1.71784973, 1.17825045, 0.80830022, 0.55466169, 0.38076666, 0.26154392, 0.17980459, 0.12376397, 0.08534241, 0.05900052, 0.04094048, 0.02855848, 0.02006936, 0.0142492, 0.01025889, 0.00752313, 0.00564748, 0.00436154, 0.00347989, 0.00287543, 0.00246101, 0.00217689, 0.00198209, 0.00184853, 0.00175697, 0.00169419, 0.00165115, 0.00162164, 0.00160141, 0.00158754, 0.00157803, 0.00157151, 0.00156703, 0.00156397, 0.00156187, 0.00156043, 0.00155944, 0.00155876, 0.00155829, 0.00155797, 0.00155775, 0.0015576, 0.0015575, 0.00155743, 0.00155738, 0.00155735, 0.00155732, 0.0015573, 0.00155729, 0.00155728, 0.00155728, 0.00155727, 0.00155727, 0.00155727, 0.00155727, 0.00155726, 0.00155726, 0.00155726, 0.00155726, 0.00155726, 0.00155726, 0.00155726, 0.00155726, 0.00155725, 0.00155725, 0.00155725, 0.00155725, 0.00155725, 0.00155725, 0.00155725, 0.00155725, 0.00155725, 0.00155724, 0.00155724, 0.00155724, 0.00155724, 0.00155724, 0.00155724, 0.00155724, 0.00155724, 0.00155724, 0.00155724, 0.00155723, 0.00155723, 0.00155723, 0.00155723, 0.00155723, 0.00155723, 0.00155723, 0.00155723, 0.00155723, 0.00155722, 0.00155722, 0.00155722, 0.00155722]\n"
          ]
        }
      ]
    },
    {
      "cell_type": "code",
      "metadata": {
        "id": "6rVlYIEU_K2h",
        "outputId": "c6852c72-b65c-4ccb-9a51-a7c74216a84e",
        "colab": {
          "base_uri": "https://localhost:8080/"
        }
      },
      "source": [
        "x_axis = [i for i in range(1, 101)]\n",
        "print(x_axis)\n",
        "y_axis = MSE_givenLearningRate(train_dataset)\n",
        "print(y_axis)"
      ],
      "execution_count": 48,
      "outputs": [
        {
          "output_type": "stream",
          "name": "stdout",
          "text": [
            "[1, 2, 3, 4, 5, 6, 7, 8, 9, 10, 11, 12, 13, 14, 15, 16, 17, 18, 19, 20, 21, 22, 23, 24, 25, 26, 27, 28, 29, 30, 31, 32, 33, 34, 35, 36, 37, 38, 39, 40, 41, 42, 43, 44, 45, 46, 47, 48, 49, 50, 51, 52, 53, 54, 55, 56, 57, 58, 59, 60, 61, 62, 63, 64, 65, 66, 67, 68, 69, 70, 71, 72, 73, 74, 75, 76, 77, 78, 79, 80, 81, 82, 83, 84, 85, 86, 87, 88, 89, 90, 91, 92, 93, 94, 95, 96, 97, 98, 99, 100]\n",
            "[11.33160165, 7.76945585, 5.32724237, 3.65285644, 2.50489449, 1.71784973, 1.17825045, 0.80830022, 0.55466169, 0.38076666, 0.26154392, 0.17980459, 0.12376397, 0.08534241, 0.05900052, 0.04094048, 0.02855848, 0.02006936, 0.0142492, 0.01025889, 0.00752313, 0.00564748, 0.00436154, 0.00347989, 0.00287543, 0.00246101, 0.00217689, 0.00198209, 0.00184853, 0.00175697, 0.00169419, 0.00165115, 0.00162164, 0.00160141, 0.00158754, 0.00157803, 0.00157151, 0.00156703, 0.00156397, 0.00156187, 0.00156043, 0.00155944, 0.00155876, 0.00155829, 0.00155797, 0.00155775, 0.0015576, 0.0015575, 0.00155743, 0.00155738, 0.00155735, 0.00155732, 0.0015573, 0.00155729, 0.00155728, 0.00155728, 0.00155727, 0.00155727, 0.00155727, 0.00155727, 0.00155726, 0.00155726, 0.00155726, 0.00155726, 0.00155726, 0.00155726, 0.00155726, 0.00155726, 0.00155725, 0.00155725, 0.00155725, 0.00155725, 0.00155725, 0.00155725, 0.00155725, 0.00155725, 0.00155725, 0.00155724, 0.00155724, 0.00155724, 0.00155724, 0.00155724, 0.00155724, 0.00155724, 0.00155724, 0.00155724, 0.00155724, 0.00155723, 0.00155723, 0.00155723, 0.00155723, 0.00155723, 0.00155723, 0.00155723, 0.00155723, 0.00155723, 0.00155722, 0.00155722, 0.00155722, 0.00155722]\n"
          ]
        }
      ]
    },
    {
      "cell_type": "code",
      "metadata": {
        "id": "8woS3y1j_u_5",
        "outputId": "099d55f2-59e1-4d6d-8fcd-f5610f651c49",
        "colab": {
          "base_uri": "https://localhost:8080/",
          "height": 279
        }
      },
      "source": [
        "import matplotlib.pyplot as plt\n",
        "\n",
        "plt.plot(x_axis, y_axis)\n",
        "\n",
        "plt.xlabel('epoch')\n",
        "plt.ylabel('MSE')\n",
        "\n",
        "plt.show()"
      ],
      "execution_count": 49,
      "outputs": [
        {
          "output_type": "display_data",
          "data": {
            "image/png": "[encoded data removed]",
            "text/plain": [
              "<Figure size 432x288 with 1 Axes>"
            ]
          },
          "metadata": {
            "needs_background": "light"
          }
        }
      ]
    }
  ]
}