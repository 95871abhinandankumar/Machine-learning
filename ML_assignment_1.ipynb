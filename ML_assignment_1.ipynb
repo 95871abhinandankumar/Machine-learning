{
  "nbformat": 4,
  "nbformat_minor": 0,
  "metadata": {
    "colab": {
      "name": "ML_assignment_1.ipynb",
      "provenance": [],
      "mount_file_id": "1AJgBgxTsI1fky978OK1b2NgUpYl3On64",
      "authorship_tag": "ABX9TyNr7zsRA1o2q8FzWdJjhIJu",
      "include_colab_link": true
    },
    "kernelspec": {
      "name": "python3",
      "display_name": "Python 3"
    },
    "language_info": {
      "name": "python"
    }
  },
  "cells": [
    {
      "cell_type": "markdown",
      "metadata": {
        "id": "view-in-github",
        "colab_type": "text"
      },
      "source": [
        "<a href=\"https://colab.research.google.com/github/95871abhinandankumar/95871abhinandankumar/blob/main/ML_assignment_1.ipynb\" target=\"_parent\"><img src=\"https://colab.research.google.com/assets/colab-badge.svg\" alt=\"Open In Colab\"/></a>"
      ]
    },
    {
      "cell_type": "markdown",
      "metadata": {
        "id": "7bDvq_OaJo5_"
      },
      "source": [
        "Write a NumPy program to create an array of 10 zeros,10 ones,\n",
        "10 fives "
      ]
    },
    {
      "cell_type": "code",
      "metadata": {
        "colab": {
          "base_uri": "https://localhost:8080/"
        },
        "id": "6d9tmYo4LE2d",
        "outputId": "9caceacb-f65d-4f6e-ebc2-73220560825c"
      },
      "source": [
        "import numpy as np\n",
        "\n",
        "array1 = np.zeros(10, dtype=int)\n",
        "array2 = np.ones(10, dtype=int)\n",
        "array3 = np.full(10, 5)\n",
        "\n",
        "print(\"Array of zeros :\", array1)\n",
        "print(\"Array of ones :\", array2)\n",
        "print(\"Array of fives :\", array3)"
      ],
      "execution_count": null,
      "outputs": [
        {
          "output_type": "stream",
          "text": [
            "Array of zeros : [0 0 0 0 0 0 0 0 0 0]\n",
            "Array of ones : [1 1 1 1 1 1 1 1 1 1]\n",
            "Array of fives : [5 5 5 5 5 5 5 5 5 5]\n"
          ],
          "name": "stdout"
        }
      ]
    },
    {
      "cell_type": "markdown",
      "metadata": {
        "id": "vlvHJLOVM2TP"
      },
      "source": [
        " Write a NumPy program to create an array of all the even\n",
        "integers from 10 to 50\n"
      ]
    },
    {
      "cell_type": "code",
      "metadata": {
        "colab": {
          "base_uri": "https://localhost:8080/"
        },
        "id": "yVJgIAzkM-J3",
        "outputId": "3c30f90d-e623-4a84-cd2f-0da551ac400f"
      },
      "source": [
        "array4 = np.arange(10, 51, 2)\n",
        "print(\"Array of all the even integers from 10 to 50 :\",array4)"
      ],
      "execution_count": null,
      "outputs": [
        {
          "output_type": "stream",
          "text": [
            "Array of all the even integers from 10 to 50 : [10 12 14 16 18 20 22 24 26 28 30 32 34 36 38 40 42 44 46 48 50]\n"
          ],
          "name": "stdout"
        }
      ]
    },
    {
      "cell_type": "markdown",
      "metadata": {
        "id": "n4y8Y2NUOU2R"
      },
      "source": [
        " Write a NumPy program to generate a random number between 0 and\n",
        "1"
      ]
    },
    {
      "cell_type": "code",
      "metadata": {
        "colab": {
          "base_uri": "https://localhost:8080/"
        },
        "id": "F6VHSpSdOdur",
        "outputId": "da14d20a-bba1-41af-88b6-190168f56f66"
      },
      "source": [
        "x = np.random.rand()\n",
        "\n",
        "print(x)"
      ],
      "execution_count": null,
      "outputs": [
        {
          "output_type": "stream",
          "text": [
            "0.8662734393962412\n"
          ],
          "name": "stdout"
        }
      ]
    },
    {
      "cell_type": "markdown",
      "metadata": {
        "id": "xhPKMYHUPYkx"
      },
      "source": [
        " Write a NumPy program to save the matrix (generated in question\n",
        "3) to a text file and load it"
      ]
    },
    {
      "cell_type": "code",
      "metadata": {
        "id": "yGM4tqtOPbna",
        "colab": {
          "base_uri": "https://localhost:8080/"
        },
        "outputId": "4d412727-a12c-4417-95fd-a28b9e134614"
      },
      "source": [
        "array = np.random.random((1,1))\n",
        "print(\"Matrix created :\\n\",array)\n",
        "\n",
        "\n",
        "np.savetxt(\"/content/sample_data/matrix.txt\", array)\n",
        "\n",
        "matrix = np.loadtxt('/content/sample_data/matrix.txt')\n",
        "print(\"\\n\\n\\n\\nContent in file1.txt:\\n\", matrix)"
      ],
      "execution_count": null,
      "outputs": [
        {
          "output_type": "stream",
          "text": [
            "Matrix created :\n",
            " [[0.43957061]]\n",
            "\n",
            "\n",
            "\n",
            "\n",
            "Content in file1.txt:\n",
            " 0.43957060907411205\n"
          ],
          "name": "stdout"
        }
      ]
    },
    {
      "cell_type": "markdown",
      "metadata": {
        "id": "xRajCG5FPcrz"
      },
      "source": [
        " Write a python program to read an image and save the image as a\n",
        "matrix to a .csv file using pandas"
      ]
    },
    {
      "cell_type": "code",
      "metadata": {
        "colab": {
          "base_uri": "https://localhost:8080/"
        },
        "id": "qZyY6vloPjvR",
        "outputId": "0a9bc3fe-c7ed-45f9-d2bb-e014a1d624ac"
      },
      "source": [
        "from google.colab import drive\n",
        "from PIL import Image\n",
        "import pandas as pd\n",
        "\n",
        "\n",
        "# Mount Google Drive for fast, responsible access to files\n",
        "drive.mount('/content/gdrive')\n",
        "\n",
        "# Open image\n",
        "img = Image.open('/content/gdrive/My Drive/Machine Learning assignment/assignment-1/images.jfif')\n",
        "\n",
        "# convert image object into array\n",
        "imgMatrix = np.asarray(img)\n",
        "print(imgMatrix.shape)\n",
        "imgMatrix = imgMatrix.reshape(3, -1)\n",
        "# print(imgMatrix.shape)\n",
        "\n",
        "\n",
        "# convert array into dataframe\n",
        "DF = pd.DataFrame(imgMatrix)\n",
        "print(DF)\n",
        "# save the dataframe as a csv file\n",
        "DF.to_csv(\"/content/sample_data/imgMatrix.csv\")"
      ],
      "execution_count": null,
      "outputs": [
        {
          "output_type": "stream",
          "text": [
            "Drive already mounted at /content/gdrive; to attempt to forcibly remount, call drive.mount(\"/content/gdrive\", force_remount=True).\n",
            "(183, 275, 3)\n",
            "   0      1      2      3      4      ...  50320  50321  50322  50323  50324\n",
            "0    154     23     55    154     23  ...     41     49    172     41     49\n",
            "1    185     50     65    185     50  ...     75     55    200     75     55\n",
            "2    197     75     51    197     75  ...      0      1      2      0      1\n",
            "\n",
            "[3 rows x 50325 columns]\n"
          ],
          "name": "stdout"
        }
      ]
    },
    {
      "cell_type": "markdown",
      "metadata": {
        "id": "m-L9eKoa56zU"
      },
      "source": [
        "Write a program to import excel data from the .csv file\n",
        "(generated in question 1) by excluding the last row and last\n",
        "column"
      ]
    },
    {
      "cell_type": "code",
      "metadata": {
        "colab": {
          "base_uri": "https://localhost:8080/"
        },
        "id": "bZTEpY-D3Jrr",
        "outputId": "59d00395-2468-41a8-ac6b-dd4a8c259d89"
      },
      "source": [
        "df = pd.read_csv(\"/content/sample_data/imgMatrix.csv\",skiprows = -1, usecols=range(225))\n",
        "print(df)"
      ],
      "execution_count": null,
      "outputs": [
        {
          "output_type": "stream",
          "text": [
            "     Unnamed: 0    0   1   2    3   4   5  ...  217  218  219  220  221  222  223\n",
            "0             0  154  23  55  154  23  55  ...   36   67  167   36   67  167   36\n",
            "1             1  167  36  67  167  36  67  ...   23   54  154   23   54  153   22\n",
            "2             2  153  22  53  153  22  53  ...    7   40  128    7   40  127    7\n",
            "3             3  127   7  42  126   6  41  ...   29   59  156   29   59  156   29\n",
            "4             4  156  29  59  156  29  59  ...   38   69  168   37   68  168   37\n",
            "..          ...  ...  ..  ..  ...  ..  ..  ...  ...  ...  ...  ...  ...  ...  ...\n",
            "666         666    1   0   0    1   0   0  ...    0    1    2    0    1    2    0\n",
            "667         667    2   0   1    2   0   1  ...    0    1    0    0    0    0    0\n",
            "668         668    0   0   0    1   1   1  ...    2    0    1    0    0    2    1\n",
            "669         669    1   0   0    6   5   3  ...    0    1    2    0    1    2    0\n",
            "670         670    2   0   1    2   0   1  ...    0    1    2    0    1    2    0\n",
            "\n",
            "[671 rows x 225 columns]\n"
          ],
          "name": "stdout"
        }
      ]
    },
    {
      "cell_type": "markdown",
      "metadata": {
        "id": "5YHmFNpKsLR0"
      },
      "source": [
        "Write a Pandas program to create the today's date"
      ]
    },
    {
      "cell_type": "code",
      "metadata": {
        "id": "-i3jfb8Lp6LU",
        "colab": {
          "base_uri": "https://localhost:8080/"
        },
        "outputId": "b3690fe5-5980-494d-d314-11c12638d076"
      },
      "source": [
        "from datetime import date\n",
        "today_date= pd.to_datetime(str(date.today()))\n",
        "print(\"Today's date:\", today_date)"
      ],
      "execution_count": null,
      "outputs": [
        {
          "output_type": "stream",
          "text": [
            "Today's date: 2021-08-10 00:00:00\n"
          ],
          "name": "stdout"
        }
      ]
    },
    {
      "cell_type": "markdown",
      "metadata": {
        "id": "xV1ZOJ706EvH"
      },
      "source": [
        "Create a mini calculator to know the age of a person after\n",
        "putting the range (i.e. date of birth and current date)"
      ]
    },
    {
      "cell_type": "code",
      "metadata": {
        "colab": {
          "base_uri": "https://localhost:8080/"
        },
        "id": "o-U70Vic6K39",
        "outputId": "38492da8-2ea9-40b2-cd41-e9f196fbe8bd"
      },
      "source": [
        "def calculateAge(birthDate):\n",
        "    today = date.today()\n",
        "    age = today.year - birthDate.year -((today.month, today.day) < (birthDate.month, birthDate.day))\n",
        "    return age\n",
        "\n",
        "birthDate = input(\"Enter birth date in dd-mm-yyyy format: \")\n",
        "dd, mm, yyyy = map(lambda x : int(x), birthDate.split(\"-\"))\n",
        "print(\"Age :\",calculateAge(date(yyyy, mm, dd)), \"years\")\n"
      ],
      "execution_count": null,
      "outputs": [
        {
          "output_type": "stream",
          "text": [
            "Enter birth date in dd-mm-yyyy format: 04-2-2010\n",
            "Age : 11 years\n"
          ],
          "name": "stdout"
        }
      ]
    }
  ]
}