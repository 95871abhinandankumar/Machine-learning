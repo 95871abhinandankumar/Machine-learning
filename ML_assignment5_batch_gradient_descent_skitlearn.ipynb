{
  "nbformat": 4,
  "nbformat_minor": 0,
  "metadata": {
    "colab": {
      "name": "ML_assignment5_batch_gradient_descent_skitlearn.ipynb",
      "provenance": [],
      "authorship_tag": "ABX9TyPGLqCjXanKGBrTd17GaKtr",
      "include_colab_link": true
    },
    "kernelspec": {
      "name": "python3",
      "display_name": "Python 3"
    },
    "language_info": {
      "name": "python"
    }
  },
  "cells": [
    {
      "cell_type": "markdown",
      "metadata": {
        "id": "view-in-github",
        "colab_type": "text"
      },
      "source": [
        "<a href=\"https://colab.research.google.com/github/95871abhinandankumar/95871abhinandankumar/blob/main/ML_assignment5_batch_gradient_descent_skitlearn.ipynb\" target=\"_parent\"><img src=\"https://colab.research.google.com/assets/colab-badge.svg\" alt=\"Open In Colab\"/></a>"
      ]
    },
    {
      "cell_type": "code",
      "metadata": {
        "colab": {
          "base_uri": "https://localhost:8080/"
        },
        "id": "JDQavY4IZFPT",
        "outputId": "2ed0bfd8-fcfa-4471-877d-bba1315190d2"
      },
      "source": [
        "from sklearn import datasets\n",
        "import pandas as pd\n",
        "\n",
        "\n",
        "boston = datasets.load_boston(return_X_y=False)\n",
        "boston_df = pd.DataFrame(boston.data, columns=boston.feature_names)\n",
        "boston_df['PRICE'] = boston.target\n",
        "print(boston_df)"
      ],
      "execution_count": 55,
      "outputs": [
        {
          "output_type": "stream",
          "name": "stdout",
          "text": [
            "        CRIM    ZN  INDUS  CHAS    NOX  ...    TAX  PTRATIO       B  LSTAT  PRICE\n",
            "0    0.00632  18.0   2.31   0.0  0.538  ...  296.0     15.3  396.90   4.98   24.0\n",
            "1    0.02731   0.0   7.07   0.0  0.469  ...  242.0     17.8  396.90   9.14   21.6\n",
            "2    0.02729   0.0   7.07   0.0  0.469  ...  242.0     17.8  392.83   4.03   34.7\n",
            "3    0.03237   0.0   2.18   0.0  0.458  ...  222.0     18.7  394.63   2.94   33.4\n",
            "4    0.06905   0.0   2.18   0.0  0.458  ...  222.0     18.7  396.90   5.33   36.2\n",
            "..       ...   ...    ...   ...    ...  ...    ...      ...     ...    ...    ...\n",
            "501  0.06263   0.0  11.93   0.0  0.573  ...  273.0     21.0  391.99   9.67   22.4\n",
            "502  0.04527   0.0  11.93   0.0  0.573  ...  273.0     21.0  396.90   9.08   20.6\n",
            "503  0.06076   0.0  11.93   0.0  0.573  ...  273.0     21.0  396.90   5.64   23.9\n",
            "504  0.10959   0.0  11.93   0.0  0.573  ...  273.0     21.0  393.45   6.48   22.0\n",
            "505  0.04741   0.0  11.93   0.0  0.573  ...  273.0     21.0  396.90   7.88   11.9\n",
            "\n",
            "[506 rows x 14 columns]\n"
          ]
        }
      ]
    },
    {
      "cell_type": "code",
      "metadata": {
        "colab": {
          "base_uri": "https://localhost:8080/"
        },
        "id": "oSRPZD32aC2D",
        "outputId": "96bcca5f-b129-4a0f-b2a8-d7689723b504"
      },
      "source": [
        "train_dataset = boston_df.sample(frac=0.3)\n",
        "dataframe = boston_df.drop(train_dataset.index)\n",
        "validation_dataset = dataframe.sample(frac=(.1/.7))\n",
        "test_dataset = dataframe.drop(validation_dataset.index)\n",
        "\n",
        "print(\"train dataset\\n\", train_dataset)\n",
        "# print(\"validation dataset\\n\", validation_dataset)\n",
        "# print(\"test dataset\\n\", test_dataset)"
      ],
      "execution_count": 56,
      "outputs": [
        {
          "output_type": "stream",
          "name": "stdout",
          "text": [
            "train dataset\n",
            "         CRIM    ZN  INDUS  CHAS    NOX  ...    TAX  PTRATIO       B  LSTAT  PRICE\n",
            "125  0.16902   0.0  25.65   0.0  0.581  ...  188.0     19.1  385.02  14.81   21.4\n",
            "288  0.04590  52.5   5.32   0.0  0.405  ...  293.0     16.6  396.90   7.60   22.3\n",
            "296  0.05372   0.0  13.92   0.0  0.437  ...  289.0     16.0  392.85   7.39   27.1\n",
            "433  5.58107   0.0  18.10   0.0  0.713  ...  666.0     20.2  100.19  16.22   14.3\n",
            "361  3.83684   0.0  18.10   0.0  0.770  ...  666.0     20.2  350.65  14.19   19.9\n",
            "..       ...   ...    ...   ...    ...  ...    ...      ...     ...    ...    ...\n",
            "219  0.11425   0.0  13.89   1.0  0.550  ...  276.0     16.4  393.74  10.50   23.0\n",
            "111  0.10084   0.0  10.01   0.0  0.547  ...  432.0     17.8  395.59  10.16   22.8\n",
            "314  0.36920   0.0   9.90   0.0  0.544  ...  304.0     18.4  395.69   9.28   23.8\n",
            "128  0.32543   0.0  21.89   0.0  0.624  ...  437.0     21.2  396.90  15.39   18.0\n",
            "118  0.13058   0.0  10.01   0.0  0.547  ...  432.0     17.8  338.63  15.37   20.4\n",
            "\n",
            "[152 rows x 14 columns]\n"
          ]
        }
      ]
    },
    {
      "cell_type": "code",
      "metadata": {
        "id": "niXZTn17bJbE"
      },
      "source": [
        "from sklearn import preprocessing\n",
        "import numpy as np\n"
      ],
      "execution_count": 57,
      "outputs": []
    },
    {
      "cell_type": "code",
      "metadata": {
        "id": "oBQoOEEimV9u"
      },
      "source": [
        "def hypothesis(w, index, dataset):\n",
        "  sample =dataset[index][:-1]\n",
        "  sample = np.concatenate([[1], sample])\n",
        "  array = np.multiply(w, sample)\n",
        "  return np.sum(array)"
      ],
      "execution_count": 58,
      "outputs": []
    },
    {
      "cell_type": "code",
      "metadata": {
        "id": "EH8e0VXoePEz"
      },
      "source": [
        "# to calculate the predicted value with the help of hypothesis function\n",
        "def predicted_values(w, dataset):\n",
        "  predicted = []\n",
        "  for i in range(len(dataset)):\n",
        "    predicted.append(hypothesis(w, i, dataset))\n",
        "  \n",
        "  return np.array(predicted)\n",
        "\n",
        "\n",
        "# to calculate mean square error\n",
        "def MSE(predicted, actual):\n",
        "  return np.square(np.subtract(predicted, actual)).mean()/2"
      ],
      "execution_count": 59,
      "outputs": []
    },
    {
      "cell_type": "code",
      "metadata": {
        "id": "BgIvLeP7jRjb"
      },
      "source": [
        "# to update w using batch gradient decendent\n",
        "def update_parameter(w, alpha, dataset):\n",
        "  predicted = predicted_values(w, dataset)\n",
        "  m = len(dataset)\n",
        "  w[0] = w[0] - (alpha /m)*(np.sum(np.subtract(predicted, dataset[:, -1])))\n",
        "  for i in range(1, len(w)):\n",
        "    w[i] = w[i] - (alpha /m)*(np.sum(np.multiply(np.subtract(predicted, dataset[:, -1]), dataset[:, i-1])))\n",
        "  return w"
      ],
      "execution_count": 60,
      "outputs": []
    },
    {
      "cell_type": "code",
      "metadata": {
        "id": "MIo-7ZE8a-By"
      },
      "source": [
        "def linear_regression(epoch, alpha, rho, w, train_dataset):\n",
        "  pre_MSE = 0\n",
        "  curr_MSE = 0\n",
        "  for itr in range(epoch):\n",
        "    predicted = predicted_values(w, train_dataset)\n",
        "    curr_MSE = MSE(predicted, train_dataset[:,-1])\n",
        "    w = update_parameter(w, alpha, train_dataset)\n",
        "\n",
        "    if abs(curr_MSE - pre_MSE) <= rho:\n",
        "      break;\n",
        "    pre_MSE = curr_MSE\n",
        "  return w, curr_MSE"
      ],
      "execution_count": 61,
      "outputs": []
    },
    {
      "cell_type": "code",
      "metadata": {
        "colab": {
          "base_uri": "https://localhost:8080/"
        },
        "id": "nQ1Sx46bjoI4",
        "outputId": "1ea2b114-0ad0-46d9-b055-8c7bef398e9d"
      },
      "source": [
        "\n",
        "train = preprocessing.normalize(train_dataset.to_numpy())\n",
        "validation = preprocessing.normalize(validation_dataset.to_numpy())\n",
        "test = preprocessing.normalize(test_dataset.to_numpy())\n",
        "\n",
        "print(\"train dataset after normalization...\")\n",
        "print(train, \"\\n\\n\\n\\n\")\n",
        "print(\"validation dataset after normalization...\")\n",
        "print(validation, \"\\n\\n\\n\\n\")\n",
        "print(\"test dataset after normalization...\")\n",
        "print(test)"
      ],
      "execution_count": 62,
      "outputs": [
        {
          "output_type": "stream",
          "name": "stdout",
          "text": [
            "train dataset after normalization...\n",
            "[[3.84590394e-04 0.00000000e+00 5.83643569e-02 ... 8.76079715e-01\n",
            "  3.36988743e-02 4.86938494e-02]\n",
            " [9.19467318e-05 1.05167831e-01 1.06570068e-02 ... 7.95068799e-01\n",
            "  1.52242955e-02 4.46712880e-02]\n",
            " [1.09249627e-04 0.00000000e+00 2.83089129e-02 ... 7.98933652e-01\n",
            "  1.50289416e-02 5.51128980e-02]\n",
            " ...\n",
            " [7.27186660e-04 0.00000000e+00 1.94993173e-02 ... 7.79362106e-01\n",
            "  1.82781479e-02 4.68771466e-02]\n",
            " [5.42526027e-04 0.00000000e+00 3.64929316e-02 ... 6.61674032e-01\n",
            "  2.56567482e-02 3.00078926e-02]\n",
            " [2.35371276e-04 0.00000000e+00 1.80430883e-02 ... 6.10382718e-01\n",
            "  2.77045222e-02 3.67711291e-02]] \n",
            "\n",
            "\n",
            "\n",
            "\n",
            "validation dataset after normalization...\n",
            "[[6.04500576e-03 0.00000000e+00 2.35457703e-02 0.00000000e+00\n",
            "  7.98734969e-04 9.08008157e-03 8.79388988e-02 3.29497688e-03\n",
            "  3.12209108e-02 8.66380276e-01 2.62775999e-02 4.87410453e-01\n",
            "  1.51681592e-02 3.87659643e-02]\n",
            " [4.06647704e-05 1.54103976e-01 3.79189177e-03 0.00000000e+00\n",
            "  7.75189697e-04 1.42149243e-02 2.93264536e-02 1.17119022e-02\n",
            "  3.73585396e-03 6.50038589e-01 2.74585266e-02 7.38540970e-01\n",
            "  5.80925291e-03 7.90133113e-02]\n",
            " [3.86836980e-04 4.32945696e-02 1.15320990e-02 0.00000000e+00\n",
            "  8.48179978e-04 1.22523632e-02 1.55860451e-01 1.58527003e-02\n",
            "  1.37755449e-02 6.49418545e-01 3.75875582e-02 7.40219065e-01\n",
            "  1.99745401e-02 4.03426672e-02]\n",
            " [2.37724734e-03 0.00000000e+00 3.85503825e-02 0.00000000e+00\n",
            "  1.19116350e-03 1.15670836e-02 1.86254657e-01 4.77627033e-03\n",
            "  9.84432649e-03 7.93452715e-01 2.89423199e-02 5.75479638e-01\n",
            "  2.84107262e-02 3.42582562e-02]\n",
            " [2.22998465e-04 5.05573739e-02 1.03743731e-02 0.00000000e+00\n",
            "  9.16099614e-04 1.30559362e-02 1.37111598e-01 1.46120922e-02\n",
            "  1.61783596e-02 5.74331767e-01 3.98392106e-02 8.02648867e-01\n",
            "  1.36100450e-02 4.48949480e-02]\n",
            " [1.19614375e-04 7.20437008e-02 4.75925053e-03 0.00000000e+00\n",
            "  1.03044324e-03 1.44436704e-02 1.26840576e-01 7.35719005e-03\n",
            "  1.52819971e-02 4.84657623e-01 4.01698210e-02 8.58760913e-01\n",
            "  1.94954621e-02 6.20012455e-02]\n",
            " [1.47717769e-04 7.94181556e-02 6.07107678e-03 0.00000000e+00\n",
            "  7.71238533e-04 1.26804322e-02 6.86525834e-02 8.05953091e-03\n",
            "  8.82423951e-03 7.02409465e-01 2.68256881e-02 7.00468132e-01\n",
            "  9.51253019e-03 6.15931918e-02]\n",
            " [7.99301274e-04 0.00000000e+00 1.21548843e-02 1.96046522e-03\n",
            "  9.93955865e-04 1.20843076e-02 1.78990474e-01 5.97549798e-03\n",
            "  1.56837217e-02 6.01862822e-01 3.41120948e-02 7.74854272e-01\n",
            "  4.20715836e-02 4.25420952e-02]\n",
            " [5.26871410e-03 0.00000000e+00 4.33571587e-02 0.00000000e+00\n",
            "  1.92870711e-03 1.35740236e-02 2.21435949e-01 3.14239755e-03\n",
            "  1.10717974e-02 8.92386873e-01 3.25510844e-02 3.82884899e-01\n",
            "  6.15591937e-02 3.05581609e-02]\n",
            " [4.61518074e-03 0.00000000e+00 3.68908480e-02 0.00000000e+00\n",
            "  1.13988575e-03 1.20620638e-02 1.79367147e-01 4.26279590e-03\n",
            "  9.42054342e-03 7.59295800e-01 2.76963977e-02 6.21831230e-01\n",
            "  2.13281103e-02 4.20156237e-02]\n",
            " [8.99025654e-05 1.09841394e-01 1.11305946e-02 0.00000000e+00\n",
            "  8.47347894e-04 1.37354047e-02 4.79117698e-02 1.53091704e-02\n",
            "  1.25533021e-02 6.13019587e-01 3.47308026e-02 7.77718911e-01\n",
            "  1.98969839e-02 5.18869821e-02]\n",
            " [3.69805668e-04 4.26557159e-02 1.13619316e-02 0.00000000e+00\n",
            "  8.35664252e-04 1.30255045e-02 3.39306831e-02 1.51747709e-02\n",
            "  1.35722732e-02 6.39835738e-01 3.70329170e-02 7.63420981e-01\n",
            "  1.27191589e-02 5.07990798e-02]\n",
            " [9.06726337e-05 5.08026858e-02 9.87604213e-03 0.00000000e+00\n",
            "  8.65677767e-04 1.34505191e-02 1.43060363e-01 1.09748026e-02\n",
            "  8.12842973e-03 5.71022189e-01 3.86100412e-02 8.03962664e-01\n",
            "  1.46718157e-02 4.85673677e-02]\n",
            " [5.19783335e-04 0.00000000e+00 2.18441427e-02 0.00000000e+00\n",
            "  1.00866721e-03 1.19286759e-02 1.49959318e-01 8.98291379e-03\n",
            "  8.25085655e-03 5.71371816e-01 3.83664829e-02 8.03282766e-01\n",
            "  3.72526173e-02 4.64110681e-02]\n",
            " [1.26243020e-05 3.59552904e-02 4.61426227e-03 0.00000000e+00\n",
            "  1.07466368e-03 1.31336686e-02 1.30238052e-01 8.16984100e-03\n",
            "  1.99751614e-03 5.91264776e-01 3.05619969e-02 7.92814154e-01\n",
            "  9.94763036e-03 4.79403873e-02]\n",
            " [7.60787780e-05 1.68362441e-01 1.04174260e-02 0.00000000e+00\n",
            "  8.64962040e-04 1.39530373e-02 4.92460140e-02 1.07682513e-02\n",
            "  8.41812204e-03 5.15609975e-01 4.04069858e-02 8.35288160e-01\n",
            "  9.89129340e-03 5.87164013e-02]\n",
            " [4.01783896e-04 0.00000000e+00 2.22287933e-02 0.00000000e+00\n",
            "  8.49259169e-04 1.28417034e-02 1.27491691e-02 1.08723681e-02\n",
            "  8.22527040e-03 6.27176868e-01 3.94812979e-02 7.75581309e-01\n",
            "  1.55046347e-02 4.81178319e-02]\n",
            " [2.56594596e-04 2.36641025e-02 1.14912882e-02 0.00000000e+00\n",
            "  7.74289434e-04 1.05901592e-02 6.96671178e-02 1.23015470e-02\n",
            "  7.57251280e-03 6.53129229e-01 3.57801230e-02 7.51382583e-01\n",
            "  2.47810481e-02 3.29404307e-02]\n",
            " [1.44310800e-03 0.00000000e+00 1.61847604e-02 0.00000000e+00\n",
            "  1.06970529e-03 1.13869930e-02 1.38186836e-01 7.54858020e-03\n",
            "  7.95319921e-03 6.10408040e-01 4.17542959e-02 7.77325808e-01\n",
            "  2.24280218e-02 3.61870564e-02]\n",
            " [7.97260288e-04 0.00000000e+00 1.96330452e-02 0.00000000e+00\n",
            "  1.07882592e-03 1.26563732e-02 1.33266731e-01 7.00542751e-03\n",
            "  7.93254353e-03 6.02873309e-01 3.64897003e-02 7.83755133e-01\n",
            "  2.05452878e-02 4.58104389e-02]\n",
            " [2.37045153e-04 0.00000000e+00 5.95497646e-03 0.00000000e+00\n",
            "  9.16942743e-04 1.26991419e-02 1.43413966e-01 7.20201859e-03\n",
            "  4.12109098e-03 5.68710555e-01 3.70898188e-02 8.07383539e-01\n",
            "  2.33665858e-02 4.40956735e-02]\n",
            " [9.24296982e-04 0.00000000e+00 6.12061897e-02 0.00000000e+00\n",
            "  1.38638582e-03 1.33937756e-02 2.28121315e-01 4.19304158e-03\n",
            "  4.77241245e-03 4.48606771e-01 4.55765389e-02 8.57340035e-01\n",
            "  6.50479817e-02 3.74634378e-02]\n",
            " [6.66614917e-03 0.00000000e+00 2.31954315e-02 1.28151555e-03\n",
            "  9.86766977e-04 7.85184580e-03 1.06878397e-01 3.48918240e-03\n",
            "  3.07563733e-02 8.53489359e-01 2.58866142e-02 5.06749696e-01\n",
            "  1.47117986e-02 2.90904031e-02]\n",
            " [1.68976769e-04 0.00000000e+00 5.96485725e-03 0.00000000e+00\n",
            "  9.18464178e-04 1.61402020e-02 7.61602881e-02 7.21396853e-03\n",
            "  4.12792889e-03 5.69654187e-01 3.71513600e-02 8.12231928e-01\n",
            "  7.36835307e-03 9.04016427e-02]\n",
            " [6.17102473e-04 0.00000000e+00 1.50071383e-02 0.00000000e+00\n",
            "  1.00250937e-03 1.28353735e-02 5.87677908e-02 1.10131653e-02\n",
            "  1.01674379e-02 5.83610933e-01 3.98563564e-02 8.07091217e-01\n",
            "  1.25059486e-02 4.67702141e-02]\n",
            " [3.54986242e-04 5.16839792e-02 1.06055525e-02 0.00000000e+00\n",
            "  9.36513702e-04 1.23338648e-02 1.93091346e-01 1.40962885e-02\n",
            "  1.65388733e-02 5.87130003e-01 4.07269756e-02 7.81627154e-01\n",
            "  2.98526664e-02 3.30777467e-02]\n",
            " [1.75339913e-02 0.00000000e+00 2.68673537e-02 0.00000000e+00\n",
            "  1.06578784e-03 1.01294376e-02 1.13555390e-01 2.66298522e-03\n",
            "  3.56252203e-02 9.88599864e-01 2.99845605e-02 7.19184136e-02\n",
            "  3.37548963e-02 1.24688271e-02]\n",
            " [1.40275979e-04 0.00000000e+00 5.90958570e-03 0.00000000e+00\n",
            "  9.09953507e-04 1.51645286e-02 1.27802459e-01 7.14712247e-03\n",
            "  4.08967868e-03 5.64375658e-01 3.68071081e-02 8.11596734e-01\n",
            "  1.26575555e-02 6.78886661e-02]\n",
            " [3.19685275e-02 0.00000000e+00 2.31026127e-02 0.00000000e+00\n",
            "  8.84536496e-04 7.64173160e-03 1.27638744e-01 2.02792436e-03\n",
            "  3.06332986e-02 8.50074035e-01 2.57830263e-02 5.06598175e-01\n",
            "  3.41688918e-02 7.14776966e-03]\n",
            " [1.39088039e-04 4.53868622e-02 7.55691255e-03 2.26934311e-03\n",
            "  1.00509206e-03 1.73491281e-02 1.12786352e-01 1.18275893e-02\n",
            "  1.13467155e-02 4.90178111e-01 3.38132123e-02 8.55701206e-01\n",
            "  6.83072275e-03 1.04389783e-01]\n",
            " [7.35119613e-03 0.00000000e+00 2.32163558e-02 0.00000000e+00\n",
            "  6.82381287e-04 9.05694412e-03 9.87657126e-02 4.37467973e-03\n",
            "  3.07841182e-02 8.54259281e-01 2.59099662e-02 5.07014427e-01\n",
            "  8.99152787e-03 3.20667898e-02]\n",
            " [9.25504598e-05 4.48134576e-02 1.20356143e-02 0.00000000e+00\n",
            "  9.36814661e-04 1.30492521e-02 1.34440373e-01 1.45423938e-02\n",
            "  8.53589669e-03 5.18555724e-01 3.58507661e-02 8.40721804e-01\n",
            "  2.01233764e-02 4.37464705e-02]\n",
            " [1.35603531e-03 0.00000000e+00 1.64279850e-02 0.00000000e+00\n",
            "  1.08578083e-03 1.17316802e-02 1.82241652e-01 9.44911867e-03\n",
            "  8.07271992e-03 6.19581254e-01 4.23817796e-02 7.60611671e-01\n",
            "  2.98892455e-02 3.35017877e-02]\n",
            " [1.48541184e-02 0.00000000e+00 2.42491065e-02 0.00000000e+00\n",
            "  9.61925881e-04 8.58900672e-03 1.33972964e-01 2.49042343e-03\n",
            "  3.21535113e-02 8.92259940e-01 2.70625387e-02 4.27038822e-01\n",
            "  2.01227392e-02 2.23734850e-02]\n",
            " [1.11710667e-02 0.00000000e+00 2.31962954e-02 0.00000000e+00\n",
            "  8.88123353e-04 8.29299599e-03 1.26618452e-01 2.21159375e-03\n",
            "  3.07575187e-02 8.53521145e-01 2.58875783e-02 5.02347175e-01\n",
            "  2.19403634e-02 1.67884790e-02]\n",
            " [6.33178818e-03 0.00000000e+00 2.33973497e-02 0.00000000e+00\n",
            "  8.15675560e-04 6.42457613e-03 1.29267125e-01 1.72248444e-03\n",
            "  3.10241101e-02 8.60919054e-01 2.61119593e-02 4.85423909e-01\n",
            "  4.21410828e-03 6.46335626e-02]\n",
            " [2.61130576e-03 0.00000000e+00 3.49397050e-02 0.00000000e+00\n",
            "  1.07959763e-03 1.33638126e-02 1.62028867e-01 3.51699002e-03\n",
            "  8.92229444e-03 7.19136932e-01 2.62315457e-02 6.68154941e-01\n",
            "  3.08711388e-03 8.92229444e-02]\n",
            " [1.96604543e-02 0.00000000e+00 2.63162963e-02 0.00000000e+00\n",
            "  9.17435523e-04 5.61656645e-03 1.45393902e-01 2.19632029e-03\n",
            "  3.48945365e-02 9.68323389e-01 2.93695683e-02 1.91076666e-01\n",
            "  1.93810072e-02 3.35859914e-02]\n",
            " [3.20656738e-03 0.00000000e+00 3.42379847e-02 1.74862026e-03\n",
            "  1.05791526e-03 1.36427353e-02 1.71714510e-01 3.56840937e-03\n",
            "  8.74310131e-03 7.04693966e-01 2.57047179e-02 6.81279940e-01\n",
            "  3.35735090e-03 8.74310131e-02]\n",
            " [3.17976161e-04 5.14691099e-02 1.05614613e-02 0.00000000e+00\n",
            "  9.32620271e-04 1.26511072e-02 6.01159204e-02 1.60888320e-02\n",
            "  1.64701152e-02 5.84689088e-01 4.05576586e-02 8.04318074e-01\n",
            "  1.41231238e-02 4.79692104e-02]\n",
            " [3.06661871e-05 1.63444035e-01 4.10653139e-03 0.00000000e+00\n",
            "  8.88726943e-04 1.35556397e-02 6.06785982e-02 1.70472129e-02\n",
            "  8.17220177e-03 5.72054124e-01 3.47318575e-02 7.98710140e-01\n",
            "  1.22378722e-02 5.00547359e-02]\n",
            " [2.24416632e-04 0.00000000e+00 2.44300613e-02 0.00000000e+00\n",
            "  1.17338015e-03 1.39126435e-02 1.82867098e-01 4.89195084e-03\n",
            "  2.04778385e-03 5.59044991e-01 4.30034608e-02 8.05700556e-01\n",
            "  1.32696393e-02 4.50512447e-02]\n",
            " [8.79535518e-05 5.73521065e-02 3.08062743e-02 0.00000000e+00\n",
            "  9.50406336e-04 1.27997612e-02 1.58332780e-01 7.40456660e-03\n",
            "  8.19315807e-03 5.53038169e-01 3.72788692e-02 8.12966109e-01\n",
            "  2.16913860e-02 4.21947640e-02]\n",
            " [1.66000469e-04 0.00000000e+00 2.81830288e-02 0.00000000e+00\n",
            "  8.84768937e-04 1.21660790e-02 8.56423937e-02 1.11410024e-02\n",
            "  8.09857151e-03 5.85121791e-01 3.23942860e-02 8.03580758e-01\n",
            "  2.10562859e-02 4.39347504e-02]\n",
            " [4.73468092e-04 0.00000000e+00 1.53733902e-02 0.00000000e+00\n",
            "  9.33897538e-04 1.11870149e-02 1.63791260e-01 4.57088966e-03\n",
            "  8.97978402e-03 6.89647412e-01 3.75354972e-02 7.02632180e-01\n",
            "  2.79271283e-02 3.48415620e-02]\n",
            " [3.50677523e-04 0.00000000e+00 5.98143268e-02 0.00000000e+00\n",
            "  1.35485863e-03 1.36558557e-02 2.26198429e-01 4.53422912e-03\n",
            "  4.66388513e-03 4.38405202e-01 4.45401030e-02 8.63541651e-01\n",
            "  5.92546605e-02 4.03426064e-02]\n",
            " [1.23222401e-04 8.02345256e-02 6.13348374e-03 0.00000000e+00\n",
            "  7.79166393e-04 1.20155660e-02 5.49160753e-02 1.15534151e-02\n",
            "  8.91494729e-03 7.09629805e-01 2.71014398e-02 6.94848822e-01\n",
            "  8.36222056e-03 5.43811785e-02]\n",
            " [1.20726786e-04 0.00000000e+00 8.60095081e-03 0.00000000e+00\n",
            "  8.65972724e-04 1.15554460e-02 1.02466908e-01 1.57003598e-02\n",
            "  5.87764292e-03 6.89643436e-01 3.68332290e-02 7.14349129e-01\n",
            "  2.48232453e-02 3.36984861e-02]\n",
            " [9.94252381e-03 0.00000000e+00 2.43060987e-02 0.00000000e+00\n",
            "  8.01698393e-04 7.54294786e-03 1.31467793e-01 1.95348518e-03\n",
            "  3.22290811e-02 8.94357001e-01 2.71261433e-02 4.22523253e-01\n",
            "  3.54519892e-02 2.30975081e-02]\n",
            " [1.94739287e-04 6.62113576e-02 1.18596226e-02 0.00000000e+00\n",
            "  8.43221113e-04 1.35966970e-02 3.44688538e-02 1.06944974e-02\n",
            "  1.36317501e-02 6.40692254e-01 3.13530252e-02 7.60320598e-01\n",
            "  9.46432935e-03 6.44587040e-02]\n",
            " [6.61308719e-04 4.28119702e-02 1.14035521e-02 0.00000000e+00\n",
            "  8.38725415e-04 1.18861597e-02 6.79153527e-02 1.56759921e-02\n",
            "  1.36219905e-02 6.42179552e-01 3.71685741e-02 7.59289751e-01\n",
            "  1.78253476e-02 4.72877670e-02]] \n",
            "\n",
            "\n",
            "\n",
            "\n",
            "test dataset after normalization...\n",
            "[[5.77925202e-05 0.00000000e+00 1.49613006e-02 ... 8.39906675e-01\n",
            "  1.93417662e-02 4.57092068e-02]\n",
            " [7.08588179e-05 0.00000000e+00 4.77207979e-03 ... 8.63855894e-01\n",
            "  6.43574064e-03 7.31135161e-02]\n",
            " [1.50129419e-04 0.00000000e+00 4.73978471e-03 ... 8.62945207e-01\n",
            "  1.15885562e-02 7.87065168e-02]\n",
            " ...\n",
            " [9.25854673e-05 0.00000000e+00 2.43990419e-02 ... 8.11733421e-01\n",
            "  1.85702682e-02 4.21307848e-02]\n",
            " [1.23619418e-04 0.00000000e+00 2.42722128e-02 ... 8.07513938e-01\n",
            "  1.14748768e-02 4.86258078e-02]\n",
            " [9.68927614e-05 0.00000000e+00 2.43815786e-02 ... 8.11152436e-01\n",
            "  1.61045130e-02 2.43202670e-02]]\n"
          ]
        }
      ]
    },
    {
      "cell_type": "code",
      "metadata": {
        "colab": {
          "base_uri": "https://localhost:8080/"
        },
        "id": "4Bv0GlJdjq66",
        "outputId": "61dd93cb-b4ad-4c33-a8ce-250f7cb34d8d"
      },
      "source": [
        "trains_MSE=[]\n",
        "validations_MSE =[]\n",
        "w=[1 for _ in range(14)]\n",
        "for i in range(1, 100):\n",
        "  w=[1 for _ in range(14)]\n",
        "  w, mse = linear_regression(i, 0.1, 0.001, w, train)\n",
        "  trains_MSE.append(mse)\n",
        "  predicted = predicted_values(w, validation)\n",
        "  validations_MSE.append(MSE(predicted, validation[:,-1]))\n",
        "\n",
        "print(trains_MSE)\n",
        "print(validations_MSE)\n",
        "predicted = predicted_values(w, test)\n",
        "test_MSE = MSE(predicted, test[:,-1])\n",
        "print(test_MSE)\n",
        "\n"
      ],
      "execution_count": 63,
      "outputs": [
        {
          "output_type": "stream",
          "name": "stdout",
          "text": [
            "[3.2774123368489523, 2.138166569921674, 1.3950531256195, 0.9103310121941285, 0.5941537916298687, 0.38791594409091873, 0.25338994457929137, 0.16564053662825118, 0.10840281647814365, 0.07106742486034172, 0.04671403161155922, 0.0308286063972254, 0.020466713131102595, 0.013707739140395005, 0.009298896817940897, 0.0064230110972117085, 0.004547050612359998, 0.0033233267852354627, 0.0025250474322550402, 0.0025250474322550402, 0.0025250474322550402, 0.0025250474322550402, 0.0025250474322550402, 0.0025250474322550402, 0.0025250474322550402, 0.0025250474322550402, 0.0025250474322550402, 0.0025250474322550402, 0.0025250474322550402, 0.0025250474322550402, 0.0025250474322550402, 0.0025250474322550402, 0.0025250474322550402, 0.0025250474322550402, 0.0025250474322550402, 0.0025250474322550402, 0.0025250474322550402, 0.0025250474322550402, 0.0025250474322550402, 0.0025250474322550402, 0.0025250474322550402, 0.0025250474322550402, 0.0025250474322550402, 0.0025250474322550402, 0.0025250474322550402, 0.0025250474322550402, 0.0025250474322550402, 0.0025250474322550402, 0.0025250474322550402, 0.0025250474322550402, 0.0025250474322550402, 0.0025250474322550402, 0.0025250474322550402, 0.0025250474322550402, 0.0025250474322550402, 0.0025250474322550402, 0.0025250474322550402, 0.0025250474322550402, 0.0025250474322550402, 0.0025250474322550402, 0.0025250474322550402, 0.0025250474322550402, 0.0025250474322550402, 0.0025250474322550402, 0.0025250474322550402, 0.0025250474322550402, 0.0025250474322550402, 0.0025250474322550402, 0.0025250474322550402, 0.0025250474322550402, 0.0025250474322550402, 0.0025250474322550402, 0.0025250474322550402, 0.0025250474322550402, 0.0025250474322550402, 0.0025250474322550402, 0.0025250474322550402, 0.0025250474322550402, 0.0025250474322550402, 0.0025250474322550402, 0.0025250474322550402, 0.0025250474322550402, 0.0025250474322550402, 0.0025250474322550402, 0.0025250474322550402, 0.0025250474322550402, 0.0025250474322550402, 0.0025250474322550402, 0.0025250474322550402, 0.0025250474322550402, 0.0025250474322550402, 0.0025250474322550402, 0.0025250474322550402, 0.0025250474322550402, 0.0025250474322550402, 0.0025250474322550402, 0.0025250474322550402, 0.0025250474322550402, 0.0025250474322550402]\n",
            "[2.167847996939633, 1.4160447467489876, 0.9253918915762773, 0.6051341044522945, 0.3960633023597147, 0.25955107608326383, 0.17039434521901475, 0.11214839334950026, 0.07408244076876766, 0.04919361981672719, 0.03291136717196853, 0.022252194436861564, 0.01526825764490935, 0.010687586687886498, 0.0076793471953086395, 0.0057006717637954375, 0.004396707783782085, 0.0035353858342838914, 0.0029648423867348057, 0.0029648423867348057, 0.0029648423867348057, 0.0029648423867348057, 0.0029648423867348057, 0.0029648423867348057, 0.0029648423867348057, 0.0029648423867348057, 0.0029648423867348057, 0.0029648423867348057, 0.0029648423867348057, 0.0029648423867348057, 0.0029648423867348057, 0.0029648423867348057, 0.0029648423867348057, 0.0029648423867348057, 0.0029648423867348057, 0.0029648423867348057, 0.0029648423867348057, 0.0029648423867348057, 0.0029648423867348057, 0.0029648423867348057, 0.0029648423867348057, 0.0029648423867348057, 0.0029648423867348057, 0.0029648423867348057, 0.0029648423867348057, 0.0029648423867348057, 0.0029648423867348057, 0.0029648423867348057, 0.0029648423867348057, 0.0029648423867348057, 0.0029648423867348057, 0.0029648423867348057, 0.0029648423867348057, 0.0029648423867348057, 0.0029648423867348057, 0.0029648423867348057, 0.0029648423867348057, 0.0029648423867348057, 0.0029648423867348057, 0.0029648423867348057, 0.0029648423867348057, 0.0029648423867348057, 0.0029648423867348057, 0.0029648423867348057, 0.0029648423867348057, 0.0029648423867348057, 0.0029648423867348057, 0.0029648423867348057, 0.0029648423867348057, 0.0029648423867348057, 0.0029648423867348057, 0.0029648423867348057, 0.0029648423867348057, 0.0029648423867348057, 0.0029648423867348057, 0.0029648423867348057, 0.0029648423867348057, 0.0029648423867348057, 0.0029648423867348057, 0.0029648423867348057, 0.0029648423867348057, 0.0029648423867348057, 0.0029648423867348057, 0.0029648423867348057, 0.0029648423867348057, 0.0029648423867348057, 0.0029648423867348057, 0.0029648423867348057, 0.0029648423867348057, 0.0029648423867348057, 0.0029648423867348057, 0.0029648423867348057, 0.0029648423867348057, 0.0029648423867348057, 0.0029648423867348057, 0.0029648423867348057, 0.0029648423867348057, 0.0029648423867348057, 0.0029648423867348057]\n",
            "0.002240030582490168\n"
          ]
        }
      ]
    },
    {
      "cell_type": "code",
      "metadata": {
        "colab": {
          "base_uri": "https://localhost:8080/",
          "height": 282
        },
        "id": "NdVpBefFncUN",
        "outputId": "289f1e13-4e2b-4b2c-effe-fd62892c80a0"
      },
      "source": [
        "import matplotlib.pyplot as plt\n",
        "\n",
        "# print(trains_MSE1)\n",
        "epoch = [i+1 for i in range(len(trains_MSE))]\n",
        "plt.plot(epoch, trains_MSE)"
      ],
      "execution_count": 64,
      "outputs": [
        {
          "output_type": "execute_result",
          "data": {
            "text/plain": [
              "[<matplotlib.lines.Line2D at 0x7fb11a3f4110>]"
            ]
          },
          "metadata": {},
          "execution_count": 64
        },
        {
          "output_type": "display_data",
          "data": {
            "image/png": "[encoded data removed]",
            "text/plain": [
              "<Figure size 432x288 with 1 Axes>"
            ]
          },
          "metadata": {
            "needs_background": "light"
          }
        }
      ]
    },
    {
      "cell_type": "code",
      "metadata": {
        "colab": {
          "base_uri": "https://localhost:8080/",
          "height": 282
        },
        "id": "DU27tdvhw-NW",
        "outputId": "16c112a0-15d5-44a2-8272-e162f914a3e7"
      },
      "source": [
        "plt.plot(epoch, validations_MSE)"
      ],
      "execution_count": 65,
      "outputs": [
        {
          "output_type": "execute_result",
          "data": {
            "text/plain": [
              "[<matplotlib.lines.Line2D at 0x7fb11a361e90>]"
            ]
          },
          "metadata": {},
          "execution_count": 65
        },
        {
          "output_type": "display_data",
          "data": {
            "image/png": "[encoded data removed]",
            "text/plain": [
              "<Figure size 432x288 with 1 Axes>"
            ]
          },
          "metadata": {
            "needs_background": "light"
          }
        }
      ]
    },
    {
      "cell_type": "code",
      "metadata": {
        "colab": {
          "base_uri": "https://localhost:8080/"
        },
        "id": "PIVqTQW3oefW",
        "outputId": "85151605-3f6d-4c9c-99ae-93668438ecdc"
      },
      "source": [
        "from sklearn.linear_model import LinearRegression\n",
        "reg = LinearRegression()\n",
        "reg.fit(np.delete(train, -1, 1),  train[:,-1])\n",
        "\n",
        "\n",
        "from sklearn.metrics import mean_squared_error\n",
        "mse_train = mean_squared_error(train[:,-1], reg.predict(np.delete(train, -1, 1)), sample_weight=None)\n",
        "mse_validation = mean_squared_error(validation[:,-1], reg.predict(np.delete(validation, -1, 1)), sample_weight=None)\n",
        "mse_test = mean_squared_error(test[:,-1], reg.predict(np.delete(test, -1, 1)), sample_weight=None)\n",
        "print(\"train_mse\", mse_train)\n",
        "print(\"validation mse\", mse_validation)\n",
        "print(\"test_mse\", mse_test)"
      ],
      "execution_count": 66,
      "outputs": [
        {
          "output_type": "stream",
          "name": "stdout",
          "text": [
            "train_mse 5.717922137682838e-05\n",
            "validation mse 0.00012231785774215268\n",
            "test_mse 7.223464275372289e-05\n"
          ]
        }
      ]
    },
    {
      "cell_type": "code",
      "metadata": {
        "colab": {
          "base_uri": "https://localhost:8080/"
        },
        "id": "02VC4OLFwBHC",
        "outputId": "7a2ce562-1e1f-4feb-fe57-982e93ec1bf8"
      },
      "source": [
        "train_UN = train_dataset.to_numpy()\n",
        "validation_UN = validation_dataset.to_numpy()\n",
        "test_UN = test_dataset.to_numpy()\n",
        "\n",
        "trains_MSE=[]\n",
        "validations_MSE =[]\n",
        "w=[1 for _ in range(14)]\n",
        "for i in range(1, 100):\n",
        "  w=[1 for _ in range(14)]\n",
        "  w, mse = linear_regression(i, 0.0000001, 0.001, w, train_UN)\n",
        "  trains_MSE.append(mse)\n",
        "  predicted = predicted_values(w, validation_UN)\n",
        "  validations_MSE.append(MSE(predicted, validation_UN[:,-1]))\n",
        "\n",
        "print(trains_MSE)\n",
        "print(validations_MSE)\n",
        "predicted = predicted_values(w, test_UN)\n",
        "test_MSE = MSE(predicted, test_UN[:,-1])\n",
        "print(test_MSE)"
      ],
      "execution_count": 67,
      "outputs": [
        {
          "output_type": "stream",
          "name": "stdout",
          "text": [
            "[417244.11242627277, 391141.8010352887, 366674.159429641, 343738.8136656131, 322239.801149251, 302087.1691141673, 283196.59824538964, 265489.0498744361, 248890.43526942568, 233331.30563648662, 218746.56153537775, 205075.18049347366, 192259.96167841047, 180247.28656106067, 168986.8945674164, 158431.6727806724, 148537.45881359116, 139262.8560263369, 130569.06031662204, 122419.69775742905, 114780.67240295949, 107620.02362600615, 100907.79238982673, 94615.89589497929, 88718.01007662302, 83189.45946063496, 78007.1139176834, 73149.29188326134, 68595.66963873779, 64327.19627384481, 60326.01397479019, 56575.383304468945, 53059.61316213496, 49763.99512947259, 46674.74192836261, 43778.9297328402, 41064.44409386923, 38519.92925067387, 36134.740616538365, 33898.900240268165, 31803.055056956433, 29838.437753370523, 27996.830084213496, 26270.52848576996, 24652.311843058535, 23135.411275623967, 21713.48181554762, 20380.575859173106, 19131.11828146484, 17959.883108874175, 16861.971653108896, 15832.792014314238, 14868.039867903777, 13963.68045464917, 13115.931698672643, 12321.248382705215, 11576.307314397587, 10877.993421617168, 10223.38671855192, 9609.750088085115, 9034.517829320665, 8495.284922340015, 7989.79696527276, 7515.94074157614, 7071.735378055412, 6655.324056628964, 6264.966245158851, 5899.030414839425, 5555.987213672445, 5234.403067465442, 4932.934181578969, 4650.320918325076, 4385.382526491225, 4137.012200937124, 3904.1724515931164, 3685.8907624832586, 3481.2555226098093, 3289.412211673316, 3109.5598246687405, 2940.9475203976303, 2782.8714798731535, 2634.6719614731082, 2495.7305405192064, 2365.4675217326076, 2243.3395137390166, 2128.8371554747114, 2021.4829849804266, 1920.8294416658027, 1826.456993685573, 1737.9723825921308, 1655.0069779198523, 1577.215234816489, 1504.2732482681292, 1435.8773978683803, 1371.7430774612894, 1311.6035043426207, 1255.2086030370083, 1202.3239589805496, 1152.7298377308664]\n",
            "[360560.5686802718, 338094.8041884099, 317033.43678952847, 297288.6012057143, 278777.9318507088, 261424.21850663758, 245155.08356097867, 229902.67945364557, 215603.40506861368, 202197.63988376808, 189629.49476694706, 177846.57837579065, 166799.77818428443, 156443.05522007614, 146733.2516540012, 137629.91043701963, 129095.1062301646, 121093.28692034513, 113591.12505913094, 106557.37860315577, 99962.76037368937, 93779.81568939956, 87982.80766051862, 82547.60966467616, 77451.60455470192, 72673.59017686395, 68193.69080440367, 63993.27411597401, 60054.873371780646, 56362.11446196884, 52899.64752217851, 49653.08283029419, 46608.93071632445, 43754.54523413149, 41078.071359466674, 38568.39549351776, 36215.09906499914, 34008.415036777085, 31939.18713517014, 29998.831631453257, 28179.30151576807, 26473.052913649008, 24873.013604753545, 23372.55351217772, 21965.457038979803, 20645.89713625982, 19408.410994385453, 18247.87725574207, 17159.49465374864, 16138.761988845448, 15181.459357751159, 14283.630557527396, 13441.566590902354, 12651.79020390979, 11911.041391216906, 11216.263808560907, 10564.592035507327, 9953.339635298791, 9379.987961895762, 8842.175667435218, 8337.688866261688, 7864.451914430394, 7420.518766155543, 7004.064871089027, 6613.379578575902, 6246.8590171526, 5902.999419540699, 5580.390865251417, 5277.711414661904, 4993.721610060838, 4727.2593206948495, 4477.2349102853395, 4242.626706833069, 4022.4767557915616, 3815.8868388746346, 3622.014741873753, 3440.0707559015414, 3269.3143974534196, 3109.051333593764, 2958.630499430278, 2817.4413958437735, 2684.9115561938042, 2560.5041714267086, 2443.7158636744534, 2334.0745990531327, 2231.1377309515296, 2134.4901656453644, 2043.7426425838603, 1958.5301221743061, 1878.5102743393843, 1803.3620615429093, 1732.7844103742782, 1666.4949661517512, 1604.2289253514632, 1545.7379409940388, 1490.7890964253795, 1439.1639432137945, 1390.6575991533375, 1345.0779026142004]\n",
            "1191.011887666012\n"
          ]
        }
      ]
    },
    {
      "cell_type": "code",
      "metadata": {
        "colab": {
          "base_uri": "https://localhost:8080/",
          "height": 282
        },
        "id": "lVw-ywWjwUzl",
        "outputId": "d03e69bd-a102-4974-e955-ac88aff9f1cb"
      },
      "source": [
        "epoch = [i+1 for i in range(len(trains_MSE))]\n",
        "plt.plot(epoch, trains_MSE)"
      ],
      "execution_count": 68,
      "outputs": [
        {
          "output_type": "execute_result",
          "data": {
            "text/plain": [
              "[<matplotlib.lines.Line2D at 0x7fb11a356710>]"
            ]
          },
          "metadata": {},
          "execution_count": 68
        },
        {
          "output_type": "display_data",
          "data": {
            "image/png": "[encoded data removed]",
            "text/plain": [
              "<Figure size 432x288 with 1 Axes>"
            ]
          },
          "metadata": {
            "needs_background": "light"
          }
        }
      ]
    },
    {
      "cell_type": "code",
      "metadata": {
        "colab": {
          "base_uri": "https://localhost:8080/",
          "height": 282
        },
        "id": "VfDVVKJkz69U",
        "outputId": "02ffe5f6-5876-415a-9f11-892782bf3e12"
      },
      "source": [
        "plt.plot(epoch, validations_MSE)"
      ],
      "execution_count": 69,
      "outputs": [
        {
          "output_type": "execute_result",
          "data": {
            "text/plain": [
              "[<matplotlib.lines.Line2D at 0x7fb11a2bf710>]"
            ]
          },
          "metadata": {},
          "execution_count": 69
        },
        {
          "output_type": "display_data",
          "data": {
            "image/png": "[encoded data removed]",
            "text/plain": [
              "<Figure size 432x288 with 1 Axes>"
            ]
          },
          "metadata": {
            "needs_background": "light"
          }
        }
      ]
    },
    {
      "cell_type": "code",
      "metadata": {
        "colab": {
          "base_uri": "https://localhost:8080/"
        },
        "id": "hvOaVTgC0GDm",
        "outputId": "73b54375-5881-4d14-8cbf-26e251d99abc"
      },
      "source": [
        "# when dataset is not normalized\n",
        "\n",
        "from sklearn.linear_model import LinearRegression\n",
        "reg = LinearRegression()\n",
        "reg.fit(np.delete(train_UN, -1, 1),  train_UN[:,-1])\n",
        "\n",
        "\n",
        "from sklearn.metrics import mean_squared_error\n",
        "mse_train = mean_squared_error(train_UN[:,-1], reg.predict(np.delete(train_UN, -1, 1)), sample_weight=None)\n",
        "mse_validation = mean_squared_error(validation_UN[:,-1], reg.predict(np.delete(validation_UN, -1, 1)), sample_weight=None)\n",
        "mse_test = mean_squared_error(test_UN[:,-1], reg.predict(np.delete(test_UN, -1, 1)), sample_weight=None)\n",
        "print(\"train_mse\", mse_train)\n",
        "print(\"validation mse\", mse_validation)\n",
        "print(\"test_mse\", mse_test)"
      ],
      "execution_count": 70,
      "outputs": [
        {
          "output_type": "stream",
          "name": "stdout",
          "text": [
            "train_mse 22.176818032011543\n",
            "validation mse 44.273562777040254\n",
            "test_mse 26.87760440040289\n"
          ]
        }
      ]
    }
  ]
}