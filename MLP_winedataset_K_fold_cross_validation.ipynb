{
  "nbformat": 4,
  "nbformat_minor": 0,
  "metadata": {
    "colab": {
      "name": "MLP_winedataset_K-fold-cross-validation.ipynb",
      "provenance": [],
      "collapsed_sections": [],
      "authorship_tag": "ABX9TyPv6OvWHRdWGdjInZo4+Emj",
      "include_colab_link": true
    },
    "kernelspec": {
      "name": "python3",
      "display_name": "Python 3"
    },
    "language_info": {
      "name": "python"
    }
  },
  "cells": [
    {
      "cell_type": "markdown",
      "metadata": {
        "id": "view-in-github",
        "colab_type": "text"
      },
      "source": [
        "<a href=\"https://colab.research.google.com/github/95871abhinandankumar/Machine-learning/blob/main/MLP_winedataset_K_fold_cross_validation.ipynb\" target=\"_parent\"><img src=\"https://colab.research.google.com/assets/colab-badge.svg\" alt=\"Open In Colab\"/></a>"
      ]
    },
    {
      "cell_type": "code",
      "metadata": {
        "colab": {
          "base_uri": "https://localhost:8080/"
        },
        "id": "Q0kXdk-d4xa8",
        "outputId": "33e2dad9-63f0-4c9b-eb2d-63cbf5172ced"
      },
      "source": [
        "from sklearn.datasets import load_wine\n",
        "wine_data = load_wine()\n",
        "print(wine_data)"
      ],
      "execution_count": null,
      "outputs": [
        {
          "output_type": "stream",
          "name": "stdout",
          "text": [
            "{'data': array([[1.423e+01, 1.710e+00, 2.430e+00, ..., 1.040e+00, 3.920e+00,\n",
            "        1.065e+03],\n",
            "       [1.320e+01, 1.780e+00, 2.140e+00, ..., 1.050e+00, 3.400e+00,\n",
            "        1.050e+03],\n",
            "       [1.316e+01, 2.360e+00, 2.670e+00, ..., 1.030e+00, 3.170e+00,\n",
            "        1.185e+03],\n",
            "       ...,\n",
            "       [1.327e+01, 4.280e+00, 2.260e+00, ..., 5.900e-01, 1.560e+00,\n",
            "        8.350e+02],\n",
            "       [1.317e+01, 2.590e+00, 2.370e+00, ..., 6.000e-01, 1.620e+00,\n",
            "        8.400e+02],\n",
            "       [1.413e+01, 4.100e+00, 2.740e+00, ..., 6.100e-01, 1.600e+00,\n",
            "        5.600e+02]]), 'target': array([0, 0, 0, 0, 0, 0, 0, 0, 0, 0, 0, 0, 0, 0, 0, 0, 0, 0, 0, 0, 0, 0,\n",
            "       0, 0, 0, 0, 0, 0, 0, 0, 0, 0, 0, 0, 0, 0, 0, 0, 0, 0, 0, 0, 0, 0,\n",
            "       0, 0, 0, 0, 0, 0, 0, 0, 0, 0, 0, 0, 0, 0, 0, 1, 1, 1, 1, 1, 1, 1,\n",
            "       1, 1, 1, 1, 1, 1, 1, 1, 1, 1, 1, 1, 1, 1, 1, 1, 1, 1, 1, 1, 1, 1,\n",
            "       1, 1, 1, 1, 1, 1, 1, 1, 1, 1, 1, 1, 1, 1, 1, 1, 1, 1, 1, 1, 1, 1,\n",
            "       1, 1, 1, 1, 1, 1, 1, 1, 1, 1, 1, 1, 1, 1, 1, 1, 1, 1, 1, 1, 2, 2,\n",
            "       2, 2, 2, 2, 2, 2, 2, 2, 2, 2, 2, 2, 2, 2, 2, 2, 2, 2, 2, 2, 2, 2,\n",
            "       2, 2, 2, 2, 2, 2, 2, 2, 2, 2, 2, 2, 2, 2, 2, 2, 2, 2, 2, 2, 2, 2,\n",
            "       2, 2]), 'target_names': array(['class_0', 'class_1', 'class_2'], dtype='<U7'), 'DESCR': '.. _wine_dataset:\\n\\nWine recognition dataset\\n------------------------\\n\\n**Data Set Characteristics:**\\n\\n    :Number of Instances: 178 (50 in each of three classes)\\n    :Number of Attributes: 13 numeric, predictive attributes and the class\\n    :Attribute Information:\\n \\t\\t- Alcohol\\n \\t\\t- Malic acid\\n \\t\\t- Ash\\n\\t\\t- Alcalinity of ash  \\n \\t\\t- Magnesium\\n\\t\\t- Total phenols\\n \\t\\t- Flavanoids\\n \\t\\t- Nonflavanoid phenols\\n \\t\\t- Proanthocyanins\\n\\t\\t- Color intensity\\n \\t\\t- Hue\\n \\t\\t- OD280/OD315 of diluted wines\\n \\t\\t- Proline\\n\\n    - class:\\n            - class_0\\n            - class_1\\n            - class_2\\n\\t\\t\\n    :Summary Statistics:\\n    \\n    ============================= ==== ===== ======= =====\\n                                   Min   Max   Mean     SD\\n    ============================= ==== ===== ======= =====\\n    Alcohol:                      11.0  14.8    13.0   0.8\\n    Malic Acid:                   0.74  5.80    2.34  1.12\\n    Ash:                          1.36  3.23    2.36  0.27\\n    Alcalinity of Ash:            10.6  30.0    19.5   3.3\\n    Magnesium:                    70.0 162.0    99.7  14.3\\n    Total Phenols:                0.98  3.88    2.29  0.63\\n    Flavanoids:                   0.34  5.08    2.03  1.00\\n    Nonflavanoid Phenols:         0.13  0.66    0.36  0.12\\n    Proanthocyanins:              0.41  3.58    1.59  0.57\\n    Colour Intensity:              1.3  13.0     5.1   2.3\\n    Hue:                          0.48  1.71    0.96  0.23\\n    OD280/OD315 of diluted wines: 1.27  4.00    2.61  0.71\\n    Proline:                       278  1680     746   315\\n    ============================= ==== ===== ======= =====\\n\\n    :Missing Attribute Values: None\\n    :Class Distribution: class_0 (59), class_1 (71), class_2 (48)\\n    :Creator: R.A. Fisher\\n    :Donor: Michael Marshall (MARSHALL%PLU@io.arc.nasa.gov)\\n    :Date: July, 1988\\n\\nThis is a copy of UCI ML Wine recognition datasets.\\nhttps://archive.ics.uci.edu/ml/machine-learning-databases/wine/wine.data\\n\\nThe data is the results of a chemical analysis of wines grown in the same\\nregion in Italy by three different cultivators. There are thirteen different\\nmeasurements taken for different constituents found in the three types of\\nwine.\\n\\nOriginal Owners: \\n\\nForina, M. et al, PARVUS - \\nAn Extendible Package for Data Exploration, Classification and Correlation. \\nInstitute of Pharmaceutical and Food Analysis and Technologies,\\nVia Brigata Salerno, 16147 Genoa, Italy.\\n\\nCitation:\\n\\nLichman, M. (2013). UCI Machine Learning Repository\\n[https://archive.ics.uci.edu/ml]. Irvine, CA: University of California,\\nSchool of Information and Computer Science. \\n\\n.. topic:: References\\n\\n  (1) S. Aeberhard, D. Coomans and O. de Vel, \\n  Comparison of Classifiers in High Dimensional Settings, \\n  Tech. Rep. no. 92-02, (1992), Dept. of Computer Science and Dept. of  \\n  Mathematics and Statistics, James Cook University of North Queensland. \\n  (Also submitted to Technometrics). \\n\\n  The data was used with many others for comparing various \\n  classifiers. The classes are separable, though only RDA \\n  has achieved 100% correct classification. \\n  (RDA : 100%, QDA 99.4%, LDA 98.9%, 1NN 96.1% (z-transformed data)) \\n  (All results using the leave-one-out technique) \\n\\n  (2) S. Aeberhard, D. Coomans and O. de Vel, \\n  \"THE CLASSIFICATION PERFORMANCE OF RDA\" \\n  Tech. Rep. no. 92-01, (1992), Dept. of Computer Science and Dept. of \\n  Mathematics and Statistics, James Cook University of North Queensland. \\n  (Also submitted to Journal of Chemometrics).\\n', 'feature_names': ['alcohol', 'malic_acid', 'ash', 'alcalinity_of_ash', 'magnesium', 'total_phenols', 'flavanoids', 'nonflavanoid_phenols', 'proanthocyanins', 'color_intensity', 'hue', 'od280/od315_of_diluted_wines', 'proline']}\n"
          ]
        }
      ]
    },
    {
      "cell_type": "code",
      "metadata": {
        "colab": {
          "base_uri": "https://localhost:8080/"
        },
        "id": "-AzYCjio7bcX",
        "outputId": "d7a8793a-f1f5-4d3a-aa15-9c732e9671f9"
      },
      "source": [
        "import pandas as pd\n",
        "df = pd.DataFrame(wine_data.data,columns=[wine_data.feature_names])\n",
        "df['target'] = wine_data.target\n",
        "\n",
        "print(df.head())\n",
        "print(wine_data.feature_names)"
      ],
      "execution_count": null,
      "outputs": [
        {
          "output_type": "stream",
          "name": "stdout",
          "text": [
            "  alcohol malic_acid   ash  ... od280/od315_of_diluted_wines proline target\n",
            "0   14.23       1.71  2.43  ...                         3.92  1065.0      0\n",
            "1   13.20       1.78  2.14  ...                         3.40  1050.0      0\n",
            "2   13.16       2.36  2.67  ...                         3.17  1185.0      0\n",
            "3   14.37       1.95  2.50  ...                         3.45  1480.0      0\n",
            "4   13.24       2.59  2.87  ...                         2.93   735.0      0\n",
            "\n",
            "[5 rows x 14 columns]\n",
            "['alcohol', 'malic_acid', 'ash', 'alcalinity_of_ash', 'magnesium', 'total_phenols', 'flavanoids', 'nonflavanoid_phenols', 'proanthocyanins', 'color_intensity', 'hue', 'od280/od315_of_diluted_wines', 'proline']\n"
          ]
        }
      ]
    },
    {
      "cell_type": "code",
      "metadata": {
        "colab": {
          "base_uri": "https://localhost:8080/"
        },
        "id": "ty_fk8Gt7xZI",
        "outputId": "d0cea686-a9e1-473c-b93d-f6e9a2ac1a31"
      },
      "source": [
        "from sklearn.preprocessing import MinMaxScaler\n",
        "scaling = MinMaxScaler()\n",
        "samples = scaling.fit_transform(df[df.columns])\n",
        "df = pd.DataFrame(samples)\n",
        "\n",
        "print(df.head())"
      ],
      "execution_count": null,
      "outputs": [
        {
          "output_type": "stream",
          "name": "stdout",
          "text": [
            "         0         1         2         3   ...        10        11        12   13\n",
            "0  0.842105  0.191700  0.572193  0.257732  ...  0.455285  0.970696  0.561341  0.0\n",
            "1  0.571053  0.205534  0.417112  0.030928  ...  0.463415  0.780220  0.550642  0.0\n",
            "2  0.560526  0.320158  0.700535  0.412371  ...  0.447154  0.695971  0.646933  0.0\n",
            "3  0.878947  0.239130  0.609626  0.319588  ...  0.308943  0.798535  0.857347  0.0\n",
            "4  0.581579  0.365613  0.807487  0.536082  ...  0.455285  0.608059  0.325963  0.0\n",
            "\n",
            "[5 rows x 14 columns]\n"
          ]
        }
      ]
    },
    {
      "cell_type": "code",
      "metadata": {
        "colab": {
          "base_uri": "https://localhost:8080/"
        },
        "id": "2OJdaH3Z8U30",
        "outputId": "712bb208-a716-4810-84a8-ecaa62dff520"
      },
      "source": [
        "dummies = pd.get_dummies(wine_data.target)\n",
        "#Display last 5 dummies\n",
        "dummies.columns=['class-1', 'class-2' ,'class-3']\n",
        "print(dummies)"
      ],
      "execution_count": null,
      "outputs": [
        {
          "output_type": "stream",
          "name": "stdout",
          "text": [
            "     class-1  class-2  class-3\n",
            "0          1        0        0\n",
            "1          1        0        0\n",
            "2          1        0        0\n",
            "3          1        0        0\n",
            "4          1        0        0\n",
            "..       ...      ...      ...\n",
            "173        0        0        1\n",
            "174        0        0        1\n",
            "175        0        0        1\n",
            "176        0        0        1\n",
            "177        0        0        1\n",
            "\n",
            "[178 rows x 3 columns]\n"
          ]
        }
      ]
    },
    {
      "cell_type": "code",
      "metadata": {
        "colab": {
          "base_uri": "https://localhost:8080/"
        },
        "id": "Lq1ehNYY8uNB",
        "outputId": "332c4c3c-7415-4d6f-a6ef-ed38d9665a06"
      },
      "source": [
        "dataframe = df.iloc[: , :-1]\n",
        "print(dataframe)"
      ],
      "execution_count": null,
      "outputs": [
        {
          "output_type": "stream",
          "name": "stdout",
          "text": [
            "           0         1         2   ...        10        11        12\n",
            "0    0.842105  0.191700  0.572193  ...  0.455285  0.970696  0.561341\n",
            "1    0.571053  0.205534  0.417112  ...  0.463415  0.780220  0.550642\n",
            "2    0.560526  0.320158  0.700535  ...  0.447154  0.695971  0.646933\n",
            "3    0.878947  0.239130  0.609626  ...  0.308943  0.798535  0.857347\n",
            "4    0.581579  0.365613  0.807487  ...  0.455285  0.608059  0.325963\n",
            "..        ...       ...       ...  ...       ...       ...       ...\n",
            "173  0.705263  0.970356  0.582888  ...  0.130081  0.172161  0.329529\n",
            "174  0.623684  0.626482  0.598930  ...  0.178862  0.106227  0.336662\n",
            "175  0.589474  0.699605  0.481283  ...  0.089431  0.106227  0.397290\n",
            "176  0.563158  0.365613  0.540107  ...  0.097561  0.128205  0.400856\n",
            "177  0.815789  0.664032  0.737968  ...  0.105691  0.120879  0.201141\n",
            "\n",
            "[178 rows x 13 columns]\n"
          ]
        }
      ]
    },
    {
      "cell_type": "code",
      "metadata": {
        "colab": {
          "base_uri": "https://localhost:8080/"
        },
        "id": "BzTwQmKX83Ed",
        "outputId": "1638cdbc-3014-45bd-f22f-aa7a9b4896ea"
      },
      "source": [
        "dataframe.columns =['alcohol', 'malic_acid', 'ash', 'alcalinity_of_ash', 'magnesium', 'total_phenols', 'flavanoids', 'nonflavanoid_phenols', 'proanthocyanins', 'color_intensity', 'hue', 'od280/od315_of_diluted_wines', 'proline']\n",
        "\n",
        "print(dataframe)"
      ],
      "execution_count": null,
      "outputs": [
        {
          "output_type": "stream",
          "name": "stdout",
          "text": [
            "      alcohol  malic_acid  ...  od280/od315_of_diluted_wines   proline\n",
            "0    0.842105    0.191700  ...                      0.970696  0.561341\n",
            "1    0.571053    0.205534  ...                      0.780220  0.550642\n",
            "2    0.560526    0.320158  ...                      0.695971  0.646933\n",
            "3    0.878947    0.239130  ...                      0.798535  0.857347\n",
            "4    0.581579    0.365613  ...                      0.608059  0.325963\n",
            "..        ...         ...  ...                           ...       ...\n",
            "173  0.705263    0.970356  ...                      0.172161  0.329529\n",
            "174  0.623684    0.626482  ...                      0.106227  0.336662\n",
            "175  0.589474    0.699605  ...                      0.106227  0.397290\n",
            "176  0.563158    0.365613  ...                      0.128205  0.400856\n",
            "177  0.815789    0.664032  ...                      0.120879  0.201141\n",
            "\n",
            "[178 rows x 13 columns]\n"
          ]
        }
      ]
    },
    {
      "cell_type": "code",
      "metadata": {
        "colab": {
          "base_uri": "https://localhost:8080/"
        },
        "id": "FeZmw6Wq-ezy",
        "outputId": "b6aed5b2-395a-48ab-af9f-f3a659bf4b0a"
      },
      "source": [
        "final_dataframe = pd.concat([dataframe,dummies], axis=1)\n",
        "print(final_dataframe)"
      ],
      "execution_count": null,
      "outputs": [
        {
          "output_type": "stream",
          "name": "stdout",
          "text": [
            "      alcohol  malic_acid       ash  ...  class-1  class-2  class-3\n",
            "0    0.842105    0.191700  0.572193  ...        1        0        0\n",
            "1    0.571053    0.205534  0.417112  ...        1        0        0\n",
            "2    0.560526    0.320158  0.700535  ...        1        0        0\n",
            "3    0.878947    0.239130  0.609626  ...        1        0        0\n",
            "4    0.581579    0.365613  0.807487  ...        1        0        0\n",
            "..        ...         ...       ...  ...      ...      ...      ...\n",
            "173  0.705263    0.970356  0.582888  ...        0        0        1\n",
            "174  0.623684    0.626482  0.598930  ...        0        0        1\n",
            "175  0.589474    0.699605  0.481283  ...        0        0        1\n",
            "176  0.563158    0.365613  0.540107  ...        0        0        1\n",
            "177  0.815789    0.664032  0.737968  ...        0        0        1\n",
            "\n",
            "[178 rows x 16 columns]\n"
          ]
        }
      ]
    },
    {
      "cell_type": "code",
      "metadata": {
        "id": "9cmsJ93u_CgC"
      },
      "source": [
        "import math"
      ],
      "execution_count": null,
      "outputs": []
    },
    {
      "cell_type": "code",
      "metadata": {
        "id": "Kr5deA1I_HQX"
      },
      "source": [
        "def hypothesis(w,dataset):\n",
        "  y=w[0]\n",
        "  sample =dataset\n",
        "  sample = np.concatenate([[1], sample])\n",
        "  y = np.multiply(w, sample)\n",
        "  y = np.sum(y)\n",
        "  gx = 1/(1+(math.e)**(-1*y))\n",
        "  return gx"
      ],
      "execution_count": null,
      "outputs": []
    },
    {
      "cell_type": "code",
      "metadata": {
        "id": "6yGWjt3i_J0V"
      },
      "source": [
        "def predicted_values(w, dataset):\n",
        "  predicted = []\n",
        "  for i in range(len(dataset)):\n",
        "    predicted.append(hypothesis(w, dataset[i][:-3]))\n",
        "  \n",
        "  return np.array(predicted)\n",
        "\n",
        "\n",
        "# to calculate mean square error\n",
        "def accuracy(predicted, dataset):\n",
        "  correctly_predicted = 0\n",
        "  # print(\"in accuracy class\", predicted)\n",
        "  # print(dataset)\n",
        "  # print('--------------------------------------------')\n",
        "\n",
        "  for i in range(len(predicted[0])):\n",
        "    predicted_values=[0, 0, 0]\n",
        "    for k in range(3):\n",
        "      predicted_values[k]=predicted[k][i]\n",
        "    index = predicted_values.index(max(predicted_values))\n",
        "    # print(\"index ...\", index)\n",
        "    if dataset[i][-3 + index] == 1:\n",
        "      correctly_predicted += 1\n",
        "  return correctly_predicted/len(predicted[0])"
      ],
      "execution_count": null,
      "outputs": []
    },
    {
      "cell_type": "code",
      "metadata": {
        "id": "0m15ONXr_nDJ"
      },
      "source": [
        "# to update w using stochastic gradient decendent\n",
        "def update_parameter_stochastic(w, alpha, dataset):\n",
        "  np.random.shuffle(dataset)\n",
        "  m = len(dataset)\n",
        "  for j in range(m):\n",
        "    for k in range(3):\n",
        "      hy = hypothesis(w[k], np.array(dataset[j][:-3]))\n",
        "      w[k][0] = w[k][0] - (alpha)*(hy- dataset[:, -3+k][j])*hy*(1-hy)\n",
        "      for i in range(1, 5):\n",
        "        w[k][i] = w[k][i] - (alpha)*((hy- dataset[:, -3+k][j])* dataset[:, i-1][j])*hy*(1-hy)\n",
        "  return w"
      ],
      "execution_count": null,
      "outputs": []
    },
    {
      "cell_type": "code",
      "metadata": {
        "id": "MyGhSCs3_pIc"
      },
      "source": [
        "import matplotlib.pyplot as plt\n",
        "def SLP(epoch, alpha, rho, w, train_dataset, validation_dataset):\n",
        "  pre_accuracy = 0\n",
        "  curr_accuracy = 0\n",
        "  trains_accuracy=[]\n",
        "  validation_accuracy = []\n",
        "  for itr in range(epoch):\n",
        "    predicted=[]\n",
        "    for k in range(3):\n",
        "      predict = predicted_values(w[k], train_dataset)\n",
        "      predicted.append(predict)\n",
        "\n",
        "    curr_accuracy = accuracy(predicted, train_dataset)\n",
        "    w = update_parameter_stochastic(w, alpha, train_dataset)\n",
        "    \n",
        "    trains_accuracy.append(curr_accuracy)\n",
        "    predicted=[]\n",
        "    for k in range(len(w)):\n",
        "      predict = predicted_values(w[k], validation_dataset)\n",
        "      predicted.append(predict)\n",
        "    validation_accuracy.append(accuracy(predicted, validation_dataset))\n",
        "\n",
        "    if abs(curr_accuracy - pre_accuracy) <= rho:\n",
        "      break;\n",
        "    pre_accuracy = curr_accuracy\n",
        "  epochs = [i for i in range(len(validation_accuracy))]\n",
        "  fig, ax = plt.subplots()\n",
        "  ax.plot(epochs, trains_accuracy)\n",
        "  ax.plot(epochs, validation_accuracy)\n",
        "  return w, curr_accuracy, validation_accuracy[-1]"
      ],
      "execution_count": null,
      "outputs": []
    },
    {
      "cell_type": "code",
      "metadata": {
        "id": "6gbYEqEw_y--"
      },
      "source": [
        "train_datasets = final_dataframe.sample(frac=0.3)\n",
        "dataframe = final_dataframe.drop(train_datasets.index)\n",
        "validation_dataset = dataframe.sample(frac=(.1/.7))\n",
        "test_dataset = dataframe.drop(validation_dataset.index)"
      ],
      "execution_count": null,
      "outputs": []
    },
    {
      "cell_type": "code",
      "metadata": {
        "id": "3ZCOZh1q_z1j"
      },
      "source": [
        "alpha = [0.1, 0.2, 0.3, 0.5, 0.6, 0.7, 0.8, 0.9, 1]\n",
        "epoch = 1000\n",
        "p = 0.0003\n",
        "for al in alpha:\n",
        "  w=[[1,1,1,1,1],[1,1,1,1,1],[1,1,1,1,1]]\n",
        "  w, trains_accuracy, validation_accuracy = SLP(epoch, al, p, w, train_datasets.to_numpy(), validation_dataset.to_numpy())\n",
        "  predicted=[]\n",
        "  for k in range(len(w)):\n",
        "    predict = predicted_values(w[k], test_dataset.to_numpy())\n",
        "    predicted.append(predict)\n",
        "  test_accuracy = accuracy(predicted, test_dataset.to_numpy())\n",
        "  print(\"\\n\\n\\nFor Alpha : \", al)\n",
        "  print(\"Train Accuracy : \",trains_accuracy , \"\\nValidation MSE : \", validation_accuracy, \"\\nTest accuracy : \", test_accuracy)"
      ],
      "execution_count": null,
      "outputs": []
    },
    {
      "cell_type": "code",
      "metadata": {
        "colab": {
          "base_uri": "https://localhost:8080/"
        },
        "id": "P5QRJx5SAY8Y",
        "outputId": "d771ca17-f854-4244-df67-7e62374fdeca"
      },
      "source": [
        "from sklearn.model_selection import KFold\n",
        "from sklearn.linear_model import LogisticRegression\n",
        "from sklearn.model_selection import KFold\n",
        "from sklearn.utils.testing import ignore_warnings\n",
        "from sklearn.exceptions import ConvergenceWarning\n",
        "from sklearn.model_selection import train_test_split\n",
        "from sklearn.metrics import confusion_matrix\n"
      ],
      "execution_count": 36,
      "outputs": [
        {
          "output_type": "stream",
          "name": "stderr",
          "text": [
            "/usr/local/lib/python3.7/dist-packages/sklearn/utils/deprecation.py:144: FutureWarning: The sklearn.utils.testing module is  deprecated in version 0.22 and will be removed in version 0.24. The corresponding classes / functions should instead be imported from sklearn.utils. Anything that cannot be imported from sklearn.utils is now part of the private API.\n",
            "  warnings.warn(message, FutureWarning)\n"
          ]
        }
      ]
    },
    {
      "cell_type": "code",
      "metadata": {
        "id": "jmEJJ7NlAnKb"
      },
      "source": [
        "dataset = df.to_numpy()\n",
        "kf = KFold(n_splits=5,shuffle=True)\n",
        "\n",
        "w=[[1,1,1,1,1],[1,1,1,1,1],[1,1,1,1,1]]\n",
        "for train_index, test_index in kf.split(dataset):\n",
        "  print(\"  ..............................  \")\n",
        "  train = []\n",
        "  test = []\n",
        "  for i in train_index :\n",
        "    train.append(dataset[i])\n",
        "  for i in test_index :\n",
        "    test.append(dataset[i])"
      ],
      "execution_count": null,
      "outputs": []
    }
  ]
}