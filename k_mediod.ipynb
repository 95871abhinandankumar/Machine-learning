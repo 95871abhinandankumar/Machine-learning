{
  "nbformat": 4,
  "nbformat_minor": 0,
  "metadata": {
    "colab": {
      "name": "k_mediod.ipynb",
      "provenance": [],
      "authorship_tag": "ABX9TyOyLqBp1wkwQPAQuib+FXHx",
      "include_colab_link": true
    },
    "kernelspec": {
      "name": "python3",
      "display_name": "Python 3"
    },
    "language_info": {
      "name": "python"
    }
  },
  "cells": [
    {
      "cell_type": "markdown",
      "metadata": {
        "id": "view-in-github",
        "colab_type": "text"
      },
      "source": [
        "<a href=\"https://colab.research.google.com/github/95871abhinandankumar/Machine-learning/blob/main/k_mediod.ipynb\" target=\"_parent\"><img src=\"https://colab.research.google.com/assets/colab-badge.svg\" alt=\"Open In Colab\"/></a>"
      ]
    },
    {
      "cell_type": "code",
      "metadata": {
        "id": "o8QQqc16T0E1",
        "colab": {
          "base_uri": "https://localhost:8080/"
        },
        "outputId": "61b9f015-0e7c-4751-c55b-48137cbd3fa5"
      },
      "source": [
        "from sklearn.datasets import load_wine\n",
        "wine_data = load_wine()\n",
        "print(wine_data)"
      ],
      "execution_count": 1,
      "outputs": [
        {
          "output_type": "stream",
          "name": "stdout",
          "text": [
            "{'data': array([[1.423e+01, 1.710e+00, 2.430e+00, ..., 1.040e+00, 3.920e+00,\n",
            "        1.065e+03],\n",
            "       [1.320e+01, 1.780e+00, 2.140e+00, ..., 1.050e+00, 3.400e+00,\n",
            "        1.050e+03],\n",
            "       [1.316e+01, 2.360e+00, 2.670e+00, ..., 1.030e+00, 3.170e+00,\n",
            "        1.185e+03],\n",
            "       ...,\n",
            "       [1.327e+01, 4.280e+00, 2.260e+00, ..., 5.900e-01, 1.560e+00,\n",
            "        8.350e+02],\n",
            "       [1.317e+01, 2.590e+00, 2.370e+00, ..., 6.000e-01, 1.620e+00,\n",
            "        8.400e+02],\n",
            "       [1.413e+01, 4.100e+00, 2.740e+00, ..., 6.100e-01, 1.600e+00,\n",
            "        5.600e+02]]), 'target': array([0, 0, 0, 0, 0, 0, 0, 0, 0, 0, 0, 0, 0, 0, 0, 0, 0, 0, 0, 0, 0, 0,\n",
            "       0, 0, 0, 0, 0, 0, 0, 0, 0, 0, 0, 0, 0, 0, 0, 0, 0, 0, 0, 0, 0, 0,\n",
            "       0, 0, 0, 0, 0, 0, 0, 0, 0, 0, 0, 0, 0, 0, 0, 1, 1, 1, 1, 1, 1, 1,\n",
            "       1, 1, 1, 1, 1, 1, 1, 1, 1, 1, 1, 1, 1, 1, 1, 1, 1, 1, 1, 1, 1, 1,\n",
            "       1, 1, 1, 1, 1, 1, 1, 1, 1, 1, 1, 1, 1, 1, 1, 1, 1, 1, 1, 1, 1, 1,\n",
            "       1, 1, 1, 1, 1, 1, 1, 1, 1, 1, 1, 1, 1, 1, 1, 1, 1, 1, 1, 1, 2, 2,\n",
            "       2, 2, 2, 2, 2, 2, 2, 2, 2, 2, 2, 2, 2, 2, 2, 2, 2, 2, 2, 2, 2, 2,\n",
            "       2, 2, 2, 2, 2, 2, 2, 2, 2, 2, 2, 2, 2, 2, 2, 2, 2, 2, 2, 2, 2, 2,\n",
            "       2, 2]), 'target_names': array(['class_0', 'class_1', 'class_2'], dtype='<U7'), 'DESCR': '.. _wine_dataset:\\n\\nWine recognition dataset\\n------------------------\\n\\n**Data Set Characteristics:**\\n\\n    :Number of Instances: 178 (50 in each of three classes)\\n    :Number of Attributes: 13 numeric, predictive attributes and the class\\n    :Attribute Information:\\n \\t\\t- Alcohol\\n \\t\\t- Malic acid\\n \\t\\t- Ash\\n\\t\\t- Alcalinity of ash  \\n \\t\\t- Magnesium\\n\\t\\t- Total phenols\\n \\t\\t- Flavanoids\\n \\t\\t- Nonflavanoid phenols\\n \\t\\t- Proanthocyanins\\n\\t\\t- Color intensity\\n \\t\\t- Hue\\n \\t\\t- OD280/OD315 of diluted wines\\n \\t\\t- Proline\\n\\n    - class:\\n            - class_0\\n            - class_1\\n            - class_2\\n\\t\\t\\n    :Summary Statistics:\\n    \\n    ============================= ==== ===== ======= =====\\n                                   Min   Max   Mean     SD\\n    ============================= ==== ===== ======= =====\\n    Alcohol:                      11.0  14.8    13.0   0.8\\n    Malic Acid:                   0.74  5.80    2.34  1.12\\n    Ash:                          1.36  3.23    2.36  0.27\\n    Alcalinity of Ash:            10.6  30.0    19.5   3.3\\n    Magnesium:                    70.0 162.0    99.7  14.3\\n    Total Phenols:                0.98  3.88    2.29  0.63\\n    Flavanoids:                   0.34  5.08    2.03  1.00\\n    Nonflavanoid Phenols:         0.13  0.66    0.36  0.12\\n    Proanthocyanins:              0.41  3.58    1.59  0.57\\n    Colour Intensity:              1.3  13.0     5.1   2.3\\n    Hue:                          0.48  1.71    0.96  0.23\\n    OD280/OD315 of diluted wines: 1.27  4.00    2.61  0.71\\n    Proline:                       278  1680     746   315\\n    ============================= ==== ===== ======= =====\\n\\n    :Missing Attribute Values: None\\n    :Class Distribution: class_0 (59), class_1 (71), class_2 (48)\\n    :Creator: R.A. Fisher\\n    :Donor: Michael Marshall (MARSHALL%PLU@io.arc.nasa.gov)\\n    :Date: July, 1988\\n\\nThis is a copy of UCI ML Wine recognition datasets.\\nhttps://archive.ics.uci.edu/ml/machine-learning-databases/wine/wine.data\\n\\nThe data is the results of a chemical analysis of wines grown in the same\\nregion in Italy by three different cultivators. There are thirteen different\\nmeasurements taken for different constituents found in the three types of\\nwine.\\n\\nOriginal Owners: \\n\\nForina, M. et al, PARVUS - \\nAn Extendible Package for Data Exploration, Classification and Correlation. \\nInstitute of Pharmaceutical and Food Analysis and Technologies,\\nVia Brigata Salerno, 16147 Genoa, Italy.\\n\\nCitation:\\n\\nLichman, M. (2013). UCI Machine Learning Repository\\n[https://archive.ics.uci.edu/ml]. Irvine, CA: University of California,\\nSchool of Information and Computer Science. \\n\\n.. topic:: References\\n\\n  (1) S. Aeberhard, D. Coomans and O. de Vel, \\n  Comparison of Classifiers in High Dimensional Settings, \\n  Tech. Rep. no. 92-02, (1992), Dept. of Computer Science and Dept. of  \\n  Mathematics and Statistics, James Cook University of North Queensland. \\n  (Also submitted to Technometrics). \\n\\n  The data was used with many others for comparing various \\n  classifiers. The classes are separable, though only RDA \\n  has achieved 100% correct classification. \\n  (RDA : 100%, QDA 99.4%, LDA 98.9%, 1NN 96.1% (z-transformed data)) \\n  (All results using the leave-one-out technique) \\n\\n  (2) S. Aeberhard, D. Coomans and O. de Vel, \\n  \"THE CLASSIFICATION PERFORMANCE OF RDA\" \\n  Tech. Rep. no. 92-01, (1992), Dept. of Computer Science and Dept. of \\n  Mathematics and Statistics, James Cook University of North Queensland. \\n  (Also submitted to Journal of Chemometrics).\\n', 'feature_names': ['alcohol', 'malic_acid', 'ash', 'alcalinity_of_ash', 'magnesium', 'total_phenols', 'flavanoids', 'nonflavanoid_phenols', 'proanthocyanins', 'color_intensity', 'hue', 'od280/od315_of_diluted_wines', 'proline']}\n"
          ]
        }
      ]
    },
    {
      "cell_type": "code",
      "metadata": {
        "colab": {
          "base_uri": "https://localhost:8080/"
        },
        "id": "eaemsJ2QemIv",
        "outputId": "42d4879c-4372-4bad-d055-ea23ea9b6e74"
      },
      "source": [
        "import pandas as pd\n",
        "df = pd.DataFrame(wine_data.data,columns=[wine_data.feature_names])\n",
        "df['target'] = wine_data.target\n",
        "\n",
        "print(df.head())\n",
        "print(wine_data.feature_names)"
      ],
      "execution_count": 2,
      "outputs": [
        {
          "output_type": "stream",
          "name": "stdout",
          "text": [
            "  alcohol malic_acid   ash  ... od280/od315_of_diluted_wines proline target\n",
            "0   14.23       1.71  2.43  ...                         3.92  1065.0      0\n",
            "1   13.20       1.78  2.14  ...                         3.40  1050.0      0\n",
            "2   13.16       2.36  2.67  ...                         3.17  1185.0      0\n",
            "3   14.37       1.95  2.50  ...                         3.45  1480.0      0\n",
            "4   13.24       2.59  2.87  ...                         2.93   735.0      0\n",
            "\n",
            "[5 rows x 14 columns]\n",
            "['alcohol', 'malic_acid', 'ash', 'alcalinity_of_ash', 'magnesium', 'total_phenols', 'flavanoids', 'nonflavanoid_phenols', 'proanthocyanins', 'color_intensity', 'hue', 'od280/od315_of_diluted_wines', 'proline']\n"
          ]
        }
      ]
    },
    {
      "cell_type": "code",
      "metadata": {
        "colab": {
          "base_uri": "https://localhost:8080/"
        },
        "id": "-IQP8THyeoyc",
        "outputId": "e5eef89f-1c3b-4c8c-cbd7-c844fc6afabf"
      },
      "source": [
        "from sklearn.preprocessing import MinMaxScaler\n",
        "scaling = MinMaxScaler()\n",
        "samples = scaling.fit_transform(df[df.columns])\n",
        "df = pd.DataFrame(samples)\n",
        "\n",
        "print(df.head())"
      ],
      "execution_count": 3,
      "outputs": [
        {
          "output_type": "stream",
          "name": "stdout",
          "text": [
            "         0         1         2         3   ...        10        11        12   13\n",
            "0  0.842105  0.191700  0.572193  0.257732  ...  0.455285  0.970696  0.561341  0.0\n",
            "1  0.571053  0.205534  0.417112  0.030928  ...  0.463415  0.780220  0.550642  0.0\n",
            "2  0.560526  0.320158  0.700535  0.412371  ...  0.447154  0.695971  0.646933  0.0\n",
            "3  0.878947  0.239130  0.609626  0.319588  ...  0.308943  0.798535  0.857347  0.0\n",
            "4  0.581579  0.365613  0.807487  0.536082  ...  0.455285  0.608059  0.325963  0.0\n",
            "\n",
            "[5 rows x 14 columns]\n"
          ]
        }
      ]
    },
    {
      "cell_type": "code",
      "metadata": {
        "colab": {
          "base_uri": "https://localhost:8080/"
        },
        "id": "9dBeFwTbfYnZ",
        "outputId": "2447cf54-0f92-4b29-c574-6f9d4b4ec034"
      },
      "source": [
        "dataframe = df.iloc[: , :-1]\n",
        "print(dataframe)"
      ],
      "execution_count": 4,
      "outputs": [
        {
          "output_type": "stream",
          "name": "stdout",
          "text": [
            "           0         1         2   ...        10        11        12\n",
            "0    0.842105  0.191700  0.572193  ...  0.455285  0.970696  0.561341\n",
            "1    0.571053  0.205534  0.417112  ...  0.463415  0.780220  0.550642\n",
            "2    0.560526  0.320158  0.700535  ...  0.447154  0.695971  0.646933\n",
            "3    0.878947  0.239130  0.609626  ...  0.308943  0.798535  0.857347\n",
            "4    0.581579  0.365613  0.807487  ...  0.455285  0.608059  0.325963\n",
            "..        ...       ...       ...  ...       ...       ...       ...\n",
            "173  0.705263  0.970356  0.582888  ...  0.130081  0.172161  0.329529\n",
            "174  0.623684  0.626482  0.598930  ...  0.178862  0.106227  0.336662\n",
            "175  0.589474  0.699605  0.481283  ...  0.089431  0.106227  0.397290\n",
            "176  0.563158  0.365613  0.540107  ...  0.097561  0.128205  0.400856\n",
            "177  0.815789  0.664032  0.737968  ...  0.105691  0.120879  0.201141\n",
            "\n",
            "[178 rows x 13 columns]\n"
          ]
        }
      ]
    },
    {
      "cell_type": "code",
      "metadata": {
        "colab": {
          "base_uri": "https://localhost:8080/"
        },
        "id": "-IODsRBxev7v",
        "outputId": "6c8cbd48-5b9f-47a6-8685-b907291d1268"
      },
      "source": [
        "dataframe.columns =['alcohol', 'malic_acid', 'ash', 'alcalinity_of_ash', 'magnesium', 'total_phenols', 'flavanoids', 'nonflavanoid_phenols', 'proanthocyanins', 'color_intensity', 'hue', 'od280/od315_of_diluted_wines', 'proline']\n",
        "\n",
        "print(dataframe)"
      ],
      "execution_count": 5,
      "outputs": [
        {
          "output_type": "stream",
          "name": "stdout",
          "text": [
            "      alcohol  malic_acid  ...  od280/od315_of_diluted_wines   proline\n",
            "0    0.842105    0.191700  ...                      0.970696  0.561341\n",
            "1    0.571053    0.205534  ...                      0.780220  0.550642\n",
            "2    0.560526    0.320158  ...                      0.695971  0.646933\n",
            "3    0.878947    0.239130  ...                      0.798535  0.857347\n",
            "4    0.581579    0.365613  ...                      0.608059  0.325963\n",
            "..        ...         ...  ...                           ...       ...\n",
            "173  0.705263    0.970356  ...                      0.172161  0.329529\n",
            "174  0.623684    0.626482  ...                      0.106227  0.336662\n",
            "175  0.589474    0.699605  ...                      0.106227  0.397290\n",
            "176  0.563158    0.365613  ...                      0.128205  0.400856\n",
            "177  0.815789    0.664032  ...                      0.120879  0.201141\n",
            "\n",
            "[178 rows x 13 columns]\n"
          ]
        }
      ]
    },
    {
      "cell_type": "code",
      "metadata": {
        "colab": {
          "base_uri": "https://localhost:8080/"
        },
        "id": "Wcdsd-XPfTUK",
        "outputId": "bc909bd2-fbf0-4a4f-aad7-784c32c05c15"
      },
      "source": [
        "datapoints = dataframe.to_numpy()\n",
        "print(datapoints)"
      ],
      "execution_count": 6,
      "outputs": [
        {
          "output_type": "stream",
          "name": "stdout",
          "text": [
            "[[0.84210526 0.1916996  0.57219251 ... 0.45528455 0.97069597 0.56134094]\n",
            " [0.57105263 0.2055336  0.4171123  ... 0.46341463 0.78021978 0.55064194]\n",
            " [0.56052632 0.3201581  0.70053476 ... 0.44715447 0.6959707  0.64693295]\n",
            " ...\n",
            " [0.58947368 0.69960474 0.48128342 ... 0.08943089 0.10622711 0.39728959]\n",
            " [0.56315789 0.36561265 0.54010695 ... 0.09756098 0.12820513 0.40085592]\n",
            " [0.81578947 0.66403162 0.73796791 ... 0.10569106 0.12087912 0.20114123]]\n"
          ]
        }
      ]
    },
    {
      "cell_type": "code",
      "metadata": {
        "id": "vdCzIouXhVeZ"
      },
      "source": [
        "import numpy as np\n",
        "\n",
        "def calculate_SSE(datapoints, mediods, clusters):\n",
        "  sse = 0\n",
        "  for i in range(len(clusters)):\n",
        "    cluster = clusters[i]\n",
        "    sse += np.sum(np.square(np.subtract(datapoints[i], mediods[cluster])))\n",
        "  return sse\n",
        "\n"
      ],
      "execution_count": 7,
      "outputs": []
    },
    {
      "cell_type": "code",
      "metadata": {
        "id": "ip_YWI-ZmvwC"
      },
      "source": [
        "def euclidean_distance(x1, x2):\n",
        "  return np.sum(np.square(np.subtract(x1, x2)))\n"
      ],
      "execution_count": 8,
      "outputs": []
    },
    {
      "cell_type": "code",
      "metadata": {
        "id": "_FLKGroynXg-"
      },
      "source": [
        "def update_cluster(datapoints, mediods):\n",
        "  clusters = [ 0 for i in range(len(datapoints))]\n",
        "\n",
        "  for i in range(len(datapoints)):\n",
        "    min = 10000\n",
        "    min_index = -1\n",
        "    for j in range(len(mediods)):\n",
        "      dist = euclidean_distance(datapoints[i], mediods[j])\n",
        "      if dist < min:\n",
        "        min = dist\n",
        "        min_index = j\n",
        "        clusters[i] = j\n",
        "  return clusters\n"
      ],
      "execution_count": 9,
      "outputs": []
    },
    {
      "cell_type": "code",
      "metadata": {
        "id": "jSXgZINNw-jH"
      },
      "source": [
        "def swapping_cost(datapoints, mediods):\n",
        "  clusters = update_cluster(datapoints, mediods)\n",
        "  return calculate_SSE(datapoints, mediods, clusters)"
      ],
      "execution_count": 10,
      "outputs": []
    },
    {
      "cell_type": "code",
      "metadata": {
        "id": "-Pd6W5fIsdU9"
      },
      "source": [
        "def select_mediod_random(datapoints, k):\n",
        "  from numpy.random import choice\n",
        "  from numpy.random import seed\n",
        "\n",
        "  seed(1)\n",
        "  samples = choice(len(datapoints), size=k, replace=False)\n",
        "  return datapoints[samples, :]"
      ],
      "execution_count": 11,
      "outputs": []
    },
    {
      "cell_type": "code",
      "metadata": {
        "id": "ZlFprkOVqAdE"
      },
      "source": [
        "def k_mediods(datapoints, k, iterations):\n",
        "  mediods = select_mediod_random(datapoints, k)\n",
        "  clusters = list()\n",
        "\n",
        "  for _ in range(iterations):\n",
        "    clusters = update_cluster(datapoints, mediods)\n",
        "    old_sse = calculate_SSE(datapoints, mediods, clusters)\n",
        "\n",
        "    for i in range(len(datapoints)):\n",
        "\n",
        "      for j in range(k):\n",
        "        new_mediods = mediods.copy()\n",
        "        new_mediods[j] = datapoints[i]\n",
        "        new_sse = swapping_cost(datapoints, new_mediods)\n",
        "\n",
        "        # print(clusters)\n",
        "\n",
        "        if new_sse < old_sse :\n",
        "          clusters = update_cluster(datapoints, new_mediods)\n",
        "          # print(\"changing mediods....\")\n",
        "          mediods = new_mediods\n",
        "          break;\n",
        "  return clusters, mediods\n",
        "\n",
        "\n",
        "\n",
        "        \n",
        "\n"
      ],
      "execution_count": 15,
      "outputs": []
    },
    {
      "cell_type": "code",
      "metadata": {
        "colab": {
          "base_uri": "https://localhost:8080/"
        },
        "id": "0Qa-xbXjy91l",
        "outputId": "07cfe446-0876-47f1-acdf-512ede68ccd4"
      },
      "source": [
        "clusters, mediods = k_mediods(datapoints, 2, 10)\n",
        "print(clusters)"
      ],
      "execution_count": 23,
      "outputs": [
        {
          "output_type": "stream",
          "name": "stdout",
          "text": [
            "[1, 1, 1, 1, 1, 1, 1, 1, 1, 1, 1, 1, 1, 1, 1, 1, 1, 1, 1, 1, 1, 1, 1, 1, 1, 1, 1, 1, 1, 1, 1, 1, 1, 1, 1, 1, 1, 1, 1, 1, 1, 1, 1, 1, 1, 1, 1, 1, 1, 1, 1, 1, 1, 1, 1, 1, 1, 1, 1, 1, 0, 0, 1, 1, 1, 1, 1, 1, 0, 1, 0, 1, 1, 1, 1, 1, 1, 1, 1, 1, 1, 1, 1, 0, 1, 1, 1, 1, 1, 1, 1, 1, 0, 1, 1, 1, 1, 1, 1, 1, 1, 1, 1, 1, 1, 1, 1, 1, 1, 1, 1, 1, 1, 1, 1, 1, 1, 1, 0, 1, 1, 1, 1, 1, 1, 1, 1, 1, 1, 1, 0, 0, 0, 0, 0, 0, 0, 0, 0, 0, 0, 0, 0, 0, 0, 0, 0, 0, 0, 0, 0, 0, 0, 0, 0, 0, 0, 0, 0, 0, 0, 0, 0, 0, 0, 0, 0, 0, 0, 0, 0, 0, 0, 0, 0, 0, 0, 0]\n"
          ]
        }
      ]
    },
    {
      "cell_type": "code",
      "metadata": {
        "colab": {
          "base_uri": "https://localhost:8080/"
        },
        "id": "Gc7K8ymJzKcK",
        "outputId": "a52e6f9d-8a9c-4db0-b5f2-10c09aace253"
      },
      "source": [
        "print(mediods)"
      ],
      "execution_count": 24,
      "outputs": [
        {
          "output_type": "stream",
          "name": "stdout",
          "text": [
            "[[0.60263158 0.49407115 0.54545455 0.56185567 0.23913043 0.32758621\n",
            "  0.08860759 0.60377358 0.26498423 0.60921502 0.05691057 0.12820513\n",
            "  0.26533524]\n",
            " [0.44473684 0.21146245 0.44919786 0.42268041 0.17391304 0.42068966\n",
            "  0.46202532 0.24528302 0.42902208 0.22354949 0.55284553 0.68498168\n",
            "  0.31098431]]\n"
          ]
        }
      ]
    },
    {
      "cell_type": "code",
      "metadata": {
        "id": "Hw5Tb566zoHD"
      },
      "source": [
        "from sklearn.cluster import KMeans \n",
        "from sklearn.metrics import silhouette_score"
      ],
      "execution_count": 25,
      "outputs": []
    },
    {
      "cell_type": "code",
      "metadata": {
        "colab": {
          "base_uri": "https://localhost:8080/"
        },
        "id": "oR-GwVmV4LJU",
        "outputId": "ee1b299e-b890-48b8-855d-c4db764c5f59"
      },
      "source": [
        "silhouette_avg = silhouette_score(datapoints, clusters)\n",
        "  \n",
        "print(\"For no of clusters =\", 2, \" The average silhouette_score is :\", silhouette_avg)"
      ],
      "execution_count": 27,
      "outputs": [
        {
          "output_type": "stream",
          "name": "stdout",
          "text": [
            "For no of clusters = 2  The average silhouette_score is : 0.3009497526608838\n"
          ]
        }
      ]
    },
    {
      "cell_type": "code",
      "metadata": {
        "id": "JLMJYWTh4YaD"
      },
      "source": [
        "kmeans = KMeans(n_clusters = 2, init = 'k-means++', max_iter = 300, n_init = 10, random_state = 0)\n",
        "y_kmeans = kmeans.fit_predict(datapoints)"
      ],
      "execution_count": 30,
      "outputs": []
    },
    {
      "cell_type": "code",
      "metadata": {
        "colab": {
          "base_uri": "https://localhost:8080/"
        },
        "id": "avoSWYoa7d6C",
        "outputId": "9152c61e-80f8-4058-faef-0de3ebac155b"
      },
      "source": [
        "silhouette_avg = silhouette_score(datapoints, y_kmeans)\n",
        "  \n",
        "print(\"For no of clusters =\", 2, \" The average silhouette_score is :\", silhouette_avg)"
      ],
      "execution_count": 31,
      "outputs": [
        {
          "output_type": "stream",
          "name": "stdout",
          "text": [
            "For no of clusters = 2  The average silhouette_score is : 0.2987221815974774\n"
          ]
        }
      ]
    }
  ]
}