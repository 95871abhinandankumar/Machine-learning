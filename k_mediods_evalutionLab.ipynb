{
  "nbformat": 4,
  "nbformat_minor": 0,
  "metadata": {
    "colab": {
      "name": "k_mediods_evalutionLab.ipynb",
      "provenance": [],
      "include_colab_link": true
    },
    "kernelspec": {
      "name": "python3",
      "display_name": "Python 3"
    },
    "language_info": {
      "name": "python"
    }
  },
  "cells": [
    {
      "cell_type": "markdown",
      "metadata": {
        "id": "view-in-github",
        "colab_type": "text"
      },
      "source": [
        "<a href=\"https://colab.research.google.com/github/95871abhinandankumar/Machine-learning/blob/main/k_mediods_evalutionLab.ipynb\" target=\"_parent\"><img src=\"https://colab.research.google.com/assets/colab-badge.svg\" alt=\"Open In Colab\"/></a>"
      ]
    },
    {
      "cell_type": "code",
      "metadata": {
        "id": "KZ_OCZ-q1AU8"
      },
      "source": [
        "import pandas as pd # reading all required header files\n",
        "import numpy as np\n",
        "import random\n",
        "import operator\n",
        "import math\n",
        "import matplotlib.pyplot as plt \n",
        "from scipy.stats import multivariate_normal \n",
        "from sklearn.datasets import load_iris"
      ],
      "execution_count": null,
      "outputs": []
    },
    {
      "cell_type": "code",
      "metadata": {
        "id": "bnPDDd1J1BI0"
      },
      "source": [
        "iris = load_iris()\n",
        "df = pd.DataFrame(iris.data)"
      ],
      "execution_count": null,
      "outputs": []
    },
    {
      "cell_type": "code",
      "metadata": {
        "id": "j59Vvmzw1ESN"
      },
      "source": [
        "n = len(df)\n",
        "k = 3\n",
        "d = 4\n",
        "m = 2\n",
        "MAX_ITERS = 300"
      ],
      "execution_count": null,
      "outputs": []
    },
    {
      "cell_type": "code",
      "metadata": {
        "id": "ACUyngNg1KYi"
      },
      "source": [
        "def initializeMembershipWeights():\n",
        "  \"\"\"\n",
        "  membership_mat = []\n",
        "  for i in range(n):\n",
        "    wts = []\n",
        "    sum=0;\n",
        "    for j in range(k):\n",
        "      weight = np.random.random_integers(1,10)\n",
        "      wts.append(weight)\n",
        "      sum = sum + weight\n",
        "    weights = [w/sum for w in wts]\n",
        "    membership_mat.append(weights)\n",
        "    print(membership_mat)\n",
        "\n",
        "    \"\"\"\n",
        "  weight = np.random.dirichlet(np.ones(k),n)\n",
        "  weight_arr = np.array(weight)\n",
        "  return weight_arr"
      ],
      "execution_count": null,
      "outputs": []
    },
    {
      "cell_type": "code",
      "metadata": {
        "id": "_q28ePNt1TrY"
      },
      "source": [
        "def computeCentroids(weight_arr):\n",
        "  C = []\n",
        "  for i in range(k):\n",
        "    weight_sum = np.power(weight_arr[:,i],m).sum()\n",
        "    Cj = []\n",
        "    for x in range(d):\n",
        "      numerator = ( df.iloc[:,x].values * np.power(weight_arr[:,i],m)).sum()\n",
        "      c_val = numerator/weight_sum;\n",
        "      Cj.append(c_val)\n",
        "    C.append(Cj)\n",
        "  return C"
      ],
      "execution_count": null,
      "outputs": []
    },
    {
      "cell_type": "code",
      "metadata": {
        "id": "YNX5vBLV1X5D"
      },
      "source": [
        "def updateWeights(weight_arr,C):\n",
        "  denom = np.zeros(n)\n",
        "  for i in range(k):\n",
        "    dist = (df.iloc[:,:].values - C[i])**2\n",
        "    dist = np.sum(dist, axis=1)\n",
        "    dist = np.sqrt(dist)\n",
        "    denom  = denom + np.power(1/dist,1/(m-1))\n",
        "\n",
        "  for i in range(k):\n",
        "    dist = (df.iloc[:,:].values - C[i])**2\n",
        "    dist = np.sum(dist, axis=1)\n",
        "    dist = np.sqrt(dist)\n",
        "    weight_arr[:,i] = np.divide(np.power(1/dist,1/(m-1)),denom)\n",
        "  return weight_arr"
      ],
      "execution_count": null,
      "outputs": []
    },
    {
      "cell_type": "code",
      "metadata": {
        "id": "G6WxMC581dZn"
      },
      "source": [
        "def FuzzyMeansAlgorithm():\n",
        "  weight_arr = initializeMembershipWeights()\n",
        "  for z in range(MAX_ITERS):\n",
        "    C = computeCentroids(weight_arr)\n",
        "    updateWeights(weight_arr,C)\n",
        "\n",
        "  return (weight_arr,C)"
      ],
      "execution_count": null,
      "outputs": []
    },
    {
      "cell_type": "code",
      "metadata": {
        "colab": {
          "base_uri": "https://localhost:8080/"
        },
        "id": "oNO4uXkM1oH9",
        "outputId": "350c5089-5c64-4122-ddfa-68b6656ba762"
      },
      "source": [
        "\n",
        "final_weights,Centers = FuzzyMeansAlgorithm()\n",
        "print(final_weights)"
      ],
      "execution_count": null,
      "outputs": [
        {
          "output_type": "stream",
          "name": "stdout",
          "text": [
            "[[0.06926416 0.05508431 0.87565152]\n",
            " [0.10941919 0.08631576 0.80426505]\n",
            " [0.11258863 0.08976111 0.79765025]\n",
            " [0.12235434 0.09655046 0.7810952 ]\n",
            " [0.08004637 0.06386282 0.85609081]\n",
            " [0.14591663 0.11544308 0.73864029]\n",
            " [0.11077288 0.08821102 0.80101609]\n",
            " [0.04584078 0.03618375 0.91797547]\n",
            " [0.16194329 0.12869765 0.70935906]\n",
            " [0.09554294 0.07519445 0.82926261]\n",
            " [0.11614567 0.0924601  0.79139423]\n",
            " [0.07014415 0.05518611 0.87466973]\n",
            " [0.1200181  0.09496841 0.78501349]\n",
            " [0.17249615 0.13954629 0.68795756]\n",
            " [0.1885068  0.15459086 0.65690234]\n",
            " [0.21129527 0.17341915 0.61528559]\n",
            " [0.1460071  0.11795797 0.73603493]\n",
            " [0.06497931 0.05159599 0.88342471]\n",
            " [0.1698304  0.13443393 0.69573567]\n",
            " [0.1030587  0.08216894 0.81477237]\n",
            " [0.09775562 0.07616274 0.82608165]\n",
            " [0.08800966 0.06983227 0.84215808]\n",
            " [0.14637076 0.11934928 0.73427996]\n",
            " [0.06455815 0.04989003 0.88555182]\n",
            " [0.10095185 0.07807467 0.82097348]\n",
            " [0.0995177  0.07748842 0.82299388]\n",
            " [0.0309901  0.02423396 0.94477594]\n",
            " [0.06513581 0.05150349 0.88336069]\n",
            " [0.07242682 0.0574422  0.87013098]\n",
            " [0.09843821 0.07723735 0.82432444]\n",
            " [0.09612976 0.07516401 0.82870623]\n",
            " [0.09644733 0.07581674 0.82773593]\n",
            " [0.15434243 0.12484589 0.72081168]\n",
            " [0.17918431 0.14620573 0.67460996]\n",
            " [0.08792745 0.0690555  0.84301705]\n",
            " [0.10465134 0.08363258 0.81171608]\n",
            " [0.1261823  0.10101045 0.77280724]\n",
            " [0.09262749 0.07407508 0.83329743]\n",
            " [0.15660648 0.12516583 0.71822769]\n",
            " [0.04614667 0.03640204 0.91745129]\n",
            " [0.08204129 0.06552731 0.8524314 ]\n",
            " [0.20892251 0.16632139 0.6247561 ]\n",
            " [0.14625588 0.11718196 0.73656216]\n",
            " [0.08359028 0.06540672 0.851003  ]\n",
            " [0.12804628 0.09969365 0.77226007]\n",
            " [0.11465766 0.09040753 0.79493481]\n",
            " [0.10375482 0.08243134 0.81381383]\n",
            " [0.11796953 0.0937182  0.78831227]\n",
            " [0.10358614 0.08242605 0.81398781]\n",
            " [0.06641225 0.05259625 0.8809915 ]\n",
            " [0.40438605 0.48236297 0.11325097]\n",
            " [0.56350056 0.34963313 0.08686631]\n",
            " [0.35616697 0.55323819 0.09059484]\n",
            " [0.54790709 0.27627668 0.17581623]\n",
            " [0.55303934 0.37006101 0.07689965]\n",
            " [0.70961673 0.20956526 0.08081801]\n",
            " [0.49449944 0.42290679 0.08259377]\n",
            " [0.4008374  0.25987467 0.33928793]\n",
            " [0.52714134 0.38121511 0.09164356]\n",
            " [0.52105833 0.27618888 0.20275279]\n",
            " [0.42432975 0.27701439 0.29865585]\n",
            " [0.71354826 0.20268182 0.08376992]\n",
            " [0.54144157 0.28587943 0.172679  ]\n",
            " [0.7280041  0.22084863 0.05114727]\n",
            " [0.5151911  0.26481903 0.21998987]\n",
            " [0.50829201 0.38262862 0.10907937]\n",
            " [0.65885328 0.24768735 0.09345937]\n",
            " [0.60755931 0.24870666 0.14373403]\n",
            " [0.56618366 0.32667938 0.10713696]\n",
            " [0.55210789 0.26399579 0.18389632]\n",
            " [0.5125711  0.40254698 0.08488192]\n",
            " [0.64524595 0.23700977 0.11774428]\n",
            " [0.49482928 0.42639437 0.07877635]\n",
            " [0.68035112 0.25048623 0.06916265]\n",
            " [0.6406131  0.26816243 0.09122447]\n",
            " [0.54908868 0.3520182  0.09889312]\n",
            " [0.41828726 0.48968049 0.09203225]\n",
            " [0.26264954 0.67866971 0.05868075]\n",
            " [0.90613204 0.07288009 0.02098787]\n",
            " [0.48447282 0.26540783 0.25011935]\n",
            " [0.5194535  0.27092146 0.20962504]\n",
            " [0.49757225 0.27068693 0.23174082]\n",
            " [0.595497   0.24892292 0.15558007]\n",
            " [0.45633678 0.46784589 0.07581734]\n",
            " [0.59636659 0.28232527 0.12130814]\n",
            " [0.57187797 0.32793411 0.10018792]\n",
            " [0.43141235 0.48010195 0.08848571]\n",
            " [0.58505984 0.30507657 0.1098636 ]\n",
            " [0.61670706 0.24580948 0.13748346]\n",
            " [0.56962009 0.26418624 0.16619367]\n",
            " [0.61230105 0.2603146  0.12738434]\n",
            " [0.75868873 0.19179573 0.04951554]\n",
            " [0.61248216 0.24553961 0.14197822]\n",
            " [0.40702062 0.26215632 0.33082306]\n",
            " [0.64126497 0.23676991 0.12196511]\n",
            " [0.64587721 0.23404306 0.12007973]\n",
            " [0.67217855 0.21998021 0.10784124]\n",
            " [0.72755001 0.20035741 0.07209258]\n",
            " [0.37667986 0.24694401 0.37637612]\n",
            " [0.64879008 0.22927122 0.1219387 ]\n",
            " [0.31626906 0.56390473 0.11982621]\n",
            " [0.44134567 0.46938031 0.08927401]\n",
            " [0.29527738 0.59452472 0.1101979 ]\n",
            " [0.24701149 0.68645469 0.06653382]\n",
            " [0.26971283 0.64134434 0.08894283]\n",
            " [0.33485801 0.51035644 0.15478555]\n",
            " [0.49533058 0.32619271 0.17847671]\n",
            " [0.32493853 0.5404187  0.13464277]\n",
            " [0.30077566 0.60200911 0.09721523]\n",
            " [0.32370752 0.534599   0.14169349]\n",
            " [0.21263163 0.7352018  0.05216657]\n",
            " [0.21719712 0.73155533 0.05124755]\n",
            " [0.2321658  0.6956791  0.0721551 ]\n",
            " [0.46627925 0.42926641 0.10445434]\n",
            " [0.39248354 0.49959492 0.10792153]\n",
            " [0.26201326 0.66162738 0.07635937]\n",
            " [0.18418781 0.76646875 0.04934344]\n",
            " [0.34017195 0.48925666 0.17057139]\n",
            " [0.34272635 0.48986041 0.16741324]\n",
            " [0.49322317 0.40240434 0.10437248]\n",
            " [0.28138723 0.61784923 0.10076354]\n",
            " [0.49076473 0.40496334 0.10427193]\n",
            " [0.33956882 0.50019558 0.1602356 ]\n",
            " [0.40199625 0.53352229 0.06448146]\n",
            " [0.26585512 0.64464296 0.08950193]\n",
            " [0.30994079 0.56967755 0.12038166]\n",
            " [0.48802652 0.44686098 0.0651125 ]\n",
            " [0.44298034 0.49060138 0.06641828]\n",
            " [0.24704582 0.68099278 0.07196139]\n",
            " [0.30939893 0.57801637 0.1125847 ]\n",
            " [0.32195854 0.54710464 0.13093682]\n",
            " [0.34087839 0.48956477 0.16955684]\n",
            " [0.25878717 0.66365918 0.07755364]\n",
            " [0.37801015 0.55677645 0.0652134 ]\n",
            " [0.37181804 0.52985861 0.09832334]\n",
            " [0.32925391 0.52442731 0.14631879]\n",
            " [0.30221814 0.59497862 0.10280324]\n",
            " [0.20501353 0.74044802 0.05453846]\n",
            " [0.52945482 0.39948296 0.07106222]\n",
            " [0.24509211 0.67760925 0.07729864]\n",
            " [0.27307822 0.63412545 0.09279634]\n",
            " [0.28351462 0.62755167 0.08893371]\n",
            " [0.44134567 0.46938031 0.08927401]\n",
            " [0.29019459 0.60286817 0.10693724]\n",
            " [0.29474192 0.59748071 0.10777738]\n",
            " [0.25200694 0.67374732 0.07424574]\n",
            " [0.37756688 0.54680568 0.07562744]\n",
            " [0.11913504 0.85190915 0.02895581]\n",
            " [0.30531333 0.59983091 0.09485577]\n",
            " [0.41773264 0.50396376 0.0783036 ]]\n"
          ]
        }
      ]
    },
    {
      "cell_type": "code",
      "metadata": {
        "colab": {
          "base_uri": "https://localhost:8080/"
        },
        "id": "ylpYDqho4alV",
        "outputId": "fe7d94a1-6ee9-4927-c590-bdb4fa812b97"
      },
      "source": [
        "labels = [0  for _ in range(len(df))]\n",
        "\n",
        "for i in range(len(df)):\n",
        "  labels[i] = final_weights[i].argmax()\n",
        "\n",
        "print(np.array(labels))"
      ],
      "execution_count": null,
      "outputs": [
        {
          "output_type": "stream",
          "name": "stdout",
          "text": [
            "[2 2 2 2 2 2 2 2 2 2 2 2 2 2 2 2 2 2 2 2 2 2 2 2 2 2 2 2 2 2 2 2 2 2 2 2 2\n",
            " 2 2 2 2 2 2 2 2 2 2 2 2 2 1 0 1 0 0 0 0 0 0 0 0 0 0 0 0 0 0 0 0 0 0 0 0 0\n",
            " 0 0 1 1 0 0 0 0 0 1 0 0 1 0 0 0 0 0 0 0 0 0 0 0 0 0 1 1 1 1 1 1 0 1 1 1 1\n",
            " 1 1 0 1 1 1 1 1 0 1 0 1 1 1 1 0 1 1 1 1 1 1 1 1 1 1 1 0 1 1 1 1 1 1 1 1 1\n",
            " 1 1]\n"
          ]
        }
      ]
    },
    {
      "cell_type": "code",
      "metadata": {
        "id": "Q3lgZy8t7Xhd"
      },
      "source": [
        "def calculate_SSE(datapoints, centroids, lebels):\n",
        "  sse = 0\n",
        "  for i in range(len(lebels)):\n",
        "    cluster = lebels[i]\n",
        "    sse += np.sum(np.square(np.subtract(datapoints[i], centroids[cluster])))\n",
        "  return sse"
      ],
      "execution_count": null,
      "outputs": []
    },
    {
      "cell_type": "code",
      "metadata": {
        "id": "r3VJ68AF7-4b"
      },
      "source": [
        "from sklearn.cluster import KMeans \n",
        "from sklearn.metrics import silhouette_score\n",
        "from sklearn.preprocessing import MinMaxScaler"
      ],
      "execution_count": null,
      "outputs": []
    },
    {
      "cell_type": "code",
      "metadata": {
        "colab": {
          "base_uri": "https://localhost:8080/"
        },
        "id": "TbIkgVw46qCh",
        "outputId": "66307aa4-66b0-4b61-b10c-35e97a210055"
      },
      "source": [
        "silhouette_avg = silhouette_score(df.to_numpy(), labels)\n",
        "\n",
        "print(\"Fuzzy C-means algorithm analysis for Iris dataset ...........\")\n",
        "print(\"For no of clusters =\", 3, \" The average silhouette_score is :\", silhouette_avg)\n",
        "print(\"For no of clusters =\", 3, \" The SSE index is :\", calculate_SSE(df.to_numpy(), Centers, labels))"
      ],
      "execution_count": null,
      "outputs": [
        {
          "output_type": "stream",
          "name": "stdout",
          "text": [
            "Fuzzy C-means algorithm analysis for Iris dataset ...........\n",
            "For no of clusters = 3  The average silhouette_score is : 0.5270101525021645\n",
            "For no of clusters = 3  The SSE index is : 97.43016759613728\n"
          ]
        }
      ]
    },
    {
      "cell_type": "code",
      "metadata": {
        "id": "I4_JtaZV1rGA"
      },
      "source": [
        "kmeans = KMeans(n_clusters = 3, init = 'k-means++', max_iter = 300, n_init = 10, random_state = 0)\n",
        "y_kmeans = kmeans.fit_predict(df.to_numpy())"
      ],
      "execution_count": null,
      "outputs": []
    },
    {
      "cell_type": "code",
      "metadata": {
        "colab": {
          "base_uri": "https://localhost:8080/"
        },
        "id": "pJ6nhAqO2IyC",
        "outputId": "722c1112-fdc5-4cd3-dc50-4d3cdde88d6d"
      },
      "source": [
        "silhouette_avg = silhouette_score(df.to_numpy(), y_kmeans)\n",
        "\n",
        "print(\"K-mean algorithm analysis for Iris dataset ...........\")  \n",
        "print(\"For no of clusters =\", 3, \" The average silhouette_score is :\", silhouette_avg)\n",
        "print(\"For no of clusters =\", 3, \" The average silhouette_score is :\", kmeans.inertia_)"
      ],
      "execution_count": null,
      "outputs": [
        {
          "output_type": "stream",
          "name": "stdout",
          "text": [
            "K-mean algorithm analysis for Iris dataset ...........\n",
            "For no of clusters = 3  The average silhouette_score is : 0.5528190123564091\n",
            "For no of clusters = 3  The average silhouette_score is : 78.85144142614601\n"
          ]
        }
      ]
    },
    {
      "cell_type": "code",
      "metadata": {
        "id": "-y5IVNAb3BdH"
      },
      "source": [
        ""
      ],
      "execution_count": null,
      "outputs": []
    }
  ]
}