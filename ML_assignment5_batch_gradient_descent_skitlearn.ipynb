{
  "nbformat": 4,
  "nbformat_minor": 0,
  "metadata": {
    "colab": {
      "name": "ML_assignment5_batch_gradient_descent_skitlearn.ipynb",
      "provenance": [],
      "authorship_tag": "ABX9TyOFrAnbyUwcij/gdLrt4cmR",
      "include_colab_link": true
    },
    "kernelspec": {
      "name": "python3",
      "display_name": "Python 3"
    },
    "language_info": {
      "name": "python"
    }
  },
  "cells": [
    {
      "cell_type": "markdown",
      "metadata": {
        "id": "view-in-github",
        "colab_type": "text"
      },
      "source": [
        "<a href=\"https://colab.research.google.com/github/95871abhinandankumar/95871abhinandankumar/blob/main/ML_assignment5_batch_gradient_descent_skitlearn.ipynb\" target=\"_parent\"><img src=\"https://colab.research.google.com/assets/colab-badge.svg\" alt=\"Open In Colab\"/></a>"
      ]
    },
    {
      "cell_type": "code",
      "metadata": {
        "colab": {
          "base_uri": "https://localhost:8080/"
        },
        "id": "JDQavY4IZFPT",
        "outputId": "1cc63b53-ca23-48aa-b63e-18d073686a47"
      },
      "source": [
        "from sklearn import datasets\n",
        "import pandas as pd\n",
        "\n",
        "\n",
        "boston = datasets.load_boston(return_X_y=False)\n",
        "boston_df = pd.DataFrame(boston.data, columns=boston.feature_names)\n",
        "boston_df['PRICE'] = boston.target\n",
        "print(boston_df)"
      ],
      "execution_count": 14,
      "outputs": [
        {
          "output_type": "stream",
          "name": "stdout",
          "text": [
            "        CRIM    ZN  INDUS  CHAS    NOX  ...    TAX  PTRATIO       B  LSTAT  PRICE\n",
            "0    0.00632  18.0   2.31   0.0  0.538  ...  296.0     15.3  396.90   4.98   24.0\n",
            "1    0.02731   0.0   7.07   0.0  0.469  ...  242.0     17.8  396.90   9.14   21.6\n",
            "2    0.02729   0.0   7.07   0.0  0.469  ...  242.0     17.8  392.83   4.03   34.7\n",
            "3    0.03237   0.0   2.18   0.0  0.458  ...  222.0     18.7  394.63   2.94   33.4\n",
            "4    0.06905   0.0   2.18   0.0  0.458  ...  222.0     18.7  396.90   5.33   36.2\n",
            "..       ...   ...    ...   ...    ...  ...    ...      ...     ...    ...    ...\n",
            "501  0.06263   0.0  11.93   0.0  0.573  ...  273.0     21.0  391.99   9.67   22.4\n",
            "502  0.04527   0.0  11.93   0.0  0.573  ...  273.0     21.0  396.90   9.08   20.6\n",
            "503  0.06076   0.0  11.93   0.0  0.573  ...  273.0     21.0  396.90   5.64   23.9\n",
            "504  0.10959   0.0  11.93   0.0  0.573  ...  273.0     21.0  393.45   6.48   22.0\n",
            "505  0.04741   0.0  11.93   0.0  0.573  ...  273.0     21.0  396.90   7.88   11.9\n",
            "\n",
            "[506 rows x 14 columns]\n"
          ]
        }
      ]
    },
    {
      "cell_type": "code",
      "metadata": {
        "colab": {
          "base_uri": "https://localhost:8080/"
        },
        "id": "oSRPZD32aC2D",
        "outputId": "29a5d4bb-7c2e-4579-87f3-8ace60505fa9"
      },
      "source": [
        "train_dataset = boston_df.sample(frac=0.3)\n",
        "dataframe = boston_df.drop(train_dataset.index)\n",
        "validation_dataset = dataframe.sample(frac=(.1/.7))\n",
        "test_dataset = dataframe.drop(validation_dataset.index)\n",
        "\n",
        "print(\"train dataset\\n\", train_dataset)\n",
        "# print(\"validation dataset\\n\", validation_dataset)\n",
        "# print(\"test dataset\\n\", test_dataset)"
      ],
      "execution_count": 15,
      "outputs": [
        {
          "output_type": "stream",
          "name": "stdout",
          "text": [
            "train dataset\n",
            "          CRIM    ZN  INDUS  CHAS    NOX  ...    TAX  PTRATIO       B  LSTAT  PRICE\n",
            "473   4.64689   0.0  18.10   0.0  0.614  ...  666.0     20.2  374.68  11.66   29.8\n",
            "128   0.32543   0.0  21.89   0.0  0.624  ...  437.0     21.2  396.90  15.39   18.0\n",
            "124   0.09849   0.0  25.65   0.0  0.581  ...  188.0     19.1  379.38  17.58   18.8\n",
            "464   7.83932   0.0  18.10   0.0  0.655  ...  666.0     20.2  396.90  13.22   21.4\n",
            "375  19.60910   0.0  18.10   0.0  0.671  ...  666.0     20.2  396.90  13.44   15.0\n",
            "..        ...   ...    ...   ...    ...  ...    ...      ...     ...    ...    ...\n",
            "388  14.33370   0.0  18.10   0.0  0.700  ...  666.0     20.2  372.92  30.62   10.2\n",
            "339   0.05497   0.0   5.19   0.0  0.515  ...  224.0     20.2  396.90   9.74   19.0\n",
            "328   0.06617   0.0   3.24   0.0  0.460  ...  430.0     16.9  382.44   9.97   19.3\n",
            "240   0.11329  30.0   4.93   0.0  0.428  ...  300.0     16.6  391.25  11.38   22.0\n",
            "3     0.03237   0.0   2.18   0.0  0.458  ...  222.0     18.7  394.63   2.94   33.4\n",
            "\n",
            "[152 rows x 14 columns]\n"
          ]
        }
      ]
    },
    {
      "cell_type": "code",
      "metadata": {
        "id": "niXZTn17bJbE"
      },
      "source": [
        "from sklearn import preprocessing\n",
        "import numpy as np\n"
      ],
      "execution_count": 16,
      "outputs": []
    },
    {
      "cell_type": "code",
      "metadata": {
        "id": "oBQoOEEimV9u"
      },
      "source": [
        "def hypothesis(w, index, dataset):\n",
        "  sample =dataset[index][:-1]\n",
        "  sample = np.concatenate([[1], sample])\n",
        "  array = np.multiply(w, sample)\n",
        "  return np.sum(array)"
      ],
      "execution_count": 17,
      "outputs": []
    },
    {
      "cell_type": "code",
      "metadata": {
        "id": "EH8e0VXoePEz"
      },
      "source": [
        "# to calculate the predicted value with the help of hypothesis function\n",
        "def predicted_values(w, dataset):\n",
        "  predicted = []\n",
        "  for i in range(len(dataset)):\n",
        "    predicted.append(hypothesis(w, i, dataset))\n",
        "  \n",
        "  return np.array(predicted)\n",
        "\n",
        "\n",
        "# to calculate mean square error\n",
        "def MSE(predicted, actual):\n",
        "  return np.square(np.subtract(predicted, actual)).mean()/2"
      ],
      "execution_count": 18,
      "outputs": []
    },
    {
      "cell_type": "code",
      "metadata": {
        "id": "BgIvLeP7jRjb"
      },
      "source": [
        "# to update w using batch gradient decendent\n",
        "def update_parameter(w, alpha, dataset):\n",
        "  predicted = predicted_values(w, dataset)\n",
        "  m = len(dataset)\n",
        "  w[0] = w[0] - (alpha /m)*(np.sum(np.subtract(predicted, dataset[:, -1])))\n",
        "  for i in range(1, len(w)):\n",
        "    w[i] = w[i] - (alpha /m)*(np.sum(np.multiply(np.subtract(predicted, dataset[:, -1]), dataset[:, i-1])))\n",
        "  return w"
      ],
      "execution_count": 19,
      "outputs": []
    },
    {
      "cell_type": "code",
      "metadata": {
        "id": "MIo-7ZE8a-By"
      },
      "source": [
        "def linear_regression(epoch, alpha, rho, w, train_dataset):\n",
        "  pre_MSE = 0\n",
        "  curr_MSE = 0\n",
        "  for itr in range(epoch):\n",
        "    predicted = predicted_values(w, train_dataset)\n",
        "    curr_MSE = MSE(predicted, train_dataset[:,-1])\n",
        "    w = update_parameter(w, alpha, train_dataset)\n",
        "\n",
        "    if abs(curr_MSE - pre_MSE) <= rho:\n",
        "      break;\n",
        "    pre_MSE = curr_MSE\n",
        "  return w, curr_MSE"
      ],
      "execution_count": 23,
      "outputs": []
    },
    {
      "cell_type": "code",
      "metadata": {
        "id": "nQ1Sx46bjoI4"
      },
      "source": [
        "\n",
        "train = preprocessing.normalize(train_dataset.to_numpy())\n",
        "validation = preprocessing.normalize(validation_dataset.to_numpy())\n",
        "test = preprocessing.normalize(test_dataset.to_numpy())\n",
        "\n",
        "print(\"train dataset after normalization...\")\n",
        "print(train, \"\\n\\n\\n\\n\")\n",
        "print(\"validation dataset after normalization...\")\n",
        "print(validation, \"\\n\\n\\n\\n\")\n",
        "print(\"test dataset after normalization...\")\n",
        "print(test)"
      ],
      "execution_count": null,
      "outputs": []
    },
    {
      "cell_type": "code",
      "metadata": {
        "colab": {
          "base_uri": "https://localhost:8080/"
        },
        "id": "4Bv0GlJdjq66",
        "outputId": "7667bece-43e0-4a78-e4d8-ab07b7d077d9"
      },
      "source": [
        "trains_MSE=[]\n",
        "validations_MSE =[]\n",
        "w=[1 for _ in range(14)]\n",
        "for i in range(1, 100):\n",
        "  w=[1 for _ in range(14)]\n",
        "  w, mse = linear_regression(i, 0.1, 0.001, w, train)\n",
        "  trains_MSE.append(mse)\n",
        "  predicted = predicted_values(w, validation)\n",
        "  validations_MSE.append(MSE(predicted, validation[:,-1]))\n",
        "\n",
        "print(trains_MSE)\n",
        "print(validations_MSE)\n",
        "predicted = predicted_values(w, test)\n",
        "test_MSE = MSE(predicted, test[:,-1])\n",
        "print(test_MSE)\n",
        "\n"
      ],
      "execution_count": 35,
      "outputs": [
        {
          "output_type": "stream",
          "name": "stdout",
          "text": [
            "[3.3029968176187103, 2.1484205557695315, 1.3976184857159566, 0.9093840479785159, 0.591892969549803, 0.38543345555389386, 0.2511759206159175, 0.16387013227995476, 0.1070962850470843, 0.07017685294449988, 0.04616841870303791, 0.03055579372959096, 0.020402826082520864, 0.013800185046512384, 0.009506264642095896, 0.006713669160817619, 0.004897362599357803, 0.003715922766526991, 0.002947328474254428, 0.002947328474254428, 0.002947328474254428, 0.002947328474254428, 0.002947328474254428, 0.002947328474254428, 0.002947328474254428, 0.002947328474254428, 0.002947328474254428, 0.002947328474254428, 0.002947328474254428, 0.002947328474254428, 0.002947328474254428, 0.002947328474254428, 0.002947328474254428, 0.002947328474254428, 0.002947328474254428, 0.002947328474254428, 0.002947328474254428, 0.002947328474254428, 0.002947328474254428, 0.002947328474254428, 0.002947328474254428, 0.002947328474254428, 0.002947328474254428, 0.002947328474254428, 0.002947328474254428, 0.002947328474254428, 0.002947328474254428, 0.002947328474254428, 0.002947328474254428, 0.002947328474254428, 0.002947328474254428, 0.002947328474254428, 0.002947328474254428, 0.002947328474254428, 0.002947328474254428, 0.002947328474254428, 0.002947328474254428, 0.002947328474254428, 0.002947328474254428, 0.002947328474254428, 0.002947328474254428, 0.002947328474254428, 0.002947328474254428, 0.002947328474254428, 0.002947328474254428, 0.002947328474254428, 0.002947328474254428, 0.002947328474254428, 0.002947328474254428, 0.002947328474254428, 0.002947328474254428, 0.002947328474254428, 0.002947328474254428, 0.002947328474254428, 0.002947328474254428, 0.002947328474254428, 0.002947328474254428, 0.002947328474254428, 0.002947328474254428, 0.002947328474254428, 0.002947328474254428, 0.002947328474254428, 0.002947328474254428, 0.002947328474254428, 0.002947328474254428, 0.002947328474254428, 0.002947328474254428, 0.002947328474254428, 0.002947328474254428, 0.002947328474254428, 0.002947328474254428, 0.002947328474254428, 0.002947328474254428, 0.002947328474254428, 0.002947328474254428, 0.002947328474254428, 0.002947328474254428, 0.002947328474254428, 0.002947328474254428]\n",
            "[2.1681629413439993, 1.4120910509882347, 0.9200716201980182, 0.5998305511295071, 0.3913500743254103, 0.25559078251112455, 0.16715725129805178, 0.10952820678848732, 0.07195445433841977, 0.047441388330107054, 0.031436838269813985, 0.02097762475432963, 0.014134440204148477, 0.00965075213289467, 0.006707897733922901, 0.004772256067222117, 0.0034958080414166847, 0.0026514249555786677, 0.002090749607822192, 0.002090749607822192, 0.002090749607822192, 0.002090749607822192, 0.002090749607822192, 0.002090749607822192, 0.002090749607822192, 0.002090749607822192, 0.002090749607822192, 0.002090749607822192, 0.002090749607822192, 0.002090749607822192, 0.002090749607822192, 0.002090749607822192, 0.002090749607822192, 0.002090749607822192, 0.002090749607822192, 0.002090749607822192, 0.002090749607822192, 0.002090749607822192, 0.002090749607822192, 0.002090749607822192, 0.002090749607822192, 0.002090749607822192, 0.002090749607822192, 0.002090749607822192, 0.002090749607822192, 0.002090749607822192, 0.002090749607822192, 0.002090749607822192, 0.002090749607822192, 0.002090749607822192, 0.002090749607822192, 0.002090749607822192, 0.002090749607822192, 0.002090749607822192, 0.002090749607822192, 0.002090749607822192, 0.002090749607822192, 0.002090749607822192, 0.002090749607822192, 0.002090749607822192, 0.002090749607822192, 0.002090749607822192, 0.002090749607822192, 0.002090749607822192, 0.002090749607822192, 0.002090749607822192, 0.002090749607822192, 0.002090749607822192, 0.002090749607822192, 0.002090749607822192, 0.002090749607822192, 0.002090749607822192, 0.002090749607822192, 0.002090749607822192, 0.002090749607822192, 0.002090749607822192, 0.002090749607822192, 0.002090749607822192, 0.002090749607822192, 0.002090749607822192, 0.002090749607822192, 0.002090749607822192, 0.002090749607822192, 0.002090749607822192, 0.002090749607822192, 0.002090749607822192, 0.002090749607822192, 0.002090749607822192, 0.002090749607822192, 0.002090749607822192, 0.002090749607822192, 0.002090749607822192, 0.002090749607822192, 0.002090749607822192, 0.002090749607822192, 0.002090749607822192, 0.002090749607822192, 0.002090749607822192, 0.002090749607822192]\n",
            "0.0020184669133591427\n"
          ]
        }
      ]
    },
    {
      "cell_type": "code",
      "metadata": {
        "colab": {
          "base_uri": "https://localhost:8080/",
          "height": 282
        },
        "id": "NdVpBefFncUN",
        "outputId": "6fc28ef1-b6ad-4e0d-95ed-582cc9333239"
      },
      "source": [
        "import matplotlib.pyplot as plt\n",
        "\n",
        "# print(trains_MSE1)\n",
        "epoch = [i+1 for i in range(len(trains_MSE))]\n",
        "plt.plot(epoch, trains_MSE)"
      ],
      "execution_count": 37,
      "outputs": [
        {
          "output_type": "execute_result",
          "data": {
            "text/plain": [
              "[<matplotlib.lines.Line2D at 0x7fb11e23fdd0>]"
            ]
          },
          "metadata": {},
          "execution_count": 37
        },
        {
          "output_type": "display_data",
          "data": {
            "image/png": "[encoded data removed]",
            "text/plain": [
              "<Figure size 432x288 with 1 Axes>"
            ]
          },
          "metadata": {
            "needs_background": "light"
          }
        }
      ]
    },
    {
      "cell_type": "code",
      "metadata": {
        "id": "PIVqTQW3oefW"
      },
      "source": [
        "from sklearn.linear_model import LinearRegression\n",
        "reg = LinearRegression().fit(, y)\n",
        "reg.score(X, y)"
      ],
      "execution_count": null,
      "outputs": []
    }
  ]
}