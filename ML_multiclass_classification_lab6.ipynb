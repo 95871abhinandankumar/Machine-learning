{
  "nbformat": 4,
  "nbformat_minor": 0,
  "metadata": {
    "colab": {
      "name": "ML_multiclass_classification_lab6.ipynb",
      "provenance": [],
      "authorship_tag": "ABX9TyPPQer4UIpptNOWPNxQ9vMq",
      "include_colab_link": true
    },
    "kernelspec": {
      "name": "python3",
      "display_name": "Python 3"
    },
    "language_info": {
      "name": "python"
    }
  },
  "cells": [
    {
      "cell_type": "markdown",
      "metadata": {
        "id": "view-in-github",
        "colab_type": "text"
      },
      "source": [
        "<a href=\"https://colab.research.google.com/github/95871abhinandankumar/95871abhinandankumar/blob/main/ML_multiclass_classification_lab6.ipynb\" target=\"_parent\"><img src=\"https://colab.research.google.com/assets/colab-badge.svg\" alt=\"Open In Colab\"/></a>"
      ]
    },
    {
      "cell_type": "code",
      "metadata": {
        "id": "jljjhsKhhuIS"
      },
      "source": [
        "from sklearn import datasets\n",
        "import numpy as np\n",
        "import pandas as pd\n",
        "iris = datasets.load_iris()"
      ],
      "execution_count": null,
      "outputs": []
    },
    {
      "cell_type": "code",
      "metadata": {
        "colab": {
          "base_uri": "https://localhost:8080/"
        },
        "id": "l9Db8yYNiAJe",
        "outputId": "9bfacb48-053f-4d56-ef40-ecdbbeab9e9b"
      },
      "source": [
        "# features of iris dataset\n",
        "iris.feature_names"
      ],
      "execution_count": null,
      "outputs": [
        {
          "output_type": "execute_result",
          "data": {
            "text/plain": [
              "['sepal length (cm)',\n",
              " 'sepal width (cm)',\n",
              " 'petal length (cm)',\n",
              " 'petal width (cm)']"
            ]
          },
          "metadata": {},
          "execution_count": 2
        }
      ]
    },
    {
      "cell_type": "code",
      "metadata": {
        "colab": {
          "base_uri": "https://localhost:8080/"
        },
        "id": "e4DRcOu7iHt_",
        "outputId": "07d03874-45d6-4206-f313-739e4c341b81"
      },
      "source": [
        "print(\"target name\")\n",
        "print(iris.target_names)\n",
        "print(\"target...\")\n",
        "iris.target"
      ],
      "execution_count": null,
      "outputs": [
        {
          "output_type": "stream",
          "name": "stdout",
          "text": [
            "target name\n",
            "['setosa' 'versicolor' 'virginica']\n",
            "target...\n"
          ]
        },
        {
          "output_type": "execute_result",
          "data": {
            "text/plain": [
              "array([0, 0, 0, 0, 0, 0, 0, 0, 0, 0, 0, 0, 0, 0, 0, 0, 0, 0, 0, 0, 0, 0,\n",
              "       0, 0, 0, 0, 0, 0, 0, 0, 0, 0, 0, 0, 0, 0, 0, 0, 0, 0, 0, 0, 0, 0,\n",
              "       0, 0, 0, 0, 0, 0, 1, 1, 1, 1, 1, 1, 1, 1, 1, 1, 1, 1, 1, 1, 1, 1,\n",
              "       1, 1, 1, 1, 1, 1, 1, 1, 1, 1, 1, 1, 1, 1, 1, 1, 1, 1, 1, 1, 1, 1,\n",
              "       1, 1, 1, 1, 1, 1, 1, 1, 1, 1, 1, 1, 2, 2, 2, 2, 2, 2, 2, 2, 2, 2,\n",
              "       2, 2, 2, 2, 2, 2, 2, 2, 2, 2, 2, 2, 2, 2, 2, 2, 2, 2, 2, 2, 2, 2,\n",
              "       2, 2, 2, 2, 2, 2, 2, 2, 2, 2, 2, 2, 2, 2, 2, 2, 2, 2])"
            ]
          },
          "metadata": {},
          "execution_count": 9
        }
      ]
    },
    {
      "cell_type": "code",
      "metadata": {
        "colab": {
          "base_uri": "https://localhost:8080/"
        },
        "id": "Bux84YJviiXH",
        "outputId": "3f28595b-c76e-458b-943e-d1aa2e0960c3"
      },
      "source": [
        "df = pd.DataFrame(iris.data,columns=[iris.feature_names])\n",
        "df['target'] = iris.target\n",
        "\n",
        "print(df)"
      ],
      "execution_count": null,
      "outputs": [
        {
          "output_type": "stream",
          "name": "stdout",
          "text": [
            "    sepal length (cm) sepal width (cm)  ... petal width (cm) target\n",
            "0                 5.1              3.5  ...              0.2      0\n",
            "1                 4.9              3.0  ...              0.2      0\n",
            "2                 4.7              3.2  ...              0.2      0\n",
            "3                 4.6              3.1  ...              0.2      0\n",
            "4                 5.0              3.6  ...              0.2      0\n",
            "..                ...              ...  ...              ...    ...\n",
            "145               6.7              3.0  ...              2.3      2\n",
            "146               6.3              2.5  ...              1.9      2\n",
            "147               6.5              3.0  ...              2.0      2\n",
            "148               6.2              3.4  ...              2.3      2\n",
            "149               5.9              3.0  ...              1.8      2\n",
            "\n",
            "[150 rows x 5 columns]\n"
          ]
        }
      ]
    },
    {
      "cell_type": "code",
      "metadata": {
        "colab": {
          "base_uri": "https://localhost:8080/"
        },
        "id": "Xq7jDk1UiQ01",
        "outputId": "2093048d-797c-4187-d5d1-c470b6ee1dc9"
      },
      "source": [
        "from sklearn.preprocessing import MinMaxScaler\n",
        "scaling = MinMaxScaler()\n",
        "samples = scaling.fit_transform(df[df.columns])\n",
        "df = pd.DataFrame(samples)\n",
        "\n",
        "print(df)"
      ],
      "execution_count": null,
      "outputs": [
        {
          "output_type": "stream",
          "name": "stdout",
          "text": [
            "            0         1         2         3    4\n",
            "0    0.222222  0.625000  0.067797  0.041667  0.0\n",
            "1    0.166667  0.416667  0.067797  0.041667  0.0\n",
            "2    0.111111  0.500000  0.050847  0.041667  0.0\n",
            "3    0.083333  0.458333  0.084746  0.041667  0.0\n",
            "4    0.194444  0.666667  0.067797  0.041667  0.0\n",
            "..        ...       ...       ...       ...  ...\n",
            "145  0.666667  0.416667  0.711864  0.916667  1.0\n",
            "146  0.555556  0.208333  0.677966  0.750000  1.0\n",
            "147  0.611111  0.416667  0.711864  0.791667  1.0\n",
            "148  0.527778  0.583333  0.745763  0.916667  1.0\n",
            "149  0.444444  0.416667  0.694915  0.708333  1.0\n",
            "\n",
            "[150 rows x 5 columns]\n"
          ]
        }
      ]
    },
    {
      "cell_type": "code",
      "metadata": {
        "id": "00VM-PJlmWhn"
      },
      "source": [
        "dataset = df.to_numpy()\n",
        "# print(dataset)\n",
        "\n",
        "dataset_setosa = np.copy(dataset)\n",
        "\n",
        "for i in range(len(dataset_setosa)):\n",
        "  if dataset_setosa[i][-1] == 0:\n",
        "    dataset_setosa[i][-1] = 1\n",
        "  else:\n",
        "    dataset_setosa[i][-1] = 0\n",
        "\n",
        "# print(dataset_setosa)\n",
        "# print(dataset)"
      ],
      "execution_count": null,
      "outputs": []
    },
    {
      "cell_type": "code",
      "metadata": {
        "id": "eT_p9WHIoVfz"
      },
      "source": [
        "dataset_versicolor = np.copy(dataset)\n",
        "\n",
        "for i in range(len(dataset_versicolor)):\n",
        "  if dataset_versicolor[i][-1] == 0.5:\n",
        "    dataset_versicolor[i][-1] = 1\n",
        "  else:\n",
        "    dataset_versicolor[i][-1] = 0\n",
        "# print(dataset)\n",
        "# print(dataset_versicolor)"
      ],
      "execution_count": null,
      "outputs": []
    },
    {
      "cell_type": "code",
      "metadata": {
        "id": "4XlZ98Dco3qU"
      },
      "source": [
        "dataset_verginica = np.copy(dataset)\n",
        "\n",
        "for i in range(len(dataset_verginica)):\n",
        "  if dataset_verginica[i][-1] != 1:\n",
        "    dataset_verginica[i][-1] = 0\n",
        "print(dataset_verginica)"
      ],
      "execution_count": null,
      "outputs": []
    },
    {
      "cell_type": "code",
      "metadata": {
        "id": "7bxArielqYZD"
      },
      "source": [
        "import math"
      ],
      "execution_count": null,
      "outputs": []
    },
    {
      "cell_type": "code",
      "metadata": {
        "id": "cf6SlB0Sqj3-"
      },
      "source": [
        "def hypothesis(w,x):\n",
        "  y=w[0]\n",
        "  sample =dataset[:-1]\n",
        "  sample = np.concatenate([[1], sample])\n",
        "  y = np.multiply(w, sample)\n",
        "  gx = 1/(1+(math.e)**(-1*y))\n",
        "  return gx"
      ],
      "execution_count": null,
      "outputs": []
    },
    {
      "cell_type": "code",
      "metadata": {
        "id": "XWi99thEsRtu"
      },
      "source": [
        "# to calculate the predicted value with the help of hypothesis function\n",
        "def predicted_values(w, dataset):\n",
        "  predicted = []\n",
        "  for i in range(len(dataset)):\n",
        "    predicted.append(hypothesis(w, dataset[i]))\n",
        "  \n",
        "  return np.array(predicted)\n",
        "\n",
        "\n",
        "# to calculate mean square error\n",
        "def MSE(predicted, actual):\n",
        "  return np.square(np.subtract(predicted, actual)).mean()/2"
      ],
      "execution_count": null,
      "outputs": []
    },
    {
      "cell_type": "code",
      "metadata": {
        "id": "9hZjR0zYw6jb"
      },
      "source": [
        "# to update w using stochastic gradient decendent\n",
        "def update_parameter_stochastic(w, alpha, dataset):\n",
        "  np.random.shuffle(dataset)\n",
        "  m = len(dataset)\n",
        "  for j in range(m):\n",
        "    hy = hypothesis(w, dataset[i])\n",
        "    w[0] = w[0] - (alpha /m)*(hy- dataset[:, -1][j])\n",
        "    for i in range(1, len(w)):\n",
        "      w[i] = w[i] - (alpha /m)*((hy- dataset[:, -1][j])* dataset[:, i-1][j])\n",
        "  return w\n",
        "print(update_parameter_stochastic([1,1,1], 0.1, dataset))"
      ],
      "execution_count": null,
      "outputs": []
    },
    {
      "cell_type": "code",
      "metadata": {
        "id": "L0oM1fp1wAvh"
      },
      "source": [
        "def logistic_regression(epoch, alpha, rho, w, train_dataset, validation):\n",
        "  pre_MSE = 0\n",
        "  curr_MSE = 0\n",
        "  trains_MSE=[]\n",
        "  validations_MSE=[]\n",
        "  for itr in range(epoch):\n",
        "    predicted = predicted_values(w, train_dataset)\n",
        "    curr_MSE = MSE(predicted, train_dataset[:,-1])\n",
        "    w = update_parameter(w, alpha, train_dataset)\n",
        "    \n",
        "    trains_MSE.append(curr_MSE)\n",
        "    predicted = predicted_values(w, validation)\n",
        "    validations_MSE.append(MSE(predicted, validation[:,-1]))\n",
        "\n",
        "    if abs(curr_MSE - pre_MSE) <= rho:\n",
        "      break;\n",
        "    pre_MSE = curr_MSE\n",
        "  return w, trains_MSE, validations_MSE"
      ],
      "execution_count": null,
      "outputs": []
    },
    {
      "cell_type": "code",
      "metadata": {
        "colab": {
          "base_uri": "https://localhost:8080/"
        },
        "id": "KFR9rwvv890i",
        "outputId": "052d823c-b292-4a3b-9f89-d926e46c65a4"
      },
      "source": [
        "# dataset_setosa\n",
        "w_setosa = [1 for _ in range(5)]\n",
        "\n",
        "from sklearn.model_selection import train_test_split as sk_split\n",
        "\n",
        "train_setosa_x,test_setosa_x,train_setosa_y,test_setosa_y=sk_split(dataset_setosa[:, :-1], dataset_setosa[:, -1],train_size=0.3)\n",
        "\n",
        "train_setosa = np.concatenate((train_setosa_x, train_setosa_y.reshape(len(train_setosa_y), -1)), axis=1)\n",
        "print(train_setosa.shape) \n",
        "\n",
        "validation_setosa_x,test_setosa_x,validation_setosa_y,test_setosa_y=sk_split(test_setosa_x, test_setosa_y,train_size=0.4/0.7)\n",
        "\n",
        "validation_setosa = np.concatenate((validation_setosa_x, validation_setosa_y.reshape(len(validation_setosa_y), -1)), axis=1)\n",
        "print(validation_setosa.shape)\n",
        "\n",
        "\n",
        "test_setosa = np.concatenate((test_setosa_x, test_setosa_y.reshape(len(test_setosa_y), -1)), axis=1)\n",
        "print(test_setosa.shape)\n",
        "# validation_setosa\n",
        "# test_setosa"
      ],
      "execution_count": 34,
      "outputs": [
        {
          "output_type": "stream",
          "name": "stdout",
          "text": [
            "(45, 5)\n",
            "(60, 5)\n",
            "(45, 5)\n"
          ]
        }
      ]
    },
    {
      "cell_type": "code",
      "metadata": {
        "colab": {
          "base_uri": "https://localhost:8080/"
        },
        "id": "sezFMm21CFY-",
        "outputId": "b2cb5e7f-ff1b-45e4-f5bb-9e5b4004c113"
      },
      "source": [
        "print(train_setosa)"
      ],
      "execution_count": 37,
      "outputs": [
        {
          "output_type": "stream",
          "name": "stdout",
          "text": [
            "[[0.61111111 0.41666667 0.71186441 0.79166667 0.        ]\n",
            " [0.86111111 0.33333333 0.86440678 0.75       0.        ]\n",
            " [0.19444444 0.         0.42372881 0.375      0.        ]\n",
            " [0.22222222 0.70833333 0.08474576 0.125      1.        ]\n",
            " [0.08333333 0.45833333 0.08474576 0.04166667 1.        ]\n",
            " [0.22222222 0.625      0.06779661 0.04166667 1.        ]\n",
            " [0.41666667 0.29166667 0.49152542 0.45833333 0.        ]\n",
            " [0.30555556 0.58333333 0.08474576 0.125      1.        ]\n",
            " [0.30555556 0.70833333 0.08474576 0.04166667 1.        ]\n",
            " [0.19444444 0.66666667 0.06779661 0.04166667 1.        ]\n",
            " [0.05555556 0.125      0.05084746 0.08333333 1.        ]\n",
            " [0.30555556 0.58333333 0.11864407 0.04166667 1.        ]\n",
            " [0.61111111 0.41666667 0.81355932 0.875      0.        ]\n",
            " [0.36111111 0.29166667 0.54237288 0.5        0.        ]\n",
            " [0.16666667 0.20833333 0.59322034 0.66666667 0.        ]\n",
            " [0.22222222 0.75       0.08474576 0.08333333 1.        ]\n",
            " [0.25       0.29166667 0.49152542 0.54166667 0.        ]\n",
            " [0.80555556 0.41666667 0.81355932 0.625      0.        ]\n",
            " [0.47222222 0.58333333 0.59322034 0.625      0.        ]\n",
            " [0.02777778 0.41666667 0.05084746 0.04166667 1.        ]\n",
            " [0.63888889 0.41666667 0.57627119 0.54166667 0.        ]\n",
            " [0.16666667 0.45833333 0.08474576 0.         1.        ]\n",
            " [0.41666667 0.29166667 0.69491525 0.75       0.        ]\n",
            " [0.55555556 0.54166667 0.84745763 1.         0.        ]\n",
            " [0.02777778 0.375      0.06779661 0.04166667 1.        ]\n",
            " [0.16666667 0.41666667 0.06779661 0.04166667 1.        ]\n",
            " [0.47222222 0.08333333 0.50847458 0.375      0.        ]\n",
            " [0.52777778 0.08333333 0.59322034 0.58333333 0.        ]\n",
            " [0.38888889 0.33333333 0.52542373 0.5        0.        ]\n",
            " [0.41666667 0.33333333 0.69491525 0.95833333 0.        ]\n",
            " [0.22222222 0.75       0.15254237 0.125      1.        ]\n",
            " [0.38888889 1.         0.08474576 0.125      1.        ]\n",
            " [0.94444444 0.25       1.         0.91666667 0.        ]\n",
            " [0.44444444 0.41666667 0.69491525 0.70833333 0.        ]\n",
            " [0.36111111 0.41666667 0.59322034 0.58333333 0.        ]\n",
            " [0.58333333 0.33333333 0.77966102 0.83333333 0.        ]\n",
            " [0.08333333 0.5        0.06779661 0.04166667 1.        ]\n",
            " [0.66666667 0.20833333 0.81355932 0.70833333 0.        ]\n",
            " [0.22222222 0.625      0.06779661 0.08333333 1.        ]\n",
            " [0.47222222 0.375      0.59322034 0.58333333 0.        ]\n",
            " [0.66666667 0.45833333 0.57627119 0.54166667 0.        ]\n",
            " [0.66666667 0.45833333 0.62711864 0.58333333 0.        ]\n",
            " [0.5        0.33333333 0.62711864 0.45833333 0.        ]\n",
            " [0.13888889 0.45833333 0.10169492 0.04166667 1.        ]\n",
            " [0.13888889 0.41666667 0.06779661 0.08333333 1.        ]]\n"
          ]
        }
      ]
    }
  ]
}