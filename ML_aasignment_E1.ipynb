{
  "nbformat": 4,
  "nbformat_minor": 0,
  "metadata": {
    "colab": {
      "name": "ML_aasignment_E1.ipynb",
      "provenance": [],
      "collapsed_sections": [],
      "authorship_tag": "ABX9TyNfjEV1xY2Ry7XFyj/Yh+ce",
      "include_colab_link": true
    },
    "kernelspec": {
      "name": "python3",
      "display_name": "Python 3"
    },
    "language_info": {
      "name": "python"
    }
  },
  "cells": [
    {
      "cell_type": "markdown",
      "metadata": {
        "id": "view-in-github",
        "colab_type": "text"
      },
      "source": [
        "<a href=\"https://colab.research.google.com/github/95871abhinandankumar/95871abhinandankumar/blob/main/ML_aasignment_E1.ipynb\" target=\"_parent\"><img src=\"https://colab.research.google.com/assets/colab-badge.svg\" alt=\"Open In Colab\"/></a>"
      ]
    },
    {
      "cell_type": "code",
      "metadata": {
        "colab": {
          "base_uri": "https://localhost:8080/"
        },
        "id": "lAK6Q9lQh1AK",
        "outputId": "1a7ef984-962a-466f-a8fb-077a115539cb"
      },
      "source": [
        "from google.colab import drive\n",
        "drive.mount('/content/drive')"
      ],
      "execution_count": 28,
      "outputs": [
        {
          "output_type": "stream",
          "name": "stdout",
          "text": [
            "Drive already mounted at /content/drive; to attempt to forcibly remount, call drive.mount(\"/content/drive\", force_remount=True).\n"
          ]
        }
      ]
    },
    {
      "cell_type": "code",
      "metadata": {
        "colab": {
          "base_uri": "https://localhost:8080/"
        },
        "id": "iD80SJF--NHf",
        "outputId": "6e5e8c26-c999-4f85-be69-626a71e78477"
      },
      "source": [
        "from sklearn import datasets\n",
        "import pandas as pd\n",
        "\n",
        "\n",
        "boston = datasets.load_boston(return_X_y=False)\n",
        "boston_df = pd.DataFrame(boston.data, columns=boston.feature_names)\n",
        "boston_df['PRICE'] = boston.target\n",
        "print(boston_df)"
      ],
      "execution_count": 29,
      "outputs": [
        {
          "output_type": "stream",
          "name": "stdout",
          "text": [
            "        CRIM    ZN  INDUS  CHAS    NOX  ...    TAX  PTRATIO       B  LSTAT  PRICE\n",
            "0    0.00632  18.0   2.31   0.0  0.538  ...  296.0     15.3  396.90   4.98   24.0\n",
            "1    0.02731   0.0   7.07   0.0  0.469  ...  242.0     17.8  396.90   9.14   21.6\n",
            "2    0.02729   0.0   7.07   0.0  0.469  ...  242.0     17.8  392.83   4.03   34.7\n",
            "3    0.03237   0.0   2.18   0.0  0.458  ...  222.0     18.7  394.63   2.94   33.4\n",
            "4    0.06905   0.0   2.18   0.0  0.458  ...  222.0     18.7  396.90   5.33   36.2\n",
            "..       ...   ...    ...   ...    ...  ...    ...      ...     ...    ...    ...\n",
            "501  0.06263   0.0  11.93   0.0  0.573  ...  273.0     21.0  391.99   9.67   22.4\n",
            "502  0.04527   0.0  11.93   0.0  0.573  ...  273.0     21.0  396.90   9.08   20.6\n",
            "503  0.06076   0.0  11.93   0.0  0.573  ...  273.0     21.0  396.90   5.64   23.9\n",
            "504  0.10959   0.0  11.93   0.0  0.573  ...  273.0     21.0  393.45   6.48   22.0\n",
            "505  0.04741   0.0  11.93   0.0  0.573  ...  273.0     21.0  396.90   7.88   11.9\n",
            "\n",
            "[506 rows x 14 columns]\n"
          ]
        }
      ]
    },
    {
      "cell_type": "code",
      "metadata": {
        "colab": {
          "base_uri": "https://localhost:8080/"
        },
        "id": "UY4vawHZBfVq",
        "outputId": "f8787ee3-3660-4840-9e92-5333141ae8b0"
      },
      "source": [
        "train_dataset = boston_df.sample(frac=0.3)\n",
        "dataframe = boston_df.drop(train_dataset.index)\n",
        "validation_dataset = dataframe.sample(frac=(.1/.7))\n",
        "test_dataset = dataframe.drop(validation_dataset.index)\n",
        "\n",
        "print(\"train dataset\\n\", train_dataset)\n",
        "# print(\"validation dataset\\n\", validation_dataset)\n",
        "# print(\"test dataset\\n\", test_dataset)\n"
      ],
      "execution_count": 30,
      "outputs": [
        {
          "output_type": "stream",
          "name": "stdout",
          "text": [
            "train dataset\n",
            "          CRIM    ZN  INDUS  CHAS    NOX  ...    TAX  PTRATIO       B  LSTAT  PRICE\n",
            "184   0.08308   0.0   2.46   0.0  0.488  ...  193.0     17.8  391.00  13.98   26.4\n",
            "495   0.17899   0.0   9.69   0.0  0.585  ...  391.0     19.2  393.29  17.60   23.1\n",
            "248   0.16439  22.0   5.86   0.0  0.431  ...  330.0     19.1  374.71   9.52   24.5\n",
            "420  11.08740   0.0  18.10   0.0  0.718  ...  666.0     20.2  318.75  15.02   16.7\n",
            "143   4.09740   0.0  19.58   0.0  0.871  ...  403.0     14.7  396.90  26.42   15.6\n",
            "..        ...   ...    ...   ...    ...  ...    ...      ...     ...    ...    ...\n",
            "125   0.16902   0.0  25.65   0.0  0.581  ...  188.0     19.1  385.02  14.81   21.4\n",
            "335   0.03961   0.0   5.19   0.0  0.515  ...  224.0     20.2  396.90   8.01   21.1\n",
            "334   0.03738   0.0   5.19   0.0  0.515  ...  224.0     20.2  389.40   6.75   20.7\n",
            "2     0.02729   0.0   7.07   0.0  0.469  ...  242.0     17.8  392.83   4.03   34.7\n",
            "438  13.67810   0.0  18.10   0.0  0.740  ...  666.0     20.2   68.95  34.02    8.4\n",
            "\n",
            "[152 rows x 14 columns]\n"
          ]
        }
      ]
    },
    {
      "cell_type": "code",
      "metadata": {
        "id": "hitpVEednqsX"
      },
      "source": [
        "import numpy as np"
      ],
      "execution_count": 31,
      "outputs": []
    },
    {
      "cell_type": "code",
      "metadata": {
        "colab": {
          "base_uri": "https://localhost:8080/"
        },
        "id": "R-E8k_u6LlUV",
        "outputId": "c1c9c84b-a062-4fcd-f192-076014a4fb9a"
      },
      "source": [
        "def hypothesis(w, index, dataset):\n",
        "  sample =dataset[index][:-1]\n",
        "  sample = np.concatenate([[1], sample])\n",
        "  array = np.multiply(w, sample)\n",
        "  return np.sum(array)\n",
        "\n",
        "\n",
        "w=[1,1,1]\n",
        "dataset = np.array([[1,2,6], [2,10,24]])\n",
        "\n",
        "print(hypothesis(w, 0, dataset))\n",
        "print(dataset)"
      ],
      "execution_count": 32,
      "outputs": [
        {
          "output_type": "stream",
          "name": "stdout",
          "text": [
            "4\n",
            "[[ 1  2  6]\n",
            " [ 2 10 24]]\n"
          ]
        }
      ]
    },
    {
      "cell_type": "code",
      "metadata": {
        "id": "q4927xrETIPt",
        "colab": {
          "base_uri": "https://localhost:8080/"
        },
        "outputId": "cc7c0244-a326-4861-b330-1165c1711862"
      },
      "source": [
        "# to calculate the predicted value with the help of hypothesis function\n",
        "def predicted_values(w, dataset):\n",
        "  predicted = []\n",
        "  for i in range(len(dataset)):\n",
        "    predicted.append(hypothesis(w, i, dataset))\n",
        "  \n",
        "  return np.array(predicted)\n",
        "\n",
        "predicted = predicted_values(w, dataset)\n",
        "\n",
        "print(predicted)\n",
        "\n",
        "\n",
        "# to calculate mean square error\n",
        "def MSE(predicted, actual):\n",
        "  return np.square(np.subtract(predicted, actual)).mean()/2\n",
        "\n",
        "MSE(predicted, dataset[:,-1])"
      ],
      "execution_count": 33,
      "outputs": [
        {
          "output_type": "stream",
          "name": "stdout",
          "text": [
            "[ 4 13]\n"
          ]
        },
        {
          "output_type": "execute_result",
          "data": {
            "text/plain": [
              "31.25"
            ]
          },
          "metadata": {},
          "execution_count": 33
        }
      ]
    },
    {
      "cell_type": "code",
      "metadata": {
        "colab": {
          "base_uri": "https://localhost:8080/"
        },
        "id": "HpEXBQ-DdbZo",
        "outputId": "9a617762-13cf-453c-fb7b-b6a3e7eed96b"
      },
      "source": [
        "# to update w using batch gradient decendent\n",
        "def update_parameter(w, alpha, dataset):\n",
        "  predicted = predicted_values(w, dataset)\n",
        "  m = len(dataset)\n",
        "  w[0] = w[0] - (alpha /m)*(np.sum(np.subtract(predicted, dataset[:, -1])))\n",
        "  for i in range(1, len(w)):\n",
        "    w[i] = w[i] - (alpha /m)*(np.sum(np.multiply(np.subtract(predicted, dataset[:, -1]), dataset[:, i-1])))\n",
        "  return w\n",
        "\n",
        "\n",
        "#w=update_parameter(w, 0.1, dataset)\n",
        "print(update_parameter(w, 0.1, dataset))\n"
      ],
      "execution_count": 34,
      "outputs": [
        {
          "output_type": "stream",
          "name": "stdout",
          "text": [
            "[1.65, 2.2, 6.7]\n"
          ]
        }
      ]
    },
    {
      "cell_type": "code",
      "metadata": {
        "colab": {
          "base_uri": "https://localhost:8080/"
        },
        "id": "kVTnFnwljHYs",
        "outputId": "06e240de-108b-445a-f42a-e1402ba835e0"
      },
      "source": [
        "# to update w using stochastic gradient decendent\n",
        "def update_parameter_stochastic(w, alpha, dataset):\n",
        "  np.random.shuffle(dataset)\n",
        "  m = len(dataset)\n",
        "  for j in range(m):\n",
        "    hy = hypothesis(w, j, dataset)\n",
        "    w[0] = w[0] - (alpha /m)*(hy- dataset[:, -1][j])\n",
        "    for i in range(1, len(w)):\n",
        "      w[i] = w[i] - (alpha /m)*((hy- dataset[:, -1][j])* dataset[:, i-1][j])\n",
        "  return w\n",
        "print(update_parameter_stochastic([1,1,1], 0.1, dataset))"
      ],
      "execution_count": 35,
      "outputs": [
        {
          "output_type": "stream",
          "name": "stdout",
          "text": [
            "[1.0175, 1.5675000000000001, 5.4350000000000005]\n"
          ]
        }
      ]
    },
    {
      "cell_type": "code",
      "metadata": {
        "id": "6scgjoPXiGy0"
      },
      "source": [
        "def linear_regression(epoch, alpha, rho, w, train_dataset):\n",
        "  epochs_MSE=[]\n",
        "  pre_MSE = 0\n",
        "  curr_MSE = 0\n",
        "  for itr in range(epoch):\n",
        "    predicted = predicted_values(w, train_dataset)\n",
        "    curr_MSE = MSE(predicted, train_dataset[:,-1])\n",
        "    w = update_parameter_stochastic(w, alpha, train_dataset)\n",
        "\n",
        "    epochs_MSE.append(curr_MSE)\n",
        "\n",
        "    if abs(curr_MSE - pre_MSE) <= rho:\n",
        "      break;\n",
        "  return w, epochs_MSE\n"
      ],
      "execution_count": 36,
      "outputs": []
    },
    {
      "cell_type": "code",
      "metadata": {
        "colab": {
          "base_uri": "https://localhost:8080/"
        },
        "id": "S_xx7u0-nsLU",
        "outputId": "1d0046a1-88b3-480b-a3a0-88de963e1ac6"
      },
      "source": [
        "from sklearn import preprocessing\n",
        "w=[1 for _ in range(14)]\n",
        "\n",
        "normalized = preprocessing.normalize(train_dataset.to_numpy())\n",
        "w1, trains_MSE1 = linear_regression(10, 0.1, 0.5, w, normalized)\n",
        "\n",
        "\n",
        "validation = preprocessing.normalize(validation_dataset.to_numpy())\n",
        "predicted = predicted_values(w1, validation)\n",
        "val_MSE1 = MSE(predicted, validation[:,-1])\n",
        "\n",
        "# print(w1)\n",
        "# print(trains_MSE1)\n",
        "print(\"MSE of validation set\")\n",
        "print(val_MSE1)\n",
        "\n",
        "\n",
        "\n",
        "w=[1 for _ in range(14)]\n",
        "w2, trains_MSE2 = linear_regression(20, 0.01, 0.6, w, normalized)\n",
        "\n",
        "predicted = predicted_values(w2, validation)\n",
        "val_MSE2 = MSE(predicted, validation[:,-1])\n",
        "\n",
        "# print(w2)\n",
        "# print(trains_MSE2)\n",
        "print(\"MSE of validation set\")\n",
        "print(val_MSE2)\n",
        "\n",
        "\n",
        "\n",
        "w=[1 for _ in range(14)]\n",
        "w3, trains_MSE3 = linear_regression(30, 0.02, 0.7, w, normalized)\n",
        "\n",
        "predicted = predicted_values(w3, validation)\n",
        "val_MSE3 = MSE(predicted, validation[:,-1])\n",
        "\n",
        "# print(w3)\n",
        "# print(trains_MSE3)\n",
        "print(\"MSE of validation set\")\n",
        "print(val_MSE3)\n",
        "\n",
        "\n",
        "w=[1 for _ in range(14)]\n",
        "w4, trains_MSE4 = linear_regression(40, 0.03, 0.8, w, normalized)\n",
        "\n",
        "predicted = predicted_values(w4, validation)\n",
        "val_MSE4 = MSE(predicted, validation[:,-1])\n",
        "\n",
        "# print(w4)\n",
        "# print(trains_MSE4)\n",
        "print(\"MSE of validation set\")\n",
        "print(val_MSE4)\n",
        "\n",
        "w=[1 for _ in range(14)]\n",
        "w5, trains_MSE5 = linear_regression(50, 0.001, 0.9, w, normalized)\n",
        "\n",
        "predicted = predicted_values(w5, validation)\n",
        "val_MSE5 = MSE(predicted, validation[:,-1])\n",
        "\n",
        "# print(w5)\n",
        "# print(trains_MSE5)\n",
        "print(\"MSE of validation set\")\n",
        "print(val_MSE5)"
      ],
      "execution_count": 37,
      "outputs": [
        {
          "output_type": "stream",
          "name": "stdout",
          "text": [
            "MSE of validation set\n",
            "0.3267351506685578\n",
            "MSE of validation set\n",
            "1.5315983419053316\n",
            "MSE of validation set\n",
            "0.6067530461861813\n",
            "MSE of validation set\n",
            "0.6553730437114653\n",
            "MSE of validation set\n",
            "2.730595100984337\n"
          ]
        }
      ]
    },
    {
      "cell_type": "code",
      "metadata": {
        "colab": {
          "base_uri": "https://localhost:8080/"
        },
        "id": "akDa5O2Nvrlw",
        "outputId": "f1390b96-b208-492c-f4d5-80d2933a8f1d"
      },
      "source": [
        "print(\"All MSE considering the best hyperparameter\")\n",
        "print(\"Validation MSE :\", val_MSE1)\n",
        "\n",
        "\n",
        "train = preprocessing.normalize(train_dataset.to_numpy())\n",
        "predicted = predicted_values(w1, train)\n",
        "best_trainMSE = MSE(predicted, train[:,-1])\n",
        "\n",
        "print(\"Train MSE:\", best_trainMSE)\n",
        "\n",
        "test = preprocessing.normalize(test_dataset.to_numpy())\n",
        "predicted = predicted_values(w1, test)\n",
        "best_testMSE = MSE(predicted, test[:,-1])\n",
        "\n",
        "print(\"TEST MSE:\", best_testMSE)"
      ],
      "execution_count": 38,
      "outputs": [
        {
          "output_type": "stream",
          "name": "stdout",
          "text": [
            "All MSE considering the best hyperparameter\n",
            "Validation MSE : 0.3267351506685578\n",
            "Train MSE: 0.32698380239889663\n",
            "TEST MSE: 0.3293431009119926\n"
          ]
        }
      ]
    },
    {
      "cell_type": "code",
      "metadata": {
        "colab": {
          "base_uri": "https://localhost:8080/",
          "height": 282
        },
        "id": "Vm-mB0ouhACg",
        "outputId": "6dec28b1-ce87-4560-a578-c437b1b3d09e"
      },
      "source": [
        "import matplotlib.pyplot as plt\n",
        "\n",
        "# print(trains_MSE1)\n",
        "epoch = [i for i in range(len(trains_MSE1))]\n",
        "plt.plot(epoch, trains_MSE1)"
      ],
      "execution_count": 39,
      "outputs": [
        {
          "output_type": "execute_result",
          "data": {
            "text/plain": [
              "[<matplotlib.lines.Line2D at 0x7f91ee069890>]"
            ]
          },
          "metadata": {},
          "execution_count": 39
        },
        {
          "output_type": "display_data",
          "data": {
            "image/png": "[encoded data removed]",
            "text/plain": [
              "<Figure size 432x288 with 1 Axes>"
            ]
          },
          "metadata": {
            "needs_background": "light"
          }
        }
      ]
    }
  ]
}