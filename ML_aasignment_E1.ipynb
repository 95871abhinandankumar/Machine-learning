{
  "nbformat": 4,
  "nbformat_minor": 0,
  "metadata": {
    "colab": {
      "name": "ML_aasignment_E1.ipynb",
      "provenance": [],
      "collapsed_sections": [],
      "authorship_tag": "ABX9TyOum2oBjPA4TYwOZ8DK1bFu",
      "include_colab_link": true
    },
    "kernelspec": {
      "name": "python3",
      "display_name": "Python 3"
    },
    "language_info": {
      "name": "python"
    }
  },
  "cells": [
    {
      "cell_type": "markdown",
      "metadata": {
        "id": "view-in-github",
        "colab_type": "text"
      },
      "source": [
        "<a href=\"https://colab.research.google.com/github/95871abhinandankumar/95871abhinandankumar/blob/main/ML_aasignment_E1.ipynb\" target=\"_parent\"><img src=\"https://colab.research.google.com/assets/colab-badge.svg\" alt=\"Open In Colab\"/></a>"
      ]
    },
    {
      "cell_type": "code",
      "metadata": {
        "colab": {
          "base_uri": "https://localhost:8080/"
        },
        "id": "lAK6Q9lQh1AK",
        "outputId": "472c3f0b-fff8-4782-e042-5a9d7ace29b0"
      },
      "source": [
        "from google.colab import drive\n",
        "drive.mount('/content/drive')"
      ],
      "execution_count": 1,
      "outputs": [
        {
          "output_type": "stream",
          "name": "stdout",
          "text": [
            "Mounted at /content/drive\n"
          ]
        }
      ]
    },
    {
      "cell_type": "code",
      "metadata": {
        "colab": {
          "base_uri": "https://localhost:8080/"
        },
        "id": "iD80SJF--NHf",
        "outputId": "4eef6514-dafb-4c17-8545-bb799545ac37"
      },
      "source": [
        "from sklearn import datasets\n",
        "import pandas as pd\n",
        "\n",
        "\n",
        "boston = datasets.load_boston(return_X_y=False)\n",
        "boston_df = pd.DataFrame(boston.data, columns=boston.feature_names)\n",
        "boston_df['PRICE'] = boston.target\n",
        "print(boston_df)"
      ],
      "execution_count": 2,
      "outputs": [
        {
          "output_type": "stream",
          "name": "stdout",
          "text": [
            "        CRIM    ZN  INDUS  CHAS    NOX  ...    TAX  PTRATIO       B  LSTAT  PRICE\n",
            "0    0.00632  18.0   2.31   0.0  0.538  ...  296.0     15.3  396.90   4.98   24.0\n",
            "1    0.02731   0.0   7.07   0.0  0.469  ...  242.0     17.8  396.90   9.14   21.6\n",
            "2    0.02729   0.0   7.07   0.0  0.469  ...  242.0     17.8  392.83   4.03   34.7\n",
            "3    0.03237   0.0   2.18   0.0  0.458  ...  222.0     18.7  394.63   2.94   33.4\n",
            "4    0.06905   0.0   2.18   0.0  0.458  ...  222.0     18.7  396.90   5.33   36.2\n",
            "..       ...   ...    ...   ...    ...  ...    ...      ...     ...    ...    ...\n",
            "501  0.06263   0.0  11.93   0.0  0.573  ...  273.0     21.0  391.99   9.67   22.4\n",
            "502  0.04527   0.0  11.93   0.0  0.573  ...  273.0     21.0  396.90   9.08   20.6\n",
            "503  0.06076   0.0  11.93   0.0  0.573  ...  273.0     21.0  396.90   5.64   23.9\n",
            "504  0.10959   0.0  11.93   0.0  0.573  ...  273.0     21.0  393.45   6.48   22.0\n",
            "505  0.04741   0.0  11.93   0.0  0.573  ...  273.0     21.0  396.90   7.88   11.9\n",
            "\n",
            "[506 rows x 14 columns]\n"
          ]
        }
      ]
    },
    {
      "cell_type": "code",
      "metadata": {
        "colab": {
          "base_uri": "https://localhost:8080/"
        },
        "id": "UY4vawHZBfVq",
        "outputId": "65578375-53d9-416f-b1c6-b104070a8417"
      },
      "source": [
        "train_dataset = boston_df.sample(frac=0.3)\n",
        "dataframe = boston_df.drop(train_dataset.index)\n",
        "validation_dataset = dataframe.sample(frac=(.1/.7))\n",
        "test_dataset = dataframe.drop(validation_dataset.index)\n",
        "\n",
        "print(\"train dataset\\n\", train_dataset)\n",
        "# print(\"validation dataset\\n\", validation_dataset)\n",
        "# print(\"test dataset\\n\", test_dataset)\n"
      ],
      "execution_count": 3,
      "outputs": [
        {
          "output_type": "stream",
          "name": "stdout",
          "text": [
            "train dataset\n",
            "          CRIM    ZN  INDUS  CHAS    NOX  ...    TAX  PTRATIO       B  LSTAT  PRICE\n",
            "177   0.05425   0.0   4.05   0.0  0.510  ...  296.0     16.6  395.60   6.29   24.6\n",
            "361   3.83684   0.0  18.10   0.0  0.770  ...  666.0     20.2  350.65  14.19   19.9\n",
            "21    0.85204   0.0   8.14   0.0  0.538  ...  307.0     21.0  392.53  13.83   19.6\n",
            "366   3.69695   0.0  18.10   0.0  0.718  ...  666.0     20.2  316.03  14.00   21.9\n",
            "0     0.00632  18.0   2.31   0.0  0.538  ...  296.0     15.3  396.90   4.98   24.0\n",
            "..        ...   ...    ...   ...    ...  ...    ...      ...     ...    ...    ...\n",
            "379  17.86670   0.0  18.10   0.0  0.671  ...  666.0     20.2  393.74  21.78   10.2\n",
            "50    0.08873  21.0   5.64   0.0  0.439  ...  243.0     16.8  395.56  13.45   19.7\n",
            "141   1.62864   0.0  21.89   0.0  0.624  ...  437.0     21.2  396.90  34.41   14.4\n",
            "118   0.13058   0.0  10.01   0.0  0.547  ...  432.0     17.8  338.63  15.37   20.4\n",
            "246   0.33983  22.0   5.86   0.0  0.431  ...  330.0     19.1  390.18   9.16   24.3\n",
            "\n",
            "[152 rows x 14 columns]\n"
          ]
        }
      ]
    },
    {
      "cell_type": "code",
      "metadata": {
        "id": "hitpVEednqsX"
      },
      "source": [
        "import numpy as np"
      ],
      "execution_count": 5,
      "outputs": []
    },
    {
      "cell_type": "code",
      "metadata": {
        "colab": {
          "base_uri": "https://localhost:8080/"
        },
        "id": "R-E8k_u6LlUV",
        "outputId": "845e6eb3-8718-479a-af33-50327649ec72"
      },
      "source": [
        "def hypothesis(w, index, dataset):\n",
        "  sample =dataset[index][:-1]\n",
        "  sample = np.concatenate([[1], sample])\n",
        "  array = np.multiply(w, sample)\n",
        "  return np.sum(array)\n",
        "\n",
        "\n",
        "w=[1,1,1]\n",
        "dataset = np.array([[1,2,6], [2,10,24]])\n",
        "\n",
        "print(hypothesis(w, 0, dataset))\n",
        "print(dataset)"
      ],
      "execution_count": 6,
      "outputs": [
        {
          "output_type": "stream",
          "name": "stdout",
          "text": [
            "4\n",
            "[[ 1  2  6]\n",
            " [ 2 10 24]]\n"
          ]
        }
      ]
    },
    {
      "cell_type": "code",
      "metadata": {
        "id": "q4927xrETIPt",
        "colab": {
          "base_uri": "https://localhost:8080/"
        },
        "outputId": "e6133e8a-64b6-47c7-ed42-2809b5642adf"
      },
      "source": [
        "# to calculate the predicted value with the help of hypothesis function\n",
        "def predicted_values(w, dataset):\n",
        "  predicted = []\n",
        "  for i in range(len(dataset)):\n",
        "    predicted.append(hypothesis(w, i, dataset))\n",
        "  \n",
        "  return np.array(predicted)\n",
        "\n",
        "predicted = predicted_values(w, dataset)\n",
        "\n",
        "print(predicted)\n",
        "\n",
        "\n",
        "# to calculate mean square error\n",
        "def MSE(predicted, actual):\n",
        "  return np.square(np.subtract(predicted, actual)).mean()/2\n",
        "\n",
        "MSE(predicted, dataset[:,-1])"
      ],
      "execution_count": 7,
      "outputs": [
        {
          "output_type": "stream",
          "name": "stdout",
          "text": [
            "[ 4 13]\n"
          ]
        },
        {
          "output_type": "execute_result",
          "data": {
            "text/plain": [
              "31.25"
            ]
          },
          "metadata": {},
          "execution_count": 7
        }
      ]
    },
    {
      "cell_type": "code",
      "metadata": {
        "colab": {
          "base_uri": "https://localhost:8080/"
        },
        "id": "HpEXBQ-DdbZo",
        "outputId": "532256ef-ddc4-43fe-bf16-3c17df36ff77"
      },
      "source": [
        "# to update w using batch gradient decendent\n",
        "def update_parameter(w, alpha, dataset):\n",
        "  predicted = predicted_values(w, dataset)\n",
        "  m = len(dataset)\n",
        "  w[0] = w[0] - (alpha /m)*(np.sum(np.subtract(predicted, dataset[:, -1])))\n",
        "  for i in range(1, len(w)):\n",
        "    w[i] = w[i] - (alpha /m)*(np.sum(np.multiply(np.subtract(predicted, dataset[:, -1]), dataset[:, i-1])))\n",
        "  return w\n",
        "\n",
        "\n",
        "#w=update_parameter(w, 0.1, dataset)\n",
        "print(update_parameter(w, 0.1, dataset))\n"
      ],
      "execution_count": 8,
      "outputs": [
        {
          "output_type": "stream",
          "name": "stdout",
          "text": [
            "[1.65, 2.2, 6.7]\n"
          ]
        }
      ]
    },
    {
      "cell_type": "code",
      "metadata": {
        "id": "kVTnFnwljHYs"
      },
      "source": [
        "# to update w using stochastic gradient decendent\n",
        "def update_parameter(w, alpha, dataset):\n",
        "  predicted = predicted_values(w, dataset)\n",
        "  m = len(dataset)\n",
        "  w[0] = w[0] - (alpha /m)*(np.sum(np.subtract(predicted, dataset[:, -1])))\n",
        "  for i in range(1, len(w)):\n",
        "    w[i] = w[i] - (alpha /m)*(np.sum(np.multiply(np.subtract(predicted, dataset[:, -1]), dataset[:, i-1])))\n",
        "  return w\n"
      ],
      "execution_count": null,
      "outputs": []
    },
    {
      "cell_type": "code",
      "metadata": {
        "id": "6scgjoPXiGy0"
      },
      "source": [
        "def linear_regression(epoch, alpha, rho, w, train_dataset):\n",
        "  epochs_MSE=[]\n",
        "  pre_MSE = 0\n",
        "  curr_MSE = 0\n",
        "  for itr in range(epoch):\n",
        "    predicted = predicted_values(w, train_dataset)\n",
        "    curr_MSE = MSE(predicted, train_dataset[:,-1])\n",
        "    w = update_parameter(w, alpha, train_dataset)\n",
        "\n",
        "    epochs_MSE.append(curr_MSE)\n",
        "\n",
        "    if abs(curr_MSE - pre_MSE) <= rho:\n",
        "      break;\n",
        "  return w, epochs_MSE\n"
      ],
      "execution_count": 9,
      "outputs": []
    },
    {
      "cell_type": "code",
      "metadata": {
        "colab": {
          "base_uri": "https://localhost:8080/"
        },
        "id": "S_xx7u0-nsLU",
        "outputId": "5d5ec2b6-b460-4c07-c32c-492a038733be"
      },
      "source": [
        "from sklearn import preprocessing\n",
        "w=[1 for _ in range(14)]\n",
        "\n",
        "normalized = preprocessing.normalize(train_dataset.to_numpy())\n",
        "w1, trains_MSE1 = linear_regression(10, 0.1, 0.5, w, normalized)\n",
        "\n",
        "\n",
        "validation = preprocessing.normalize(validation_dataset.to_numpy())\n",
        "predicted = predicted_values(w1, validation)\n",
        "val_MSE1 = MSE(predicted, validation[:,-1])\n",
        "\n",
        "# print(w1)\n",
        "# print(trains_MSE1)\n",
        "print(\"MSE of validation set\")\n",
        "print(val_MSE1)\n",
        "\n",
        "\n",
        "\n",
        "w=[1 for _ in range(14)]\n",
        "w2, trains_MSE2 = linear_regression(20, 0.01, 0.6, w, normalized)\n",
        "\n",
        "predicted = predicted_values(w2, validation)\n",
        "val_MSE2 = MSE(predicted, validation[:,-1])\n",
        "\n",
        "# print(w2)\n",
        "# print(trains_MSE2)\n",
        "print(\"MSE of validation set\")\n",
        "print(val_MSE2)\n",
        "\n",
        "\n",
        "\n",
        "w=[1 for _ in range(14)]\n",
        "w3, trains_MSE3 = linear_regression(30, 0.02, 0.7, w, normalized)\n",
        "\n",
        "predicted = predicted_values(w3, validation)\n",
        "val_MSE3 = MSE(predicted, validation[:,-1])\n",
        "\n",
        "# print(w3)\n",
        "# print(trains_MSE3)\n",
        "print(\"MSE of validation set\")\n",
        "print(val_MSE3)\n",
        "\n",
        "\n",
        "w=[1 for _ in range(14)]\n",
        "w4, trains_MSE4 = linear_regression(40, 0.03, 0.8, w, normalized)\n",
        "\n",
        "predicted = predicted_values(w4, validation)\n",
        "val_MSE4 = MSE(predicted, validation[:,-1])\n",
        "\n",
        "# print(w4)\n",
        "# print(trains_MSE4)\n",
        "print(\"MSE of validation set\")\n",
        "print(val_MSE4)\n",
        "\n",
        "w=[1 for _ in range(14)]\n",
        "w5, trains_MSE5 = linear_regression(50, 0.001, 0.9, w, normalized)\n",
        "\n",
        "predicted = predicted_values(w5, validation)\n",
        "val_MSE5 = MSE(predicted, validation[:,-1])\n",
        "\n",
        "# print(w5)\n",
        "# print(trains_MSE5)\n",
        "print(\"MSE of validation set\")\n",
        "print(val_MSE5)"
      ],
      "execution_count": 18,
      "outputs": [
        {
          "output_type": "stream",
          "name": "stdout",
          "text": [
            "MSE of validation set\n",
            "0.2582199179039669\n",
            "MSE of validation set\n",
            "1.5333231331266093\n",
            "MSE of validation set\n",
            "0.6428743529869899\n",
            "MSE of validation set\n",
            "0.7119186417371705\n",
            "MSE of validation set\n",
            "2.749394689398599\n"
          ]
        }
      ]
    },
    {
      "cell_type": "code",
      "metadata": {
        "colab": {
          "base_uri": "https://localhost:8080/"
        },
        "id": "akDa5O2Nvrlw",
        "outputId": "1fdf1750-0cc7-40ca-fbc2-8436b6754564"
      },
      "source": [
        "print(\"All MSE considering the best hyperparameter\")\n",
        "print(\"Validation MSE :\", val_MSE1)\n",
        "\n",
        "\n",
        "train = preprocessing.normalize(train_dataset.to_numpy())\n",
        "predicted = predicted_values(w1, train)\n",
        "best_trainMSE = MSE(predicted, train[:,-1])\n",
        "\n",
        "print(\"Train MSE:\", best_trainMSE)\n",
        "\n",
        "test = preprocessing.normalize(test_dataset.to_numpy())\n",
        "predicted = predicted_values(w1, test)\n",
        "best_testMSE = MSE(predicted, test[:,-1])\n",
        "\n",
        "print(\"TEST MSE:\", best_testMSE)"
      ],
      "execution_count": 17,
      "outputs": [
        {
          "output_type": "stream",
          "name": "stdout",
          "text": [
            "All MSE considering the best hyperparameter\n",
            "Validation MSE : 0.2582199179039669\n",
            "Train MSE: 0.2538139141398415\n",
            "TEST MSE: 0.25191667848146443\n"
          ]
        }
      ]
    },
    {
      "cell_type": "code",
      "metadata": {
        "colab": {
          "base_uri": "https://localhost:8080/",
          "height": 298
        },
        "id": "Vm-mB0ouhACg",
        "outputId": "d9de269b-556e-4d59-f5c4-03a12e516a9b"
      },
      "source": [
        "import matplotlib.pyplot as plt\n",
        "\n",
        "# print(trains_MSE1)\n",
        "epoch = [i for i in range(len(trains_MSE1))]\n",
        "plt.plot(epoch, trains_MSE1)"
      ],
      "execution_count": 20,
      "outputs": [
        {
          "output_type": "stream",
          "name": "stdout",
          "text": [
            "[3.285532732715918, 2.1429686039781846, 1.3978894214835558, 0.9120146878292289, 0.5951701198918857, 0.3885520433309116]\n"
          ]
        },
        {
          "output_type": "execute_result",
          "data": {
            "text/plain": [
              "[<matplotlib.lines.Line2D at 0x7f228f301d10>]"
            ]
          },
          "metadata": {},
          "execution_count": 20
        },
        {
          "output_type": "display_data",
          "data": {
            "image/png": "[encoded data removed]",
            "text/plain": [
              "<Figure size 432x288 with 1 Axes>"
            ]
          },
          "metadata": {
            "needs_background": "light"
          }
        }
      ]
    }
  ]
}