{
  "nbformat": 4,
  "nbformat_minor": 0,
  "metadata": {
    "colab": {
      "name": "ML_assignment5_batch_gradient_descent_skitlearn_updated_version.ipynb",
      "provenance": [],
      "authorship_tag": "ABX9TyOrAmGmNQh3XClOuwDJtaUJ",
      "include_colab_link": true
    },
    "kernelspec": {
      "name": "python3",
      "display_name": "Python 3"
    },
    "language_info": {
      "name": "python"
    }
  },
  "cells": [
    {
      "cell_type": "markdown",
      "metadata": {
        "id": "view-in-github",
        "colab_type": "text"
      },
      "source": [
        "<a href=\"https://colab.research.google.com/github/95871abhinandankumar/95871abhinandankumar/blob/main/ML_assignment5_batch_gradient_descent_skitlearn_updated_version.ipynb\" target=\"_parent\"><img src=\"https://colab.research.google.com/assets/colab-badge.svg\" alt=\"Open In Colab\"/></a>"
      ]
    },
    {
      "cell_type": "code",
      "metadata": {
        "colab": {
          "base_uri": "https://localhost:8080/"
        },
        "id": "JDQavY4IZFPT",
        "outputId": "afb420ed-f40a-4fad-8f57-530343cd1329"
      },
      "source": [
        "from sklearn import datasets\n",
        "import pandas as pd\n",
        "\n",
        "\n",
        "boston = datasets.load_boston(return_X_y=False)\n",
        "boston_df = pd.DataFrame(boston.data, columns=boston.feature_names)\n",
        "boston_df['PRICE'] = boston.target\n",
        "print(boston_df)"
      ],
      "execution_count": 1,
      "outputs": [
        {
          "output_type": "stream",
          "name": "stdout",
          "text": [
            "        CRIM    ZN  INDUS  CHAS    NOX  ...    TAX  PTRATIO       B  LSTAT  PRICE\n",
            "0    0.00632  18.0   2.31   0.0  0.538  ...  296.0     15.3  396.90   4.98   24.0\n",
            "1    0.02731   0.0   7.07   0.0  0.469  ...  242.0     17.8  396.90   9.14   21.6\n",
            "2    0.02729   0.0   7.07   0.0  0.469  ...  242.0     17.8  392.83   4.03   34.7\n",
            "3    0.03237   0.0   2.18   0.0  0.458  ...  222.0     18.7  394.63   2.94   33.4\n",
            "4    0.06905   0.0   2.18   0.0  0.458  ...  222.0     18.7  396.90   5.33   36.2\n",
            "..       ...   ...    ...   ...    ...  ...    ...      ...     ...    ...    ...\n",
            "501  0.06263   0.0  11.93   0.0  0.573  ...  273.0     21.0  391.99   9.67   22.4\n",
            "502  0.04527   0.0  11.93   0.0  0.573  ...  273.0     21.0  396.90   9.08   20.6\n",
            "503  0.06076   0.0  11.93   0.0  0.573  ...  273.0     21.0  396.90   5.64   23.9\n",
            "504  0.10959   0.0  11.93   0.0  0.573  ...  273.0     21.0  393.45   6.48   22.0\n",
            "505  0.04741   0.0  11.93   0.0  0.573  ...  273.0     21.0  396.90   7.88   11.9\n",
            "\n",
            "[506 rows x 14 columns]\n"
          ]
        }
      ]
    },
    {
      "cell_type": "code",
      "metadata": {
        "colab": {
          "base_uri": "https://localhost:8080/"
        },
        "id": "oSRPZD32aC2D",
        "outputId": "d80ee01c-1c05-4f31-b39e-a7f6f0b9ce77"
      },
      "source": [
        "train_dataset = boston_df.sample(frac=0.3)\n",
        "dataframe = boston_df.drop(train_dataset.index)\n",
        "validation_dataset = dataframe.sample(frac=(.1/.7))\n",
        "test_dataset = dataframe.drop(validation_dataset.index)\n",
        "\n",
        "print(\"train dataset\\n\", train_dataset)\n",
        "# print(\"validation dataset\\n\", validation_dataset)\n",
        "# print(\"test dataset\\n\", test_dataset)"
      ],
      "execution_count": 2,
      "outputs": [
        {
          "output_type": "stream",
          "name": "stdout",
          "text": [
            "train dataset\n",
            "          CRIM    ZN  INDUS  CHAS    NOX  ...    TAX  PTRATIO       B  LSTAT  PRICE\n",
            "126   0.38735   0.0  25.65   0.0  0.581  ...  188.0     19.1  359.29  27.26   15.7\n",
            "155   3.53501   0.0  19.58   1.0  0.871  ...  403.0     14.7   88.01  15.02   15.6\n",
            "166   2.01019   0.0  19.58   0.0  0.605  ...  403.0     14.7  369.30   3.70   50.0\n",
            "238   0.08244  30.0   4.93   0.0  0.428  ...  300.0     16.6  379.41   6.36   23.7\n",
            "111   0.10084   0.0  10.01   0.0  0.547  ...  432.0     17.8  395.59  10.16   22.8\n",
            "..        ...   ...    ...   ...    ...  ...    ...      ...     ...    ...    ...\n",
            "266   0.78570  20.0   3.97   0.0  0.647  ...  264.0     13.0  384.07  14.79   30.7\n",
            "342   0.02498   0.0   1.89   0.0  0.518  ...  422.0     15.9  389.96   8.65   16.5\n",
            "381  15.87440   0.0  18.10   0.0  0.671  ...  666.0     20.2  396.90  21.08   10.9\n",
            "361   3.83684   0.0  18.10   0.0  0.770  ...  666.0     20.2  350.65  14.19   19.9\n",
            "501   0.06263   0.0  11.93   0.0  0.573  ...  273.0     21.0  391.99   9.67   22.4\n",
            "\n",
            "[152 rows x 14 columns]\n"
          ]
        }
      ]
    },
    {
      "cell_type": "code",
      "metadata": {
        "id": "niXZTn17bJbE"
      },
      "source": [
        "from sklearn import preprocessing\n",
        "import numpy as np\n"
      ],
      "execution_count": 3,
      "outputs": []
    },
    {
      "cell_type": "code",
      "metadata": {
        "id": "oBQoOEEimV9u"
      },
      "source": [
        "def hypothesis(w, index, dataset):\n",
        "  sample =dataset[index][:-1]\n",
        "  sample = np.concatenate([[1], sample])\n",
        "  array = np.multiply(w, sample)\n",
        "  return np.sum(array)"
      ],
      "execution_count": 4,
      "outputs": []
    },
    {
      "cell_type": "code",
      "metadata": {
        "id": "EH8e0VXoePEz"
      },
      "source": [
        "# to calculate the predicted value with the help of hypothesis function\n",
        "def predicted_values(w, dataset):\n",
        "  predicted = []\n",
        "  for i in range(len(dataset)):\n",
        "    predicted.append(hypothesis(w, i, dataset))\n",
        "  \n",
        "  return np.array(predicted)\n",
        "\n",
        "\n",
        "# to calculate mean square error\n",
        "def MSE(predicted, actual):\n",
        "  return np.square(np.subtract(predicted, actual)).mean()/2"
      ],
      "execution_count": 5,
      "outputs": []
    },
    {
      "cell_type": "code",
      "metadata": {
        "id": "BgIvLeP7jRjb"
      },
      "source": [
        "# to update w using batch gradient decendent\n",
        "def update_parameter(w, alpha, dataset):\n",
        "  predicted = predicted_values(w, dataset)\n",
        "  m = len(dataset)\n",
        "  w[0] = w[0] - (alpha /m)*(np.sum(np.subtract(predicted, dataset[:, -1])))\n",
        "  for i in range(1, len(w)):\n",
        "    w[i] = w[i] - (alpha /m)*(np.sum(np.multiply(np.subtract(predicted, dataset[:, -1]), dataset[:, i-1])))\n",
        "  return w"
      ],
      "execution_count": 6,
      "outputs": []
    },
    {
      "cell_type": "code",
      "metadata": {
        "id": "MIo-7ZE8a-By"
      },
      "source": [
        "def linear_regression(epoch, alpha, rho, w, train_dataset, validation):\n",
        "  pre_MSE = 0\n",
        "  curr_MSE = 0\n",
        "  trains_MSE=[]\n",
        "  validations_MSE=[]\n",
        "  for itr in range(epoch):\n",
        "    predicted = predicted_values(w, train_dataset)\n",
        "    curr_MSE = MSE(predicted, train_dataset[:,-1])\n",
        "    w = update_parameter(w, alpha, train_dataset)\n",
        "    \n",
        "    trains_MSE.append(curr_MSE)\n",
        "    predicted = predicted_values(w, validation)\n",
        "    validations_MSE.append(MSE(predicted, validation[:,-1]))\n",
        "\n",
        "    if abs(curr_MSE - pre_MSE) <= rho:\n",
        "      break;\n",
        "    pre_MSE = curr_MSE\n",
        "  return w, trains_MSE, validations_MSE"
      ],
      "execution_count": 7,
      "outputs": []
    },
    {
      "cell_type": "code",
      "metadata": {
        "colab": {
          "base_uri": "https://localhost:8080/"
        },
        "id": "nQ1Sx46bjoI4",
        "outputId": "3c160d84-9920-4fc6-d071-a1795a00d886"
      },
      "source": [
        "\n",
        "train = preprocessing.normalize(train_dataset.to_numpy())\n",
        "validation = preprocessing.normalize(validation_dataset.to_numpy())\n",
        "test = preprocessing.normalize(test_dataset.to_numpy())\n",
        "\n",
        "print(\"train dataset after normalization...\")\n",
        "print(train, \"\\n\\n\\n\\n\")\n",
        "print(\"validation dataset after normalization...\")\n",
        "print(validation, \"\\n\\n\\n\\n\")\n",
        "print(\"test dataset after normalization...\")\n",
        "print(test)"
      ],
      "execution_count": 8,
      "outputs": [
        {
          "output_type": "stream",
          "name": "stdout",
          "text": [
            "train dataset after normalization...\n",
            "[[9.24296982e-04 0.00000000e+00 6.12061897e-02 ... 8.57340035e-01\n",
            "  6.50479817e-02 3.74634378e-02]\n",
            " [8.37581106e-03 0.00000000e+00 4.63926214e-02 ... 2.08529858e-01\n",
            "  3.55882111e-02 3.69624563e-02]\n",
            " [3.60311860e-03 0.00000000e+00 3.50957184e-02 ... 6.61943249e-01\n",
            "  6.63197947e-03 8.96213442e-02]\n",
            " ...\n",
            " [2.02739867e-02 0.00000000e+00 2.31164112e-02 ... 5.06900753e-01\n",
            "  2.69223176e-02 1.39209327e-02]\n",
            " [5.05206412e-03 0.00000000e+00 2.38327271e-02 ... 4.61709710e-01\n",
            "  1.86843313e-02 2.62028325e-02]\n",
            " [1.29419195e-04 0.00000000e+00 2.46522593e-02 ... 8.10011662e-01\n",
            "  1.99821750e-02 4.62875615e-02]] \n",
            "\n",
            "\n",
            "\n",
            "\n",
            "validation dataset after normalization...\n",
            "[[6.29214680e-04 0.00000000e+00 1.23715822e-02 0.00000000e+00\n",
            "  1.00568991e-03 1.64941127e-02 1.56241111e-01 5.77553348e-03\n",
            "  1.59633319e-02 6.12592861e-01 3.47202468e-02 7.68335118e-01\n",
            "  8.26102425e-03 8.93946585e-02]\n",
            " [1.93441506e-03 0.00000000e+00 1.59304540e-02 0.00000000e+00\n",
            "  1.05289733e-03 1.13763795e-02 1.95705823e-01 8.01454484e-03\n",
            "  7.82823290e-03 6.00816875e-01 4.10982227e-02 7.72137752e-01\n",
            "  3.89063175e-02 2.83773443e-02]\n",
            " [3.08708219e-05 1.28717812e-01 6.28571982e-03 0.00000000e+00\n",
            "  8.60264044e-04 1.41675405e-02 4.03315811e-02 1.33428884e-02\n",
            "  2.14529687e-03 5.68503670e-01 3.34666311e-02 8.08133330e-01\n",
            "  9.39640028e-03 6.24281389e-02]\n",
            " [1.53151010e-03 0.00000000e+00 1.61276242e-02 0.00000000e+00\n",
            "  1.06592897e-03 1.28684176e-02 1.87032890e-01 8.82601074e-03\n",
            "  7.92512245e-03 6.08253148e-01 4.16068929e-02 7.68618001e-01\n",
            "  2.53603918e-02 3.64555633e-02]\n",
            " [2.41083290e-03 0.00000000e+00 1.59226430e-02 0.00000000e+00\n",
            "  1.05238107e-03 1.20143579e-02 1.79374246e-01 7.77920872e-03\n",
            "  7.82439460e-03 6.00522285e-01 4.10780716e-02 7.76375554e-01\n",
            "  3.66181667e-02 2.97326995e-02]\n",
            " [1.29248843e-04 0.00000000e+00 5.50090232e-03 0.00000000e+00\n",
            "  1.09123591e-03 1.56082513e-02 1.30590527e-01 6.32603766e-03\n",
            "  6.70841746e-03 4.31574857e-01 3.98032769e-02 8.87523630e-01\n",
            "  1.12701413e-02 8.31843765e-02]\n",
            " [1.78754613e-02 0.00000000e+00 2.52724784e-02 0.00000000e+00\n",
            "  1.03323945e-03 8.17376180e-03 1.34879636e-01 2.64676851e-03\n",
            "  3.35104686e-02 9.29915503e-01 2.82046444e-02 3.35830746e-01\n",
            "  3.32172520e-02 1.50797109e-02]\n",
            " [3.54986242e-04 5.16839792e-02 1.06055525e-02 0.00000000e+00\n",
            "  9.36513702e-04 1.23338648e-02 1.93091346e-01 1.40962885e-02\n",
            "  1.65388733e-02 5.87130003e-01 4.07269756e-02 7.81627154e-01\n",
            "  2.98526664e-02 3.30777467e-02]\n",
            " [8.28573333e-05 1.51372155e-01 6.37655203e-03 0.00000000e+00\n",
            "  7.53076471e-04 1.09498833e-02 5.88459252e-02 1.25099625e-02\n",
            "  7.56860774e-03 6.37655203e-01 3.04636462e-02 7.50995103e-01\n",
            "  1.93756358e-02 3.67077476e-02]\n",
            " [2.56594596e-04 2.36641025e-02 1.14912882e-02 0.00000000e+00\n",
            "  7.74289434e-04 1.05901592e-02 6.96671178e-02 1.23015470e-02\n",
            "  7.57251280e-03 6.53129229e-01 3.57801230e-02 7.51382583e-01\n",
            "  2.47810481e-02 3.29404307e-02]\n",
            " [3.19685275e-02 0.00000000e+00 2.31026127e-02 0.00000000e+00\n",
            "  8.84536496e-04 7.64173160e-03 1.27638744e-01 2.02792436e-03\n",
            "  3.06332986e-02 8.50074035e-01 2.57830263e-02 5.06598175e-01\n",
            "  3.41688918e-02 7.14776966e-03]\n",
            " [1.28410794e-03 0.00000000e+00 1.63844733e-02 0.00000000e+00\n",
            "  1.08290499e-03 1.22702395e-02 1.70084520e-01 8.98106653e-03\n",
            "  8.05133824e-03 6.17940210e-01 4.22695258e-02 7.64917390e-01\n",
            "  2.06516826e-02 3.66335890e-02]\n",
            " [9.41062900e-03 0.00000000e+00 2.42549237e-02 0.00000000e+00\n",
            "  9.62156643e-04 8.04834652e-03 1.27706864e-01 2.51205967e-03\n",
            "  3.21612248e-02 8.92473990e-01 2.70690309e-02 4.28789530e-01\n",
            "  2.10388013e-02 1.90287247e-02]\n",
            " [9.70928983e-04 0.00000000e+00 1.94981479e-02 0.00000000e+00\n",
            "  1.07141338e-03 1.30676981e-02 1.62484565e-01 6.53384904e-03\n",
            "  7.87803954e-03 5.98731005e-01 3.62389819e-02 7.81698473e-01\n",
            "  8.94157488e-03 4.49048254e-02]\n",
            " [2.12528463e-03 0.00000000e+00 1.64145787e-02 0.00000000e+00\n",
            "  1.08489476e-03 1.19681234e-02 5.90844171e-02 9.07157539e-03\n",
            "  8.06613203e-03 6.19075633e-01 4.23471932e-02 7.80095794e-01\n",
            "  1.32687872e-02 4.65819125e-02]\n",
            " [5.76376836e-03 0.00000000e+00 4.61256006e-02 0.00000000e+00\n",
            "  2.05185894e-03 1.24195182e-02 2.21440575e-01 4.09052568e-03\n",
            "  1.17787540e-02 9.49367571e-01 3.46295367e-02 2.08790193e-01\n",
            "  3.80218179e-02 3.08603354e-02]\n",
            " [3.09047240e-04 0.00000000e+00 1.72792554e-02 0.00000000e+00\n",
            "  1.04317486e-03 1.01767503e-02 9.62930642e-02 4.24705909e-03\n",
            "  1.06992294e-02 6.97233113e-01 3.42375339e-02 7.07754022e-01\n",
            "  2.14162907e-02 3.88738666e-02]\n",
            " [5.70467506e-04 0.00000000e+00 2.13463973e-02 0.00000000e+00\n",
            "  1.29674376e-03 1.59723919e-02 2.12965226e-01 6.76975056e-03\n",
            "  1.24686900e-02 9.57595394e-01 5.21191243e-02 1.76556651e-01\n",
            "  2.65084350e-02 4.63835269e-02]\n",
            " [2.45921402e-04 0.00000000e+00 5.88192378e-03 0.00000000e+00\n",
            "  9.05694146e-04 1.64225754e-02 1.54680349e-01 7.11366782e-03\n",
            "  4.07053549e-03 5.61733897e-01 3.66348194e-02 8.07797768e-01\n",
            "  8.56847720e-03 7.87648617e-02]\n",
            " [7.99301274e-04 0.00000000e+00 1.21548843e-02 1.96046522e-03\n",
            "  9.93955865e-04 1.20843076e-02 1.78990474e-01 5.97549798e-03\n",
            "  1.56837217e-02 6.01862822e-01 3.41120948e-02 7.74854272e-01\n",
            "  4.20715836e-02 4.25420952e-02]\n",
            " [3.16847569e-02 0.00000000e+00 2.31231770e-02 0.00000000e+00\n",
            "  8.85323851e-04 6.83347370e-03 1.22642265e-01 2.17536718e-03\n",
            "  3.06605663e-02 8.50830714e-01 2.58059766e-02 5.07049114e-01\n",
            "  2.52566415e-02 1.06034458e-02]\n",
            " [9.40932891e-05 0.00000000e+00 2.86613111e-02 2.06344932e-03\n",
            "  1.13489713e-03 1.21495896e-02 1.15553162e-01 6.42166063e-03\n",
            "  1.03172466e-02 5.69512013e-01 3.38405689e-02 8.10522893e-01\n",
            "  2.78772003e-02 4.80783692e-02]\n",
            " [1.01691767e-02 0.00000000e+00 2.44567968e-02 0.00000000e+00\n",
            "  9.63408627e-04 8.67067764e-03 1.32823377e-01 2.95238128e-03\n",
            "  3.24289019e-02 8.99902027e-01 2.72943257e-02 4.11049843e-01\n",
            "  2.60917540e-02 1.75656552e-02]\n",
            " [3.29789696e-05 1.97741990e-01 2.65853120e-03 2.19713322e-03\n",
            "  8.81050421e-04 1.74078865e-02 5.44889038e-02 1.29301290e-02\n",
            "  2.19713322e-03 4.35032377e-01 2.98810118e-02 8.69010131e-01\n",
            "  6.94294097e-03 1.09856661e-01]\n",
            " [9.95933124e-04 0.00000000e+00 3.69476758e-02 0.00000000e+00\n",
            "  1.05323662e-03 1.07551663e-02 1.65243374e-01 3.92837006e-03\n",
            "  6.75151681e-03 7.37603212e-01 3.57830391e-02 6.51116281e-01\n",
            "  1.87692167e-02 3.88212217e-02]\n",
            " [2.01452532e-03 0.00000000e+00 1.63581586e-02 0.00000000e+00\n",
            "  1.08116576e-03 1.34120824e-02 1.75438236e-01 8.51870199e-03\n",
            "  8.03840716e-03 6.16947750e-01 4.22016376e-02 7.64110889e-01\n",
            "  2.40750295e-02 4.22016376e-02]\n",
            " [8.70872051e-02 0.00000000e+00 2.32075949e-02 0.00000000e+00\n",
            "  8.88555982e-04 7.28667193e-03 1.28218756e-01 1.82763015e-03\n",
            "  3.07725015e-02 8.53936918e-01 2.59001888e-02 4.93603747e-01\n",
            "  2.94646702e-02 6.41093782e-03]\n",
            " [4.62178838e-04 4.39375262e-02 7.31559811e-03 0.00000000e+00\n",
            "  9.72996518e-04 1.49651214e-02 7.07394172e-02 9.00873068e-03\n",
            "  1.09843815e-02 4.74525283e-01 3.27334570e-02 8.71940207e-01\n",
            "  1.06548501e-02 7.71103585e-02]\n",
            " [3.49524907e-05 1.58874958e-01 7.75683616e-03 0.00000000e+00\n",
            "  8.01851256e-04 1.21791673e-02 5.17745450e-02 1.59534756e-02\n",
            "  7.47646859e-03 6.56060119e-01 3.34571969e-02 7.33497642e-01\n",
            "  1.18875851e-02 4.31766061e-02]\n",
            " [2.49670876e-04 4.35725787e-02 1.51632574e-02 0.00000000e+00\n",
            "  1.01088383e-03 1.42438760e-02 1.27885518e-01 8.53477885e-03\n",
            "  6.53588680e-03 4.85834252e-01 4.05224982e-02 8.60471284e-01\n",
            "  1.68408017e-02 5.31585460e-02]\n",
            " [1.84031647e-04 0.00000000e+00 3.38395723e-02 0.00000000e+00\n",
            "  7.42909140e-04 6.65324541e-03 1.13083214e-01 2.22128613e-03\n",
            "  4.87953458e-03 8.67337272e-01 2.45196613e-02 4.81963830e-01\n",
            "  2.20310986e-02 1.85422314e-02]\n",
            " [1.06831817e-02 0.00000000e+00 2.49432212e-02 0.00000000e+00\n",
            "  9.82569986e-04 8.68327277e-03 1.15345172e-01 3.83533033e-03\n",
            "  3.30738845e-02 9.17800296e-01 2.78371861e-02 3.75126754e-01\n",
            "  2.23662144e-02 2.05333700e-02]\n",
            " [8.99025654e-05 1.09841394e-01 1.11305946e-02 0.00000000e+00\n",
            "  8.47347894e-04 1.37354047e-02 4.79117698e-02 1.53091704e-02\n",
            "  1.25533021e-02 6.13019587e-01 3.47308026e-02 7.77718911e-01\n",
            "  1.98969839e-02 5.18869821e-02]\n",
            " [1.30728348e-04 0.00000000e+00 1.21418257e-02 0.00000000e+00\n",
            "  1.01657232e-03 1.20868208e-02 1.38938341e-01 6.84566726e-03\n",
            "  1.01860954e-02 5.68384122e-01 3.91146062e-02 8.08572251e-01\n",
            "  1.97202806e-02 3.85034405e-02]\n",
            " [9.68927614e-05 0.00000000e+00 2.43815786e-02 0.00000000e+00\n",
            "  1.17105151e-03 1.23236311e-02 1.65132569e-01 5.11951840e-03\n",
            "  2.04371992e-03 5.57935538e-01 4.29181183e-02 8.11152436e-01\n",
            "  1.61045130e-02 2.43202670e-02]\n",
            " [1.98702107e-04 4.38394059e-02 1.52561133e-02 2.19197030e-03\n",
            "  1.01707422e-03 1.29764642e-02 1.34806173e-01 8.58704364e-03\n",
            "  6.57591089e-03 4.88809376e-01 4.07706475e-02 8.57805656e-01\n",
            "  2.99203946e-02 4.53737851e-02]\n",
            " [1.19614375e-04 7.20437008e-02 4.75925053e-03 0.00000000e+00\n",
            "  1.03044324e-03 1.44436704e-02 1.26840576e-01 7.35719005e-03\n",
            "  1.52819971e-02 4.84657623e-01 4.01698210e-02 8.58760913e-01\n",
            "  1.94954621e-02 6.20012455e-02]\n",
            " [9.38871016e-04 0.00000000e+00 1.25734411e-02 0.00000000e+00\n",
            "  1.02209908e-03 1.50313461e-02 1.55951229e-01 7.44570791e-03\n",
            "  1.62237950e-02 6.22588133e-01 3.52867541e-02 7.62802281e-01\n",
            "  1.06468655e-02 6.42867877e-02]\n",
            " [4.58413057e-03 0.00000000e+00 2.32502671e-02 0.00000000e+00\n",
            "  7.45036184e-04 8.26861710e-03 9.63408859e-02 3.72068501e-03\n",
            "  3.08290835e-02 8.55507067e-01 2.59478119e-02 5.05301524e-01\n",
            "  1.84460683e-02 2.98014474e-02]\n",
            " [2.25845203e-04 0.00000000e+00 5.88174379e-02 0.00000000e+00\n",
            "  1.33227803e-03 1.34810026e-02 2.19676825e-01 4.60060139e-03\n",
            "  4.58615501e-03 4.31098570e-01 4.37977803e-02 8.69947743e-01\n",
            "  4.03123025e-02 4.31098570e-02]\n",
            " [2.51937592e-03 0.00000000e+00 1.63827159e-02 0.00000000e+00\n",
            "  1.08278884e-03 1.12102860e-02 1.97437891e-01 7.64372443e-03\n",
            "  8.05047466e-03 6.17873930e-01 4.22649920e-02 7.57891811e-01\n",
            "  4.23052443e-02 2.73716138e-02]\n",
            " [9.41577350e-05 1.56310828e-01 7.11214267e-03 0.00000000e+00\n",
            "  7.65923057e-04 1.19343317e-02 6.25243312e-02 1.80154091e-02\n",
            "  1.95388535e-03 6.15473885e-01 3.20437197e-02 7.67662015e-01\n",
            "  1.28370268e-02 4.27900892e-02]\n",
            " [1.61931833e-04 7.12215178e-02 4.70493663e-03 0.00000000e+00\n",
            "  1.01868353e-03 1.60140504e-02 1.55176580e-01 6.68877964e-03\n",
            "  1.51075947e-02 4.79126575e-01 3.97113918e-02 8.56600619e-01\n",
            "  1.39637340e-02 7.20848090e-02]\n",
            " [4.15946821e-04 2.46134031e-02 1.54965986e-02 0.00000000e+00\n",
            "  1.03179386e-03 1.10878458e-02 1.96907225e-01 1.19760943e-02\n",
            "  9.84536123e-03 6.12381468e-01 2.99298981e-02 7.61302402e-01\n",
            "  5.89343323e-02 3.24896920e-02]\n",
            " [1.13071492e-01 0.00000000e+00 2.30015893e-02 0.00000000e+00\n",
            "  8.52710852e-04 8.85497648e-03 1.16787075e-01 1.80009675e-03\n",
            "  3.04993449e-02 8.46356822e-01 2.56702820e-02 5.04382917e-01\n",
            "  2.18705719e-02 1.32163828e-02]\n",
            " [2.77706818e-03 0.00000000e+00 3.63391487e-02 0.00000000e+00\n",
            "  1.61651678e-03 1.00294566e-02 1.85593201e-01 2.95390138e-03\n",
            "  9.27966004e-03 7.47940599e-01 2.72822005e-02 6.33986374e-01\n",
            "  2.46467771e-02 3.63762674e-02]\n",
            " [3.69805668e-04 4.26557159e-02 1.13619316e-02 0.00000000e+00\n",
            "  8.35664252e-04 1.30255045e-02 3.39306831e-02 1.51747709e-02\n",
            "  1.35722732e-02 6.39835738e-01 3.70329170e-02 7.63420981e-01\n",
            "  1.27191589e-02 5.07990798e-02]\n",
            " [4.50047059e-03 0.00000000e+00 3.83060399e-02 0.00000000e+00\n",
            "  1.18361359e-03 1.23624038e-02 1.88008704e-01 4.10841081e-03\n",
            "  9.78193051e-03 7.88423599e-01 2.87588757e-02 5.81222747e-01\n",
            "  2.17158857e-02 4.65619892e-02]\n",
            " [2.64634174e-04 6.22326975e-02 1.02269066e-02 0.00000000e+00\n",
            "  8.87853151e-04 1.32617878e-02 1.61805014e-02 1.45946048e-02\n",
            "  1.24465395e-02 6.22326975e-01 3.44354260e-02 7.77307136e-01\n",
            "  1.07662567e-02 4.91638310e-02]\n",
            " [4.40297586e-04 2.44729415e-02 1.54081640e-02 0.00000000e+00\n",
            "  1.02590571e-03 1.24851159e-02 1.84623871e-01 1.24257934e-02\n",
            "  9.78917662e-03 6.08886785e-01 2.97590969e-02 7.68489521e-01\n",
            "  4.00377324e-02 2.93675298e-02]\n",
            " [1.48799199e-04 0.00000000e+00 2.27625340e-02 0.00000000e+00\n",
            "  7.75310003e-04 1.04214438e-02 6.49344305e-02 7.98835428e-03\n",
            "  8.87082384e-03 7.06117577e-01 3.31768811e-02 7.02675698e-01\n",
            "  1.61448994e-02 3.60155448e-02]] \n",
            "\n",
            "\n",
            "\n",
            "\n",
            "test dataset after normalization...\n",
            "[[5.77925202e-05 0.00000000e+00 1.49613006e-02 ... 8.39906675e-01\n",
            "  1.93417662e-02 4.57092068e-02]\n",
            " [5.84112194e-05 0.00000000e+00 1.51325512e-02 ... 8.40809063e-01\n",
            "  8.62576820e-03 7.42715029e-02]\n",
            " [1.50129419e-04 0.00000000e+00 4.73978471e-03 ... 8.62945207e-01\n",
            "  1.15885562e-02 7.87065168e-02]\n",
            " ...\n",
            " [3.98027255e-04 0.00000000e+00 1.71890726e-02 ... 7.04060155e-01\n",
            "  2.54199597e-02 2.98014880e-02]\n",
            " [1.23619418e-04 0.00000000e+00 2.42722128e-02 ... 8.07513938e-01\n",
            "  1.14748768e-02 4.86258078e-02]\n",
            " [2.24416632e-04 0.00000000e+00 2.44300613e-02 ... 8.05700556e-01\n",
            "  1.32696393e-02 4.50512447e-02]]\n"
          ]
        }
      ]
    },
    {
      "cell_type": "code",
      "metadata": {
        "colab": {
          "base_uri": "https://localhost:8080/"
        },
        "id": "4Bv0GlJdjq66",
        "outputId": "ce863206-ee9c-4e5d-ecb1-1175d23f2d48"
      },
      "source": [
        "w=[1 for _ in range(14)]\n",
        "w, trains_MSE, validations_MSE= linear_regression(500, 0.1, 0.001, w, train, validation)\n",
        "\n",
        "\n",
        "print(trains_MSE)\n",
        "print(validations_MSE)\n",
        "predicted = predicted_values(w, test)\n",
        "test_MSE = MSE(predicted, test[:,-1])\n",
        "print(test_MSE)\n",
        "\n"
      ],
      "execution_count": 10,
      "outputs": [
        {
          "output_type": "stream",
          "name": "stdout",
          "text": [
            "[3.278129536807548, 2.1358597470048917, 1.391759097393567, 0.9070348946592958, 0.5912744172658813, 0.3855807591833111, 0.2515871343985183, 0.16430054466629931, 0.10743998169146414, 0.07039962585437233, 0.04627060469533575, 0.030552321335434736, 0.02031298445938197, 0.013642758426804841, 0.009297532799820672, 0.006466865699884342, 0.004622816825175358, 0.003421473835182614, 0.002638804394812387]\n",
            "[2.1971792203383322, 1.4398802859801025, 0.9450174599723165, 0.6214085969329163, 0.4095982887459799, 0.27080969026917, 0.17974535783208087, 0.11989583280109274, 0.08048215873514471, 0.05446304755879348, 0.037235798252767155, 0.02578931601222255, 0.018151780625298257, 0.013030369622140537, 0.009576181940451641, 0.007230794051783176, 0.005626053059577978, 0.004518597785669666, 0.003747041376898499]\n",
            "0.0022701311653732636\n"
          ]
        }
      ]
    },
    {
      "cell_type": "code",
      "metadata": {
        "colab": {
          "base_uri": "https://localhost:8080/",
          "height": 282
        },
        "id": "NdVpBefFncUN",
        "outputId": "7bd9027c-5331-4257-daa0-735942d91161"
      },
      "source": [
        "import matplotlib.pyplot as plt\n",
        "\n",
        "# print(trains_MSE1)\n",
        "epoch = [i+1 for i in range(len(trains_MSE))]\n",
        "plt.plot(epoch, trains_MSE)"
      ],
      "execution_count": 11,
      "outputs": [
        {
          "output_type": "execute_result",
          "data": {
            "text/plain": [
              "[<matplotlib.lines.Line2D at 0x7eff8d949890>]"
            ]
          },
          "metadata": {},
          "execution_count": 11
        },
        {
          "output_type": "display_data",
          "data": {
            "image/png": "[encoded data removed]",
            "text/plain": [
              "<Figure size 432x288 with 1 Axes>"
            ]
          },
          "metadata": {
            "needs_background": "light"
          }
        }
      ]
    },
    {
      "cell_type": "code",
      "metadata": {
        "colab": {
          "base_uri": "https://localhost:8080/",
          "height": 282
        },
        "id": "DU27tdvhw-NW",
        "outputId": "725b6efc-ea57-40d2-ff04-53372c166e4e"
      },
      "source": [
        "plt.plot(epoch, validations_MSE)"
      ],
      "execution_count": 12,
      "outputs": [
        {
          "output_type": "execute_result",
          "data": {
            "text/plain": [
              "[<matplotlib.lines.Line2D at 0x7eff8d3f6210>]"
            ]
          },
          "metadata": {},
          "execution_count": 12
        },
        {
          "output_type": "display_data",
          "data": {
            "image/png": "[encoded data removed]",
            "text/plain": [
              "<Figure size 432x288 with 1 Axes>"
            ]
          },
          "metadata": {
            "needs_background": "light"
          }
        }
      ]
    },
    {
      "cell_type": "code",
      "metadata": {
        "colab": {
          "base_uri": "https://localhost:8080/"
        },
        "id": "PIVqTQW3oefW",
        "outputId": "541ac871-6276-4c9d-ea81-7888ca4c82e9"
      },
      "source": [
        "from sklearn.linear_model import LinearRegression\n",
        "reg = LinearRegression()\n",
        "reg.fit(np.delete(train, -1, 1),  train[:,-1])\n",
        "\n",
        "\n",
        "from sklearn.metrics import mean_squared_error\n",
        "mse_train = mean_squared_error(train[:,-1], reg.predict(np.delete(train, -1, 1)), sample_weight=None)\n",
        "mse_validation = mean_squared_error(validation[:,-1], reg.predict(np.delete(validation, -1, 1)), sample_weight=None)\n",
        "mse_test = mean_squared_error(test[:,-1], reg.predict(np.delete(test, -1, 1)), sample_weight=None)\n",
        "print(\"train_mse\", mse_train)\n",
        "print(\"validation mse\", mse_validation)\n",
        "print(\"test_mse\", mse_test)"
      ],
      "execution_count": 13,
      "outputs": [
        {
          "output_type": "stream",
          "name": "stdout",
          "text": [
            "train_mse 5.841550026942976e-05\n",
            "validation mse 4.826684267206832e-05\n",
            "test_mse 7.457862444493374e-05\n"
          ]
        }
      ]
    },
    {
      "cell_type": "code",
      "metadata": {
        "colab": {
          "base_uri": "https://localhost:8080/"
        },
        "id": "02VC4OLFwBHC",
        "outputId": "f7f7db25-0145-4e65-dfaa-ff1c1716ca51"
      },
      "source": [
        "train_UN = train_dataset.to_numpy()\n",
        "validation_UN = validation_dataset.to_numpy()\n",
        "test_UN = test_dataset.to_numpy()\n",
        "\n",
        "w=[1 for _ in range(14)]\n",
        "w, trains_MSE, validations_MSE= linear_regression(1000, 0.000001, 0.001, w, train_UN, validation_UN)\n",
        "\n",
        "\n",
        "print(trains_MSE)\n",
        "print(validations_MSE)\n",
        "predicted = predicted_values(w, test)\n",
        "test_MSE = MSE(predicted, test[:,-1])\n",
        "print(test_MSE)\n",
        "print(trains_MSE)\n",
        "print(validations_MSE)\n",
        "predicted = predicted_values(w, test_UN)\n",
        "test_MSE = MSE(predicted, test_UN[:,-1])\n",
        "print(test_MSE)"
      ],
      "execution_count": 19,
      "outputs": [
        {
          "output_type": "stream",
          "name": "stdout",
          "text": [
            "[426079.1595574408, 193913.91074105687, 88375.58241312436, 40398.90155305248, 18588.437165745687, 8672.571303711598, 4163.763681075098, 2112.930427892905, 1179.4857943218078, 754.0290744094763, 559.5389736203855, 470.086062767805, 428.4237731018073, 408.52722119191156, 398.5642468055699, 393.15444832323493, 389.8503207817594, 387.5376613789929, 385.70842841677836, 384.1301969544969, 382.69589803208936, 381.35551065419367, 380.08500768553455, 378.87223661885446, 377.7104986583937, 376.595627394414, 375.5246584231676, 374.49522228228085, 373.50526629264573, 372.55292601317865, 371.63646480130734, 370.75424442365835, 369.90470986826, 369.08638069531463, 368.2978454393867, 367.537757474241, 366.80483161469124, 366.0978411223286, 365.4156149605761, 364.75703522583143, 364.1210347185589, 363.50659463518934, 362.91274236953035, 362.3385494160774, 361.7831293694033, 361.2456360147218, 360.7252615052439, 360.22123462227614, 359.73281911426074, 359.25931211115056, 358.80004261069644, 358.35437003337785, 357.92168284286277, 357.5013972290267, 357.0929558506885, 356.6958266353617, 356.3095016334286, 355.9334959242754, 355.56734657202816, 355.210611628642, 354.86286918219633, 354.5237164483455, 354.1927689029685, 353.8696594541493, 353.55403765170485, 353.24556893255647, 352.9439339003216, 352.648827637573, 352.35995904928325, 352.0770502360417, 351.799835895694, 351.52806275211407, 351.2614890098784, 350.9998838336698, 350.74302685128737, 350.49070767919244, 350.2427254695696, 349.9988884779267, 349.75901365030177, 349.5229262291888, 349.2904593773328, 349.06145381858494, 348.8357574950422, 348.613225239735, 348.3937184641574, 348.17710485996565, 347.9632581142043, 347.7520576374444, 347.54338830425087, 347.337140205418, 347.13320841143957, 346.9314927467053, 346.7318975739361, 346.5343315883945, 346.3387076214264, 346.14494245291235, 345.9529566322217, 345.7626743072874, 345.5740230614307, 345.3869337575848, 345.20134038958355, 345.0171799401919, 344.834392245576, 344.6529198659171, 344.4727079618935, 344.29370417676427, 344.11585852379795, 343.9391232788081, 343.76345287756044, 343.58880381783206, 343.41513456591383, 343.24240546734944, 343.0705786617245, 342.8996180013185, 342.72948897344577, 342.56015862631847, 342.3915954982699, 342.2237695501891, 342.05665210101796, 341.89021576617347, 341.7244343987631, 341.5592830334644, 341.3947378329505, 341.2307760367449, 341.06737591239454, 340.90451670885847, 340.74217861200896, 340.58034270215006, 340.41899091346505, 340.25810599529916, 340.09767147520034, 339.93767162363605, 339.77809142030844, 339.6189165219986, 339.46013323186725, 339.30172847014967, 339.14368974617736, 338.9860051316699, 338.82866323523695, 338.67165317803693, 338.5149645705395, 338.3585874903418, 338.20251246098985, 338.04673043176183, 337.8912327583663, 337.7360111845174, 337.58105782434365, 337.4263651455969, 337.27192595362, 337.1177333760432, 336.96378084817405, 336.81006209904984, 336.6565711381222, 336.5033022425458, 336.35024994504374, 336.19740902232195, 336.0447744840107, 335.8923415621062, 335.7401057008916, 335.5880625473148, 335.43620794180265, 335.28453790949186, 335.13304865185677, 334.98173653871845, 334.83059810061377, 334.679630021513, 334.5288291318652, 334.3781924019615, 334.2277169355965, 334.07739996402034, 333.92723884016146, 333.77723103311456, 333.6273741228764, 333.4776657953209, 333.3281038374027, 333.1786861325772, 333.0294106564288, 332.88027547249766, 332.73127872829525, 332.58241865150046, 332.43369354632887, 332.2851017900655, 332.13664182975634, 331.98831217904876, 331.84011141517493, 331.6920381760735, 331.5440911576402, 331.3962691111038, 331.2485708405217, 331.10099520038773, 330.9535410933492, 330.8062074680277, 330.658993316938, 330.511897674502, 330.36491961515236, 330.218058251522, 330.0713127327162, 329.9246822426625, 329.77816599853577, 329.6317632492542, 329.48547327404486, 329.3392953810719, 329.1932289061296, 329.0472732113926, 328.9014276842242, 328.75569173603753, 328.61006480120955, 328.46454633604316, 328.31913581777746, 328.1738327436417, 328.0286366299532, 327.8835470112558, 327.7385634394964, 327.5936854832411, 327.4489127269245, 327.30424477013406, 327.1596812269277, 327.0152217251807, 326.8708659059632, 326.72661342294623, 326.58246394183334, 326.43841713981993, 326.294472705075, 326.1506303362481, 326.0068897419979, 325.86325064054154, 325.71971275922596, 325.57627583411687, 325.4329396096081, 325.28970383804705, 325.14656827937824, 325.00353270080296, 324.8605968764532, 324.71776058708184, 324.57502361976594, 324.4323857676241, 324.28984682954604, 324.14740660993476, 324.0050649184603, 323.86282156982475, 323.7206763835379, 323.578629183703, 323.4366797988121, 323.2948280615512, 323.15307380861304, 323.01141688052047, 322.86985712145474, 322.7283943790955, 322.58702850446406, 322.44575935177664, 322.30458677830285, 322.16351064423105, 322.02253081253997, 321.8816471488754, 321.74085952143326, 321.60016780084794, 321.4595718600849, 321.31907157433926, 321.17866682093774, 321.0383574792462, 320.8981434305808, 320.7580245581231, 320.61800074683924, 320.47807188340266, 320.3382378561204, 320.19849855486274, 320.05885387099596, 319.91930369731784, 319.77984792799714, 319.64048645851415, 319.5012191856059, 319.36204600721175, 319.2229668224234, 319.0839815314359, 318.94509003550087, 318.80629223688305, 318.66758803881737, 318.5289773454686, 318.3904600618932, 318.25203609400205, 318.1137053485253, 317.9754677329796, 317.83732315563475, 317.6992715254844, 317.56131275221577, 317.4234467461825, 317.2856734183778, 317.1479926804088, 317.0104044444726, 316.87290862333293, 316.73550513029784, 316.59819387919896, 316.46097478437105, 316.32384776063276, 316.18681272326825, 316.0498695880095, 315.91301827102006, 315.77625868887816, 315.63959075856184, 315.5030143974349, 315.366529523232, 315.23013605404566, 315.09383390831385, 314.95762300480754, 314.8215032626193, 314.68547460115155, 314.5495369401072, 314.41369019947865, 314.2779342995379, 314.1422691608281, 314.00669470415454, 313.8712108505757, 313.7358175213959, 313.60051463815734, 313.46530212263247, 313.3301798968175, 313.19514788292565, 313.06020600338024, 312.92535418080905, 312.79059233803827, 312.65592039808735, 312.52133828416316, 312.38684591965506, 312.25244322813006, 312.1181301333283, 311.98390655915847, 311.84977242969336, 311.7157276691664, 311.5817722019674, 311.44790595263856, 311.31412884587144, 311.18044080650367, 311.04684175951473, 310.91333163002435, 310.77991034328835, 310.6465778246963, 310.51333399976846, 310.3801787941542, 310.2471121336281, 310.11413394408874, 309.9812441515558, 309.8484426821683, 309.7157294621822, 309.5831044179683, 309.4505674760111, 309.3181185629065, 309.1857576053595, 309.05348453018365, 308.9212992642987, 308.7892017347293, 308.6571918686039, 308.5252695931522, 308.3934348357056, 308.2616875236942, 308.13002758464677, 307.9984549461888, 307.86696953604206, 307.73557128202276, 307.6042601120416, 307.47303595410125, 307.34189873629697, 307.21084838681463, 307.07988483393024, 306.94900800600936, 306.8182178315057, 306.6875142389608, 306.5568971570032, 306.4263665143475, 306.29592223979415, 306.1655642622284, 306.03529251061974, 305.90510691402136, 305.77500740156955, 305.64499390248324, 305.5150663460634, 305.38522466169206, 305.2554687788329, 305.12579862702967, 304.9962141359063, 304.8667152351663, 304.73730185459254, 304.60797392404635, 304.4787313734676, 304.34957413287447, 304.22050213236207, 304.0915153021034, 303.96261357234806, 303.8337968734224, 303.7050651357288, 303.57641828974585, 303.4478562660277, 303.31937899520375, 303.19098640797876, 303.06267843513206, 302.93445500751756, 302.8063160560635, 302.67826151177235, 302.55029130571995, 302.4224053690561, 302.2946036330036, 302.16688602885876, 302.03925248799055, 301.9117029418405, 301.784237321923, 301.65685555982446, 301.5295575872035, 301.40234333579053, 301.275212737388, 301.1481657238695, 301.02120222718037, 300.89432217933677, 300.7675255124264, 300.6408121586074, 300.51418205010896, 300.3876351192307, 300.2611712983424, 300.1347905198846, 300.0084927163676, 299.88227782037194, 299.75614576454774, 299.63009648161506, 299.5041299043633, 299.3782459656515, 299.252444598408, 299.12672573563003, 299.0010893103843, 298.875535255806, 298.75006350509966, 298.6246739915379, 298.49936664846246, 298.37414140928314, 298.2489982074782, 298.1239369765942, 297.9989576502458, 297.8740601621155, 297.74924444595365, 297.6245104355789, 297.499858064877, 297.37528726780164, 297.25079797837355, 297.1263901306814, 297.0020636588807, 296.8778184971941, 296.75365457991165, 296.6295718413902, 296.5055702160533, 296.38164963839154, 296.25781004296186, 296.1340513643881, 296.0103735373603, 295.88677649663526, 295.76326017703576, 295.6398245134506, 295.5164694408352, 295.3931948942107, 295.27000080866407, 295.1468871193485, 295.0238537614824, 294.9009006703502, 294.778027781302, 294.6552350297529, 294.5325223511838, 294.40988968114067, 294.287336955235, 294.1648641091431, 294.04247107860635, 293.92015779943137, 293.79792420748913, 293.6757702387162, 293.55369582911294, 293.431700914745, 293.3097854317422, 293.18794931629907, 293.0661925046741, 292.9445149331907, 292.8229165382359, 292.7013972562611, 292.5799570237818, 292.4585957773773, 292.3373134536909, 292.2161099894297, 292.0949853213644, 291.9739393863294, 291.85297212122265, 291.7320834630056, 291.6112733487031, 291.4905417154032, 291.3698885002575, 291.24931364048024, 291.1288170733492, 291.008398736205, 290.88805856645104, 290.76779650155385, 290.6476124790424, 290.5275064365086, 290.4074783116069, 290.28752804205425, 290.16765556562996, 290.0478608201758, 289.92814374359597, 289.80850427385667, 289.6889423489864, 289.56945790707573, 289.4500508862769, 289.3307212248047, 289.211468860935, 289.09229373300604, 288.97319577941755, 288.85417493863076, 288.7352311491683, 288.61636434961474, 288.49757447861566, 288.37886147487825, 288.26022527717043, 288.1416658243217, 288.0231830552226, 287.90477690882454, 287.78644732413994, 287.66819424024203, 287.55001759626487, 287.4319173314032, 287.31389338491255, 287.1959456961087, 287.0780742043683, 286.9602788491281, 286.8425595698853, 286.72491630619743, 286.6073489976822, 286.4898575840173, 286.3724420049406, 286.25510220025006, 286.13783810980317, 286.0206496735177, 285.9035368313708, 285.7864995233996, 285.66953768970063, 285.55265127043, 285.43584020580346, 285.31910443609587, 285.2024439016417, 285.0858585428344, 284.9693483001269, 284.8529131140311, 284.7365529251176, 284.62026767401665, 284.5040573014168, 284.38792174806576, 284.2718609547699, 284.15587486239406, 284.0399634118621, 283.9241265441561, 283.80836420031665, 283.6926763214429, 283.5770628486922, 283.46152372328015, 283.3460588864806, 283.2306682796254, 283.1153518441047, 283.00010952136614, 282.88494125291584, 282.76984698031737, 282.6548266451923, 282.5398801892198, 282.4250075541364, 282.31020868173675, 282.19548351387255, 282.08083199245294, 281.9662540594447, 281.85174965687156, 281.73731872681475, 281.6229612114123, 281.5086770528598, 281.39446619340936, 281.28032857537016, 281.1662641411085, 281.05227283304725, 280.938354593666, 280.82450936550117, 280.7107370911455, 280.59703771324865, 280.4834111745163, 280.3698574177107, 280.25637638565075, 280.14296802121106, 280.02963226732277, 279.9163690669731, 279.8031783632052, 279.6900600991183, 279.57701421786754, 279.46404066266405, 279.3511393767742, 279.238310303521, 279.12555338628226, 279.01286856849174, 278.9002557936388, 278.787715005268, 278.67524614697965, 278.56284916242885, 278.4505239953265, 278.33827058943814, 278.2260888885852, 278.1139788366434, 278.0019403775437, 277.8899734552721, 277.77807801386933, 277.66625399743117, 277.5545013501076, 277.44282001610384, 277.33120993967924, 277.21967106514813, 277.10820333687883, 276.99680669929444, 276.8854810968721, 276.77422647414363, 276.66304277569446, 276.55192994616465, 276.4408879302482, 276.3299166726931, 276.2190161183011, 276.1081862119283, 275.997426898484, 275.88673812293183, 275.77611983028874, 275.6655719656254, 275.5550944740663, 275.444687300789, 275.3343503910246, 275.2240836900578, 275.1138871432265, 275.0037606959216, 274.89370429358763, 274.78371788172177, 274.6738014058747, 274.5639548116497, 274.4541780447031, 274.34447105074435, 274.2348337755352, 274.12526616489066, 274.01576816467815, 273.9063397208175, 273.79698077928157, 273.6876912860953, 273.5784711873362, 273.46932042913426, 273.3602389576716, 273.2512267191826, 273.1422836599539, 273.03340972632424, 272.9246048646842, 272.81586902147683, 272.7072021431966, 272.59860417639004, 272.4900750676555, 272.3816147636432, 272.2732232110547, 272.1649003566436, 272.0566461472148, 271.9484605296246, 271.84034345078106, 271.7322948576434, 271.6243146972222, 271.5164029165792, 271.4085594628276, 271.3007842831314, 271.193077324706, 271.08543853481734, 270.9778678607831, 270.8703652499708, 270.7629306497998, 270.65556400773954, 270.54826527131064, 270.44103438808395, 270.33387130568116, 270.22677597177443, 270.1197483340865, 270.0127883403904, 269.90589593850945, 269.7990710763174, 269.6923137017381, 269.5856237627457, 269.4790012073645, 269.3724459836687, 269.2659580397826, 269.15953732388044, 269.05318378418605, 268.9468973689737, 268.84067802656676, 268.73452570533885, 268.62844035371273, 268.5224219201611, 268.416470353206, 268.3105856014192, 268.20476761342144, 268.09901633788326, 267.99333172352414, 267.88771371911304, 267.78216227346803, 267.67667733545625, 267.57125885399375, 267.465906778046, 267.36062105662705, 267.25540163879987, 267.15024847367664, 267.04516151041764, 266.94014069823254, 266.8351859863792, 266.7302973241642, 266.62547466094287, 266.52071794611885, 266.4160271291441, 266.3114021595192, 266.2068429867929, 266.1023495605621, 265.9979218304723, 265.89355974621657, 265.78926325753656, 265.68503231422176, 265.58086686610955, 265.47676686308546, 265.3727322550826, 265.26876299208215, 265.1648590241128, 265.0610203012511, 264.9572467736212, 264.85353839139486, 264.74989510479134, 264.64631686407733, 264.5428036195668, 264.4393553216216, 264.3359719206503, 264.23265336710904, 264.1293996115009, 264.02621060437656, 263.9230862963331, 263.8200266380153, 263.71703158011456, 263.6141010733693, 263.5112350685646, 263.40843351653274, 263.3056963681523, 263.203023574349, 263.1004150860948, 262.9978708544085, 262.8953908303555, 262.79297496504745, 262.69062320964247, 262.58833551534525, 262.48611183340654, 262.3839521151234, 262.2818563118394, 262.17982437494396, 262.0778562558726, 261.97595190610696, 261.8741112771748, 261.7723343206495, 261.6706209881508, 261.56897123134377, 261.46738500193965, 261.365862251695, 261.26440293241257, 261.1630069959404, 261.06167439417203, 260.9604050790468, 260.85919900254925, 260.7580561167094, 260.6569763736026, 260.55595972534974, 260.4550061241167, 260.35411552211457, 260.2532878715997, 260.15252312487337, 260.05182123428216, 259.95118215221737, 259.8506058311152, 259.7500922234572, 259.6496412817693, 259.54925295862216, 259.4489272066314, 259.34866397845747, 259.2484632268049, 259.1483249044233, 259.0482489641065, 258.94823535869307, 258.8482840410656, 258.74839496415143, 258.64856808092196, 258.548803344393, 258.4491007076244, 258.3494601237204, 258.24988154582917, 258.1503649271429, 258.0509102208982, 257.9515173803747, 257.85218635889714, 257.75291710983305, 257.65370958659446, 257.55456374263684, 257.4554795314595, 257.35645690660516, 257.2574958216604, 257.15859623025534, 257.0597580860632, 256.9609813428012, 256.86226595422943, 256.763611874152, 256.66501905641553, 256.56648745491066, 256.4680170235703, 256.36960771637143, 256.27125948733374, 256.17297229051974, 256.0747460800353, 255.976580810029, 255.8784764346925, 255.78043290826014, 255.6824501850091, 255.58452821925948, 255.4866669653738, 255.3888663777574, 255.29112641085823, 255.19344701916677, 255.0958281572159, 254.998269779581, 254.90077184088, 254.80333429577297, 254.70595709896247, 254.6086402051931, 254.51138356925205, 254.41418714596819, 254.31705089021287, 254.21997475689923, 254.12295870098274, 254.02600267746053, 253.92910664137185, 253.83227054779763, 253.7354943518609, 253.63877800872623, 253.54212147359996, 253.4455247017301, 253.3489876484065, 253.25251026896015, 253.15609251876404, 253.0597343532324, 252.96343572782092, 252.86719659802665, 252.77101691938822, 252.67489664748513, 252.5788357379385, 252.48283414641062, 252.38689182860463, 252.29100874026508, 252.19518483717752, 252.09942007516847, 252.0037144101053, 251.9080677978965, 251.81248019449134, 251.71695155587992, 251.6214818380932, 251.52607099720254, 251.43071898932044, 251.3354257705998, 251.2401912972342, 251.14501552545755, 251.0498984115444, 250.95483991180998, 250.85983998260957, 250.76489858033887, 250.6700156614342, 250.5751911823717, 250.48042509966797, 250.38571736987993, 250.2910679496043, 250.196476795478, 250.10194386417825, 250.00746911242192, 249.91305249696578, 249.818693974607, 249.72439350218204, 249.63015103656738, 249.53596653467943, 249.44183995347407, 249.347771249947, 249.25376038113345, 249.15980730410837, 249.0659119759861, 248.97207435392048, 248.87829439510497, 248.7845720567722, 248.69090729619433, 248.5973000706827, 248.50375033758812, 248.41025805430036, 248.31682317824857, 248.22344566690094, 248.13012547776466, 248.0368625683862, 247.94365689635092, 247.85050841928296, 247.7574170948457, 247.66438288074116, 247.57140573471014, 247.47848561453247, 247.38562247802648, 247.2928162830492, 247.20006698749646, 247.1073745493026, 247.01473892644054, 246.9221600769217, 246.82963795879584, 246.7371725301515, 246.64476374911513, 246.55241157385205, 246.46011596256534, 246.36787687349667, 246.27569426492602, 246.1835680951711, 246.09149832258808, 245.99948490557117, 245.9075278025526, 245.81562697200255, 245.72378237242896, 245.6319939623782, 245.540261700434, 245.44858554521815, 245.3569654553901, 245.26540138964734, 245.17389330672458, 245.08244116539447, 244.9910449244672, 244.8997045427906, 244.80841997924995, 244.71719119276804, 244.62601814230499, 244.53490078685851, 244.44383908546345, 244.3528329971923, 244.26188248115432, 244.1709874964964, 244.08014800240267, 243.98936395809392, 243.89863532282854, 243.80796205590158, 243.7173441166456, 243.62678146442957, 243.53627405865996, 243.44582185877948, 243.35542482426845, 243.2650829146433, 243.1747960894576, 243.08456430830168, 242.99438753080233, 242.90426571662312, 242.81419882546416, 242.7241868170623, 242.63422965119074, 242.5443272876592, 242.4544796863135, 242.3646868070366, 242.2749486097473, 242.18526505440073, 242.09563610098834, 242.00606170953802, 241.91654184011355, 241.82707645281496, 241.73766550777844, 241.6483089651763, 241.55900678521678, 241.46975892814416, 241.3805653542385, 241.29142602381614, 241.202340897229, 241.11330993486467, 241.024333097147, 240.93541034453526, 240.8465416375244, 240.75772693664544, 240.66896620246428, 240.5802593955832, 240.49160647663953, 240.40300740630627, 240.3144621452919, 240.22597065434022, 240.13753289423062, 240.04914882577765, 239.96081840983118, 239.87254160727656, 239.78431837903406, 239.69614868605936, 239.6080324893431, 239.5199697499114, 239.4319604288249, 239.3440044871799, 239.25610188610722, 239.16825258677267, 239.08045655037725, 238.99271373815665, 238.9050241113813, 238.81738763135678, 238.72980425942305, 238.64227395695497]\n",
            "[184434.15173757923, 86392.97883265199, 41105.78654283298, 20034.97501579885, 10130.679132691852, 5408.79010235592, 3114.180731732362, 1970.9968140916503, 1383.5196099252994, 1070.3709712679072, 896.5353481442901, 795.8617069292595, 735.0695391249004, 696.8728564100509, 671.9634851085677, 655.1349077198905, 643.3644162611477, 634.8365995426655, 628.4290886629924, 623.4315119403245, 619.3859669542795, 615.9931500620155, 613.0553333058721, 610.4407960910032, 608.0611716056255, 605.8567891031248, 603.7870793061213, 601.8242415361602, 599.9490389936265, 598.1479953679553, 596.411520201968, 594.7326526118559, 593.1062180109603, 591.5282612926414, 589.9956653593867, 588.5058940523926, 587.0568186458507, 585.6466005123857, 584.2736115682533, 582.9363801434241, 581.6335539732056, 580.3638747290299, 579.1261603342455, 577.9192925395156, 576.7422080585029, 575.5938921199744, 574.4733736660211, 573.3797216773482, 572.3120422756238, 571.2694763666068, 570.2511976643032, 569.2564109879354, 568.2843507581915, 567.3342796425947, 566.4054873155923, 565.4972893095924, 564.609025940345, 563.7400612949396, 562.8897822739667, 562.0575976816468, 561.2429373592494, 560.4452513581809, 559.6640091498567, 558.8986988699669, 558.148826595125, 557.4139156501451, 556.6935059443803, 555.9871533357161, 555.2944290209172, 554.6149189511216, 553.9482232713582, 553.293955783019, 552.6517434282904, 552.021225795579, 551.4020546450346, 550.7938934533042, 550.1964169766933, 549.6093108319455, 549.0322710938992, 548.4650039092949, 547.9072251260543, 547.3586599373746, 546.8190425400111, 546.288115806152, 545.7656309683119, 545.2513473166958, 544.7450319085117, 544.2464592887296, 543.7554112218124, 543.2716764339522, 542.7950503653832, 542.3253349323452, 541.8623382982997, 541.405874654015, 540.9557640061507, 540.5118319739937, 540.0739095940064, 539.6418331318667, 539.2154439016946, 538.7945880921632, 538.3791165992204, 537.9688848651487, 537.5637527237005, 537.1635842510668, 536.7682476224421, 536.377614973954, 535.9915622697475, 535.6099691740098, 535.2327189277397, 534.8596982300722, 534.4907971239743, 534.1259088861345, 533.7649299208834, 533.4077596579845, 533.0543004541374, 532.7044574980506, 532.3581387189404, 532.0152546983242, 531.6757185849723, 531.3394460129044, 531.0063550222995, 530.676365983217, 530.3494015220124, 530.0253864503444, 529.7042476966776, 529.3859142401776, 529.0703170469104, 528.7573890082607, 528.4470648814751, 528.1392812322605, 527.8339763793493, 527.5310903409655, 527.2305647831125, 526.9323429696195, 526.6363697138769, 526.3425913321992, 526.0509555987552, 525.7614117020041, 525.4739102025854, 525.1884029926074, 524.9048432562797, 524.6231854318477, 524.3433851747732, 524.0653993221194, 523.7891858580997, 523.5147038807398, 523.2419135696239, 522.9707761546722, 522.7012538859295, 522.4333100043109, 522.1669087132858, 521.9020151514576, 521.6385953660089, 521.3766162869862, 521.1160457023888, 520.8568522340369, 520.5990053141915, 520.3424751628997, 520.0872327660395, 519.8332498540419, 519.5804988812629, 519.3289530059894, 519.0785860710536, 518.8293725850318, 518.5812877040174, 518.3343072139369, 518.0884075134026, 517.8435655970723, 517.5997590395111, 517.3569659795262, 517.1151651049685, 516.8743356379842, 516.6344573206951, 516.3955104013024, 516.1574756205928, 515.9203341988392, 515.6840678230818, 515.4486586347731, 515.2140892177816, 514.9803425867401, 514.7474021757236, 514.5152518272548, 514.28387578162, 514.0532586664846, 513.8233854868076, 513.5942416150352, 513.3658127815729, 513.1380850655207, 512.9110448856715, 512.684678991754, 512.4589744559239, 512.2339186644862, 512.0094993098483, 511.78570438269236, 511.5625221643632, 511.33994121946523, 511.1179503886582, 510.8965387816508, 510.6756957703855, 510.45541098240403, 510.23567429439373, 510.01647582590886, 509.7978059332569, 509.579655203551, 509.36201444892055, 509.1448747008749, 508.92822720481774, 508.71206341470725, 508.4963749878549, 508.281153779864, 508.0663918397006, 507.8520814048923, 507.6382148968554, 507.42478491634114, 507.2117842390027, 506.99920581107784, 506.7870427451805, 506.5752883162048, 506.3639359573346, 506.1529792561521, 505.942411950853, 505.73222792655173, 505.5224212116876, 505.3129859745199, 505.1039165197115, 504.8952072850034, 504.68685283796907, 504.4788478728553, 504.2711872075003, 504.06386578033283, 503.8568786474431, 503.65022097973207, 503.44388806012824, 503.23787528087774, 503.03217814090124, 502.82679224321606, 502.62171329242545, 502.4169370922671, 502.2124595432265, 502.0082766402062, 501.80438447025654, 501.6007792103597, 501.39745712527065, 501.19441456541074, 500.99164796481506, 500.78915383912624, 500.5869287836437, 500.38496947141647, 500.18327265138447, 499.9818351465663, 499.7806538522894, 499.5797257344661, 499.3790478279105, 499.17861723469633, 498.97843112255623, 498.77848672331834, 498.57878133138337, 498.37931230223563, 498.18007705099353, 497.98107305099455, 497.78229783241085, 497.58374898090534, 497.3854241363146, 497.18732099136514, 496.98943729042367, 496.79177082827255, 496.59431944891907, 496.3970810444321, 496.20005355380533, 496.0032349618506, 495.8066232981151, 495.61021663582784, 495.41401309086706, 495.2180108207582, 495.0222080236902, 494.82660293755845, 494.6311938390309, 494.435979042636, 494.24095689987087, 494.04612579833315, 493.85148416087395, 493.6570304447669, 493.4627631409031, 493.26868077299935, 493.0747818968297, 492.8810650994735, 492.687528998581, 492.4941722416569, 492.3009935053619, 492.1079914948288, 491.91516494299674, 491.72251260996086, 491.53003328233535, 491.3377257726361, 491.145588918672, 490.9536215829572, 490.7618226521319, 490.57019103639846, 490.37872566897374, 490.1874255055503, 489.99628952377236, 489.80531672272366, 489.6145061224286, 489.4238567633632, 489.23336770597905, 489.04303803023816, 488.85286683515847, 488.66285323837, 488.47299637568227, 488.2832954006621, 488.09374948421856, 487.90435781420194, 487.71511959500924, 487.5260340471992, 487.337100407118, 487.1483179265322, 486.9596858722702, 486.77120352587355, 486.58287018325575, 486.3946851543688, 486.2066477628768, 486.01875734583956, 485.8310132534017, 485.64341484848893, 485.4559615065141, 485.26865261508533, 485.081487573726, 484.8944657935984, 484.707586697235, 484.52084971827406, 484.334254301206, 484.14779990111884, 483.96148598345707, 483.7753120237803, 483.58927750753037, 483.40338192980363, 483.2176247951281, 483.0320056172459, 482.8465239189011, 482.6611792316323, 482.4759710955697, 482.2908990592379, 482.10596267936216, 481.92116152067973, 481.73649515575687, 481.55196316480635, 481.3675651355137, 481.1833006628661, 480.99916934898147, 480.81517080294947, 480.63130464066654, 480.44757048468426, 480.2639679640533, 480.0804967141765, 479.897156376663, 479.71394659918565, 479.5308670353426, 479.3479173445216, 479.165097191767, 478.9824062476529, 478.7998441881522, 478.617410694518, 478.435105453162, 478.25292815553365, 478.07087849800917, 477.8889561817776, 477.7071609127304, 477.5254924013563, 477.34395036263544, 477.16253451593667, 476.9812445849196, 476.8000802974353, 476.6190413854325, 476.4381275848635, 476.2573386355939, 476.0766742813142, 475.89613426945283, 475.7157183510909, 475.53542628088104, 475.35525781696555, 475.17521272089795, 474.99529075756516, 474.8154916951136, 474.63581530487534, 474.45626136129533, 474.2768296418625, 474.0975199270405, 473.9183320002012, 473.7392656475599, 473.56032065810996, 473.3814968235624, 473.2027939382833, 473.0242117992353, 472.84575020591956, 472.66740896031877, 472.48918786684095, 472.31108673226754, 472.13310536569765, 471.95524357849877, 471.7775011842549, 471.5998779987181, 471.4223738397597, 471.24498852732404, 471.06772188338175, 470.8905737318853, 470.71354389872516, 470.5366322116877, 470.35983850041094, 470.1831625963474, 470.00660433272054, 469.8301635444885, 469.6538400683048, 469.4776337424813, 469.3015444069514, 469.12557190323616, 468.94971607440766, 468.7739767650568, 468.59835382125874, 468.42284709054167, 468.2474564218551, 468.0721816655387, 467.89702267329216, 467.72197929814644, 467.54705139443416, 467.37223881776237, 467.1975414249838, 467.022959074172, 466.84849162459386, 466.6741389366838, 466.49990087201996, 466.3257772932987, 466.15176806431174, 465.9778730499219, 465.80409211604194, 465.6304251296092, 465.45687195856846, 465.2834324718463, 465.11010653933386, 464.9368940318637, 464.76379482119273, 464.5908087799803, 464.4179357817721, 464.2451757009795, 464.0725284128625, 463.89999379351167, 463.7275717198322, 463.5552620695252, 463.3830647210732, 463.2109795537222, 463.0390064474687, 462.8671452830413, 462.69539594188836, 462.5237583061616, 462.3522322587029, 462.18081768303057, 462.00951446332436, 461.8383224844136, 461.66724163176326, 461.4962717914626, 461.3254128502105, 461.1546646953062, 460.9840272146348, 460.8135002966577, 460.64308383039986, 460.47277770544025, 460.3025818118996, 460.1324960404304, 459.9625202822073, 459.7926544289164, 459.6228983727451, 459.45325200637325, 459.2837152229634, 459.11428791615197, 458.9449699800395, 458.775761309183, 458.60666179858646, 458.4376713436932, 458.2687898403771, 458.10001718493544, 457.93135327408004, 457.7627980049308, 457.5943512750074, 457.42601298222195, 457.25778302487316, 457.089661301638, 456.92164771156547, 456.7537421540703, 456.58594452892567, 456.41825473625823, 456.25067267653975, 456.0831982505834, 455.91583135953647, 455.7485719048751, 455.58141978839893, 455.4143749122245, 455.24743717878135, 455.08060649080454, 454.91388275133284, 454.7472658637004, 454.5807557315342, 454.4143522587482, 454.2480553495382, 454.08186490837824, 453.91578084001566, 453.74980304946723, 453.5839314420135, 453.41816592319697, 453.25250639881517, 453.08695277491887, 452.9215049578076, 452.75616285402486, 452.59092637035656, 452.42579541382435, 452.260769891685, 452.095849711425, 451.93103478075807, 451.7663250076216, 451.6017203001734, 451.4372205667879, 451.2728257160549, 451.10853565677405, 450.9443502979534, 450.78026954880687, 450.61629331874997, 450.4524215173982, 450.288654054564, 450.1249908402542, 449.9614317846667, 449.797976798189, 449.6346257913952, 449.4713786750433, 449.30823536007387, 449.14519575760636, 448.9822597789377, 448.81942733554007, 448.65669833905855, 448.4940727013088, 448.33155033427545, 448.16913115010954, 448.0068150611268, 447.84460197980707, 447.6824918187892, 447.52048449087187, 447.35857990901115, 447.1967779863186, 447.0350786360595, 446.8734817716514, 446.7119873066612, 446.55059515480593, 446.3893052299489, 446.22811744609976, 446.06703171741196, 445.906047958181, 445.7451660828445, 445.5843860059799, 445.42370764230225, 445.2631309066638, 445.1026557140532, 444.9422819795928, 444.7820096185384, 444.6218385462777, 444.46176867832855, 444.3017999303389, 444.1419322180849, 443.98216545746965, 443.8224995645226, 443.6629344553977, 443.5034700463732, 443.34410625385004, 443.18484299435096, 443.02568018451933, 442.8666177411187, 442.7076555810309, 442.5487936212565, 442.3900317789128, 442.23136997123237, 442.07280811556393, 441.9143461293704, 441.7559839302273, 441.59772143582495, 441.43955856396246, 441.28149523255286, 441.12353135961763, 440.9656668632885, 440.8079016618059, 440.65023567351795, 440.49266881688027, 440.3352010104556, 440.17783217291156, 440.0205622230214, 439.8633910796639, 439.70631866182015, 439.5493448885757, 439.39246967911805, 439.2356929527373, 439.07901462882495, 438.922434626873, 438.7659528664737, 438.60956926731916, 438.4532837492014, 438.2970962320097, 438.14100663573254, 437.98501488045554, 437.8291208863612, 437.6733245737286, 437.5176258629339, 437.3620246744468, 437.2065209288341, 437.0511145467563, 436.89580544896785, 436.74059355631783, 436.5854787897481, 436.4304610702928, 436.2755403190796, 436.1207164573273, 435.96598940634715, 435.8113590875411, 435.6568254224015, 435.5023883325122, 435.34804773954625, 435.19380356526653, 435.0396557315256, 434.8856041602646, 434.73164877351354, 434.5777894933906, 434.42402624210166, 434.2703589419406, 434.11678751528797, 433.9633118846119, 433.80993197246676, 433.6566477014931, 433.503458994418, 433.3503657740534, 433.1973679632974, 433.04446548513295, 432.8916582626275, 432.7389462189332, 432.5863292772871, 432.43380736100875, 432.28138039350284, 432.1290482982569, 431.97681099884136, 431.82466841891045, 431.67262048219993, 431.5206671125289, 431.3688082337981, 431.21704376999025, 431.06537364517015, 430.9137977834837, 430.76231610915806, 430.6109285465013, 430.4596350199024, 430.30843545383124, 430.15732977283716, 430.00631790155046, 429.855399764681, 429.70457528701803, 429.55384439343106, 429.403207008868, 429.25266305835663, 429.1022124670031, 428.9518551599926, 428.80159106258816, 428.6514201001323, 428.5013421980444, 428.3513572818227, 428.20146527704287, 428.05166610935754, 427.90195970449827, 427.7523459882721, 427.60282488656463, 427.4533963253371, 427.3040602306282, 427.1548165285527, 427.0056651453026, 426.8566060071451, 426.707639040424, 426.5587641715586, 426.4099813270443, 426.2612904334525, 426.11269141742855, 425.9641842056946, 425.8157687250475, 425.6674449023585, 425.51921266457424, 425.3710719387157, 425.22302265187915, 425.075064731234, 424.9271981040251, 424.77942269757006, 424.6317384392621, 424.4841452565673, 424.33664307702486, 424.1892318282494, 424.04191143792696, 423.894681833818, 423.7475429437559, 423.6004946956471, 423.453537017471, 423.3066698372791, 423.1598930831968, 423.0132066834209, 422.8666105662211, 422.72010465993964, 422.57368889298994, 422.42736319385847, 422.2811274911035, 422.13498171335453, 421.9889257893131, 421.84295964775214, 421.6970832175163, 421.5512964275211, 421.4055992067538, 421.25999148427235, 421.114473189206, 420.9690442507549, 420.82370459818895, 420.6784541608503, 420.53329286815074, 420.3882206495723, 420.24323743466783, 420.0983431530604, 419.9535377344425, 419.8088211085776, 419.66419320529866, 419.51965395450765, 419.3752032861776, 419.23084113035014, 419.0865674171369, 418.94238207671856, 418.798285039345, 418.6542762353361, 418.5103555950797, 418.36652304903276, 418.22277852772254, 418.07912196174306, 417.935553281758, 417.79207241850014, 417.6486793027699, 417.50537386543647, 417.36215603743705, 417.2190257497773, 417.0759829335309, 416.93302751983964, 416.7901594399132, 416.6473786250288, 416.50468500653164, 416.3620785158345, 416.21955908441777, 416.07712664382916, 415.9347811256837, 415.7925224616639, 415.6503505835192, 415.5082654230668, 415.36626691218964, 415.2243549828383, 415.08252956703035, 414.94079059685, 414.79913800444774, 414.6575717220412, 414.5160916819138, 414.3746978164155, 414.23339005796294, 414.0921683390388, 413.9510325921915, 413.80998275003583, 413.6690187452526, 413.5281405105883, 413.3873479788552, 413.24664108293115, 413.1060197557601, 412.9654839303507, 412.82503353977773, 412.684668517181, 412.544388795766, 412.4041943088024, 412.26408498962627, 412.1240607716376, 411.9841215883018, 411.8442673731495, 411.7044980597753, 411.56481358183896, 411.42521387306505, 411.2856988672421, 411.1462684982233, 411.00692269992663, 410.8676614063336, 410.7284845514907, 410.58939206950777, 410.45038389455937, 410.31145996088406, 410.17262020278326, 410.0338645546234, 409.89519295083386, 409.7566053259081, 409.6181016144031, 409.47968175093894, 409.34134567019987, 409.20309330693294, 409.064924595948, 408.9268394721189, 408.78883787038234, 408.6509197257382, 408.5130849732491, 408.37533354804015, 408.23766538530003, 408.10008042027937, 407.96257858829216, 407.8251598247149, 407.6878240649857, 407.5505712446062, 407.4134012991395, 407.2763141642115, 407.13930977551036, 407.00238806878593, 406.86554897985025, 406.7287924445772, 406.5921183989032, 406.4555267788256, 406.31901752040403, 406.18259055976, 406.0462458330755, 405.90998327659554, 405.7738028266255, 405.63770441953284, 405.50168799174526, 405.36575347975287, 405.2299008201064, 405.094129949418, 404.95844080436007, 404.8228333216667, 404.68730743813205, 404.55186309061247, 404.41650021602334, 404.281218751342, 404.14601863360554, 404.0108997999118, 403.87586218741956, 403.74090573334706, 403.60603037497333, 403.47123604963804, 403.33652269473976, 403.2018902477383, 403.06733864615325, 402.9328678275638, 402.7984777296092, 402.66416828998854, 402.5299394464604, 402.39579113684294, 402.2617232990144, 402.1277358709123, 401.9938287905334, 401.8600019959342, 401.72625542523014, 401.59258901659587, 401.4590027082656, 401.32549643853247, 401.19207014574823, 401.0587237683244, 400.9254572447305, 400.79227051349574, 400.6591635132069, 400.526136182511, 400.39318846011236, 400.26032028477437, 400.1275315953188, 399.99482233062616, 399.8621924296347, 399.7296418313414, 399.59717047480143, 399.46477829912766, 399.33246524349147, 399.20023124712225, 399.06807624930696, 398.9360001893903, 398.80400300677604, 398.67208464092386, 398.5402450313523, 398.4084841176373, 398.2768018394123, 398.14519813636775, 398.0136729482521, 397.88222621487085, 397.75085787608697, 397.61956787182, 397.4883561420473, 397.35722262680326, 397.226167266179, 397.0951900003227, 396.9642907694391, 396.8334695137905, 396.7027261736948, 396.57206068952735, 396.44147300172057, 396.3109630507618, 396.1805307771968, 396.05017612162663, 395.9198990247081, 395.78969942715605, 395.6595772697398, 395.52953249328624, 395.3995650386771, 395.269674846851, 395.1398618588022, 395.01012601558085, 394.88046725829275, 394.75088552810007, 394.6213807662198, 394.4919529139252, 394.36260191254513, 394.23332770346366, 394.10413022812, 393.97500942800974, 393.845965244683, 393.71699761974526, 393.588106494857, 393.45929181173466, 393.33055351214875, 393.2018915379255, 393.07330583094534, 392.9447963331445, 392.81636298651296, 392.6880057330966, 392.55972451499497, 392.4315192743629, 392.30338995340963, 392.1753364943987, 392.04735883964804, 391.91945693153014, 391.7916307124721, 391.6638801249546, 391.53620511151325, 391.40860561473676, 391.2810815772687, 391.153632941807, 391.02625965110246, 390.89896164796016, 390.7717388752397, 390.6445912758534, 390.5175187927681, 390.3905213690033, 390.26359894763317, 390.1367514717845, 390.0099788846385, 389.88328112942827, 389.7566581494424, 389.63010988802023, 389.5036362885562, 389.37723729449715, 389.25091284934285, 389.12466289664707, 388.99848738001504, 388.8723862431061, 388.74635942963215, 388.62040688335713, 388.4945285480985, 388.36872436772677, 388.24299428616365, 388.11733824738485, 387.9917561954176, 387.8662480743419, 387.7408138282898, 387.6154534014464, 387.49016673804846, 387.3649537823851, 387.23981447879714, 387.1147487716782, 386.98975660547325, 386.8648379246796, 386.73999267384664, 386.61522079757515, 386.49052224051746, 386.36589694737825, 386.2413448629137, 386.1168659319313, 385.9924600992905, 385.86812730990175, 385.74386750872696, 385.6196806407802, 385.49556665112544, 385.3715254848792, 385.24755708720863, 385.1236614033319, 384.9998383785185, 384.87608795808904, 384.7524100874145, 384.6288047119173, 384.5052717770705, 384.38181122839836, 384.25842301147486, 384.1351070719258, 384.0118633554268, 383.8886918077044, 383.7655923745356, 383.6425650017475, 383.5196096352181, 383.39672622087573, 383.27391470469826, 383.1511750327148, 383.0285071510037]\n",
            "0.5017082850790884\n",
            "[426079.1595574408, 193913.91074105687, 88375.58241312436, 40398.90155305248, 18588.437165745687, 8672.571303711598, 4163.763681075098, 2112.930427892905, 1179.4857943218078, 754.0290744094763, 559.5389736203855, 470.086062767805, 428.4237731018073, 408.52722119191156, 398.5642468055699, 393.15444832323493, 389.8503207817594, 387.5376613789929, 385.70842841677836, 384.1301969544969, 382.69589803208936, 381.35551065419367, 380.08500768553455, 378.87223661885446, 377.7104986583937, 376.595627394414, 375.5246584231676, 374.49522228228085, 373.50526629264573, 372.55292601317865, 371.63646480130734, 370.75424442365835, 369.90470986826, 369.08638069531463, 368.2978454393867, 367.537757474241, 366.80483161469124, 366.0978411223286, 365.4156149605761, 364.75703522583143, 364.1210347185589, 363.50659463518934, 362.91274236953035, 362.3385494160774, 361.7831293694033, 361.2456360147218, 360.7252615052439, 360.22123462227614, 359.73281911426074, 359.25931211115056, 358.80004261069644, 358.35437003337785, 357.92168284286277, 357.5013972290267, 357.0929558506885, 356.6958266353617, 356.3095016334286, 355.9334959242754, 355.56734657202816, 355.210611628642, 354.86286918219633, 354.5237164483455, 354.1927689029685, 353.8696594541493, 353.55403765170485, 353.24556893255647, 352.9439339003216, 352.648827637573, 352.35995904928325, 352.0770502360417, 351.799835895694, 351.52806275211407, 351.2614890098784, 350.9998838336698, 350.74302685128737, 350.49070767919244, 350.2427254695696, 349.9988884779267, 349.75901365030177, 349.5229262291888, 349.2904593773328, 349.06145381858494, 348.8357574950422, 348.613225239735, 348.3937184641574, 348.17710485996565, 347.9632581142043, 347.7520576374444, 347.54338830425087, 347.337140205418, 347.13320841143957, 346.9314927467053, 346.7318975739361, 346.5343315883945, 346.3387076214264, 346.14494245291235, 345.9529566322217, 345.7626743072874, 345.5740230614307, 345.3869337575848, 345.20134038958355, 345.0171799401919, 344.834392245576, 344.6529198659171, 344.4727079618935, 344.29370417676427, 344.11585852379795, 343.9391232788081, 343.76345287756044, 343.58880381783206, 343.41513456591383, 343.24240546734944, 343.0705786617245, 342.8996180013185, 342.72948897344577, 342.56015862631847, 342.3915954982699, 342.2237695501891, 342.05665210101796, 341.89021576617347, 341.7244343987631, 341.5592830334644, 341.3947378329505, 341.2307760367449, 341.06737591239454, 340.90451670885847, 340.74217861200896, 340.58034270215006, 340.41899091346505, 340.25810599529916, 340.09767147520034, 339.93767162363605, 339.77809142030844, 339.6189165219986, 339.46013323186725, 339.30172847014967, 339.14368974617736, 338.9860051316699, 338.82866323523695, 338.67165317803693, 338.5149645705395, 338.3585874903418, 338.20251246098985, 338.04673043176183, 337.8912327583663, 337.7360111845174, 337.58105782434365, 337.4263651455969, 337.27192595362, 337.1177333760432, 336.96378084817405, 336.81006209904984, 336.6565711381222, 336.5033022425458, 336.35024994504374, 336.19740902232195, 336.0447744840107, 335.8923415621062, 335.7401057008916, 335.5880625473148, 335.43620794180265, 335.28453790949186, 335.13304865185677, 334.98173653871845, 334.83059810061377, 334.679630021513, 334.5288291318652, 334.3781924019615, 334.2277169355965, 334.07739996402034, 333.92723884016146, 333.77723103311456, 333.6273741228764, 333.4776657953209, 333.3281038374027, 333.1786861325772, 333.0294106564288, 332.88027547249766, 332.73127872829525, 332.58241865150046, 332.43369354632887, 332.2851017900655, 332.13664182975634, 331.98831217904876, 331.84011141517493, 331.6920381760735, 331.5440911576402, 331.3962691111038, 331.2485708405217, 331.10099520038773, 330.9535410933492, 330.8062074680277, 330.658993316938, 330.511897674502, 330.36491961515236, 330.218058251522, 330.0713127327162, 329.9246822426625, 329.77816599853577, 329.6317632492542, 329.48547327404486, 329.3392953810719, 329.1932289061296, 329.0472732113926, 328.9014276842242, 328.75569173603753, 328.61006480120955, 328.46454633604316, 328.31913581777746, 328.1738327436417, 328.0286366299532, 327.8835470112558, 327.7385634394964, 327.5936854832411, 327.4489127269245, 327.30424477013406, 327.1596812269277, 327.0152217251807, 326.8708659059632, 326.72661342294623, 326.58246394183334, 326.43841713981993, 326.294472705075, 326.1506303362481, 326.0068897419979, 325.86325064054154, 325.71971275922596, 325.57627583411687, 325.4329396096081, 325.28970383804705, 325.14656827937824, 325.00353270080296, 324.8605968764532, 324.71776058708184, 324.57502361976594, 324.4323857676241, 324.28984682954604, 324.14740660993476, 324.0050649184603, 323.86282156982475, 323.7206763835379, 323.578629183703, 323.4366797988121, 323.2948280615512, 323.15307380861304, 323.01141688052047, 322.86985712145474, 322.7283943790955, 322.58702850446406, 322.44575935177664, 322.30458677830285, 322.16351064423105, 322.02253081253997, 321.8816471488754, 321.74085952143326, 321.60016780084794, 321.4595718600849, 321.31907157433926, 321.17866682093774, 321.0383574792462, 320.8981434305808, 320.7580245581231, 320.61800074683924, 320.47807188340266, 320.3382378561204, 320.19849855486274, 320.05885387099596, 319.91930369731784, 319.77984792799714, 319.64048645851415, 319.5012191856059, 319.36204600721175, 319.2229668224234, 319.0839815314359, 318.94509003550087, 318.80629223688305, 318.66758803881737, 318.5289773454686, 318.3904600618932, 318.25203609400205, 318.1137053485253, 317.9754677329796, 317.83732315563475, 317.6992715254844, 317.56131275221577, 317.4234467461825, 317.2856734183778, 317.1479926804088, 317.0104044444726, 316.87290862333293, 316.73550513029784, 316.59819387919896, 316.46097478437105, 316.32384776063276, 316.18681272326825, 316.0498695880095, 315.91301827102006, 315.77625868887816, 315.63959075856184, 315.5030143974349, 315.366529523232, 315.23013605404566, 315.09383390831385, 314.95762300480754, 314.8215032626193, 314.68547460115155, 314.5495369401072, 314.41369019947865, 314.2779342995379, 314.1422691608281, 314.00669470415454, 313.8712108505757, 313.7358175213959, 313.60051463815734, 313.46530212263247, 313.3301798968175, 313.19514788292565, 313.06020600338024, 312.92535418080905, 312.79059233803827, 312.65592039808735, 312.52133828416316, 312.38684591965506, 312.25244322813006, 312.1181301333283, 311.98390655915847, 311.84977242969336, 311.7157276691664, 311.5817722019674, 311.44790595263856, 311.31412884587144, 311.18044080650367, 311.04684175951473, 310.91333163002435, 310.77991034328835, 310.6465778246963, 310.51333399976846, 310.3801787941542, 310.2471121336281, 310.11413394408874, 309.9812441515558, 309.8484426821683, 309.7157294621822, 309.5831044179683, 309.4505674760111, 309.3181185629065, 309.1857576053595, 309.05348453018365, 308.9212992642987, 308.7892017347293, 308.6571918686039, 308.5252695931522, 308.3934348357056, 308.2616875236942, 308.13002758464677, 307.9984549461888, 307.86696953604206, 307.73557128202276, 307.6042601120416, 307.47303595410125, 307.34189873629697, 307.21084838681463, 307.07988483393024, 306.94900800600936, 306.8182178315057, 306.6875142389608, 306.5568971570032, 306.4263665143475, 306.29592223979415, 306.1655642622284, 306.03529251061974, 305.90510691402136, 305.77500740156955, 305.64499390248324, 305.5150663460634, 305.38522466169206, 305.2554687788329, 305.12579862702967, 304.9962141359063, 304.8667152351663, 304.73730185459254, 304.60797392404635, 304.4787313734676, 304.34957413287447, 304.22050213236207, 304.0915153021034, 303.96261357234806, 303.8337968734224, 303.7050651357288, 303.57641828974585, 303.4478562660277, 303.31937899520375, 303.19098640797876, 303.06267843513206, 302.93445500751756, 302.8063160560635, 302.67826151177235, 302.55029130571995, 302.4224053690561, 302.2946036330036, 302.16688602885876, 302.03925248799055, 301.9117029418405, 301.784237321923, 301.65685555982446, 301.5295575872035, 301.40234333579053, 301.275212737388, 301.1481657238695, 301.02120222718037, 300.89432217933677, 300.7675255124264, 300.6408121586074, 300.51418205010896, 300.3876351192307, 300.2611712983424, 300.1347905198846, 300.0084927163676, 299.88227782037194, 299.75614576454774, 299.63009648161506, 299.5041299043633, 299.3782459656515, 299.252444598408, 299.12672573563003, 299.0010893103843, 298.875535255806, 298.75006350509966, 298.6246739915379, 298.49936664846246, 298.37414140928314, 298.2489982074782, 298.1239369765942, 297.9989576502458, 297.8740601621155, 297.74924444595365, 297.6245104355789, 297.499858064877, 297.37528726780164, 297.25079797837355, 297.1263901306814, 297.0020636588807, 296.8778184971941, 296.75365457991165, 296.6295718413902, 296.5055702160533, 296.38164963839154, 296.25781004296186, 296.1340513643881, 296.0103735373603, 295.88677649663526, 295.76326017703576, 295.6398245134506, 295.5164694408352, 295.3931948942107, 295.27000080866407, 295.1468871193485, 295.0238537614824, 294.9009006703502, 294.778027781302, 294.6552350297529, 294.5325223511838, 294.40988968114067, 294.287336955235, 294.1648641091431, 294.04247107860635, 293.92015779943137, 293.79792420748913, 293.6757702387162, 293.55369582911294, 293.431700914745, 293.3097854317422, 293.18794931629907, 293.0661925046741, 292.9445149331907, 292.8229165382359, 292.7013972562611, 292.5799570237818, 292.4585957773773, 292.3373134536909, 292.2161099894297, 292.0949853213644, 291.9739393863294, 291.85297212122265, 291.7320834630056, 291.6112733487031, 291.4905417154032, 291.3698885002575, 291.24931364048024, 291.1288170733492, 291.008398736205, 290.88805856645104, 290.76779650155385, 290.6476124790424, 290.5275064365086, 290.4074783116069, 290.28752804205425, 290.16765556562996, 290.0478608201758, 289.92814374359597, 289.80850427385667, 289.6889423489864, 289.56945790707573, 289.4500508862769, 289.3307212248047, 289.211468860935, 289.09229373300604, 288.97319577941755, 288.85417493863076, 288.7352311491683, 288.61636434961474, 288.49757447861566, 288.37886147487825, 288.26022527717043, 288.1416658243217, 288.0231830552226, 287.90477690882454, 287.78644732413994, 287.66819424024203, 287.55001759626487, 287.4319173314032, 287.31389338491255, 287.1959456961087, 287.0780742043683, 286.9602788491281, 286.8425595698853, 286.72491630619743, 286.6073489976822, 286.4898575840173, 286.3724420049406, 286.25510220025006, 286.13783810980317, 286.0206496735177, 285.9035368313708, 285.7864995233996, 285.66953768970063, 285.55265127043, 285.43584020580346, 285.31910443609587, 285.2024439016417, 285.0858585428344, 284.9693483001269, 284.8529131140311, 284.7365529251176, 284.62026767401665, 284.5040573014168, 284.38792174806576, 284.2718609547699, 284.15587486239406, 284.0399634118621, 283.9241265441561, 283.80836420031665, 283.6926763214429, 283.5770628486922, 283.46152372328015, 283.3460588864806, 283.2306682796254, 283.1153518441047, 283.00010952136614, 282.88494125291584, 282.76984698031737, 282.6548266451923, 282.5398801892198, 282.4250075541364, 282.31020868173675, 282.19548351387255, 282.08083199245294, 281.9662540594447, 281.85174965687156, 281.73731872681475, 281.6229612114123, 281.5086770528598, 281.39446619340936, 281.28032857537016, 281.1662641411085, 281.05227283304725, 280.938354593666, 280.82450936550117, 280.7107370911455, 280.59703771324865, 280.4834111745163, 280.3698574177107, 280.25637638565075, 280.14296802121106, 280.02963226732277, 279.9163690669731, 279.8031783632052, 279.6900600991183, 279.57701421786754, 279.46404066266405, 279.3511393767742, 279.238310303521, 279.12555338628226, 279.01286856849174, 278.9002557936388, 278.787715005268, 278.67524614697965, 278.56284916242885, 278.4505239953265, 278.33827058943814, 278.2260888885852, 278.1139788366434, 278.0019403775437, 277.8899734552721, 277.77807801386933, 277.66625399743117, 277.5545013501076, 277.44282001610384, 277.33120993967924, 277.21967106514813, 277.10820333687883, 276.99680669929444, 276.8854810968721, 276.77422647414363, 276.66304277569446, 276.55192994616465, 276.4408879302482, 276.3299166726931, 276.2190161183011, 276.1081862119283, 275.997426898484, 275.88673812293183, 275.77611983028874, 275.6655719656254, 275.5550944740663, 275.444687300789, 275.3343503910246, 275.2240836900578, 275.1138871432265, 275.0037606959216, 274.89370429358763, 274.78371788172177, 274.6738014058747, 274.5639548116497, 274.4541780447031, 274.34447105074435, 274.2348337755352, 274.12526616489066, 274.01576816467815, 273.9063397208175, 273.79698077928157, 273.6876912860953, 273.5784711873362, 273.46932042913426, 273.3602389576716, 273.2512267191826, 273.1422836599539, 273.03340972632424, 272.9246048646842, 272.81586902147683, 272.7072021431966, 272.59860417639004, 272.4900750676555, 272.3816147636432, 272.2732232110547, 272.1649003566436, 272.0566461472148, 271.9484605296246, 271.84034345078106, 271.7322948576434, 271.6243146972222, 271.5164029165792, 271.4085594628276, 271.3007842831314, 271.193077324706, 271.08543853481734, 270.9778678607831, 270.8703652499708, 270.7629306497998, 270.65556400773954, 270.54826527131064, 270.44103438808395, 270.33387130568116, 270.22677597177443, 270.1197483340865, 270.0127883403904, 269.90589593850945, 269.7990710763174, 269.6923137017381, 269.5856237627457, 269.4790012073645, 269.3724459836687, 269.2659580397826, 269.15953732388044, 269.05318378418605, 268.9468973689737, 268.84067802656676, 268.73452570533885, 268.62844035371273, 268.5224219201611, 268.416470353206, 268.3105856014192, 268.20476761342144, 268.09901633788326, 267.99333172352414, 267.88771371911304, 267.78216227346803, 267.67667733545625, 267.57125885399375, 267.465906778046, 267.36062105662705, 267.25540163879987, 267.15024847367664, 267.04516151041764, 266.94014069823254, 266.8351859863792, 266.7302973241642, 266.62547466094287, 266.52071794611885, 266.4160271291441, 266.3114021595192, 266.2068429867929, 266.1023495605621, 265.9979218304723, 265.89355974621657, 265.78926325753656, 265.68503231422176, 265.58086686610955, 265.47676686308546, 265.3727322550826, 265.26876299208215, 265.1648590241128, 265.0610203012511, 264.9572467736212, 264.85353839139486, 264.74989510479134, 264.64631686407733, 264.5428036195668, 264.4393553216216, 264.3359719206503, 264.23265336710904, 264.1293996115009, 264.02621060437656, 263.9230862963331, 263.8200266380153, 263.71703158011456, 263.6141010733693, 263.5112350685646, 263.40843351653274, 263.3056963681523, 263.203023574349, 263.1004150860948, 262.9978708544085, 262.8953908303555, 262.79297496504745, 262.69062320964247, 262.58833551534525, 262.48611183340654, 262.3839521151234, 262.2818563118394, 262.17982437494396, 262.0778562558726, 261.97595190610696, 261.8741112771748, 261.7723343206495, 261.6706209881508, 261.56897123134377, 261.46738500193965, 261.365862251695, 261.26440293241257, 261.1630069959404, 261.06167439417203, 260.9604050790468, 260.85919900254925, 260.7580561167094, 260.6569763736026, 260.55595972534974, 260.4550061241167, 260.35411552211457, 260.2532878715997, 260.15252312487337, 260.05182123428216, 259.95118215221737, 259.8506058311152, 259.7500922234572, 259.6496412817693, 259.54925295862216, 259.4489272066314, 259.34866397845747, 259.2484632268049, 259.1483249044233, 259.0482489641065, 258.94823535869307, 258.8482840410656, 258.74839496415143, 258.64856808092196, 258.548803344393, 258.4491007076244, 258.3494601237204, 258.24988154582917, 258.1503649271429, 258.0509102208982, 257.9515173803747, 257.85218635889714, 257.75291710983305, 257.65370958659446, 257.55456374263684, 257.4554795314595, 257.35645690660516, 257.2574958216604, 257.15859623025534, 257.0597580860632, 256.9609813428012, 256.86226595422943, 256.763611874152, 256.66501905641553, 256.56648745491066, 256.4680170235703, 256.36960771637143, 256.27125948733374, 256.17297229051974, 256.0747460800353, 255.976580810029, 255.8784764346925, 255.78043290826014, 255.6824501850091, 255.58452821925948, 255.4866669653738, 255.3888663777574, 255.29112641085823, 255.19344701916677, 255.0958281572159, 254.998269779581, 254.90077184088, 254.80333429577297, 254.70595709896247, 254.6086402051931, 254.51138356925205, 254.41418714596819, 254.31705089021287, 254.21997475689923, 254.12295870098274, 254.02600267746053, 253.92910664137185, 253.83227054779763, 253.7354943518609, 253.63877800872623, 253.54212147359996, 253.4455247017301, 253.3489876484065, 253.25251026896015, 253.15609251876404, 253.0597343532324, 252.96343572782092, 252.86719659802665, 252.77101691938822, 252.67489664748513, 252.5788357379385, 252.48283414641062, 252.38689182860463, 252.29100874026508, 252.19518483717752, 252.09942007516847, 252.0037144101053, 251.9080677978965, 251.81248019449134, 251.71695155587992, 251.6214818380932, 251.52607099720254, 251.43071898932044, 251.3354257705998, 251.2401912972342, 251.14501552545755, 251.0498984115444, 250.95483991180998, 250.85983998260957, 250.76489858033887, 250.6700156614342, 250.5751911823717, 250.48042509966797, 250.38571736987993, 250.2910679496043, 250.196476795478, 250.10194386417825, 250.00746911242192, 249.91305249696578, 249.818693974607, 249.72439350218204, 249.63015103656738, 249.53596653467943, 249.44183995347407, 249.347771249947, 249.25376038113345, 249.15980730410837, 249.0659119759861, 248.97207435392048, 248.87829439510497, 248.7845720567722, 248.69090729619433, 248.5973000706827, 248.50375033758812, 248.41025805430036, 248.31682317824857, 248.22344566690094, 248.13012547776466, 248.0368625683862, 247.94365689635092, 247.85050841928296, 247.7574170948457, 247.66438288074116, 247.57140573471014, 247.47848561453247, 247.38562247802648, 247.2928162830492, 247.20006698749646, 247.1073745493026, 247.01473892644054, 246.9221600769217, 246.82963795879584, 246.7371725301515, 246.64476374911513, 246.55241157385205, 246.46011596256534, 246.36787687349667, 246.27569426492602, 246.1835680951711, 246.09149832258808, 245.99948490557117, 245.9075278025526, 245.81562697200255, 245.72378237242896, 245.6319939623782, 245.540261700434, 245.44858554521815, 245.3569654553901, 245.26540138964734, 245.17389330672458, 245.08244116539447, 244.9910449244672, 244.8997045427906, 244.80841997924995, 244.71719119276804, 244.62601814230499, 244.53490078685851, 244.44383908546345, 244.3528329971923, 244.26188248115432, 244.1709874964964, 244.08014800240267, 243.98936395809392, 243.89863532282854, 243.80796205590158, 243.7173441166456, 243.62678146442957, 243.53627405865996, 243.44582185877948, 243.35542482426845, 243.2650829146433, 243.1747960894576, 243.08456430830168, 242.99438753080233, 242.90426571662312, 242.81419882546416, 242.7241868170623, 242.63422965119074, 242.5443272876592, 242.4544796863135, 242.3646868070366, 242.2749486097473, 242.18526505440073, 242.09563610098834, 242.00606170953802, 241.91654184011355, 241.82707645281496, 241.73766550777844, 241.6483089651763, 241.55900678521678, 241.46975892814416, 241.3805653542385, 241.29142602381614, 241.202340897229, 241.11330993486467, 241.024333097147, 240.93541034453526, 240.8465416375244, 240.75772693664544, 240.66896620246428, 240.5802593955832, 240.49160647663953, 240.40300740630627, 240.3144621452919, 240.22597065434022, 240.13753289423062, 240.04914882577765, 239.96081840983118, 239.87254160727656, 239.78431837903406, 239.69614868605936, 239.6080324893431, 239.5199697499114, 239.4319604288249, 239.3440044871799, 239.25610188610722, 239.16825258677267, 239.08045655037725, 238.99271373815665, 238.9050241113813, 238.81738763135678, 238.72980425942305, 238.64227395695497]\n",
            "[184434.15173757923, 86392.97883265199, 41105.78654283298, 20034.97501579885, 10130.679132691852, 5408.79010235592, 3114.180731732362, 1970.9968140916503, 1383.5196099252994, 1070.3709712679072, 896.5353481442901, 795.8617069292595, 735.0695391249004, 696.8728564100509, 671.9634851085677, 655.1349077198905, 643.3644162611477, 634.8365995426655, 628.4290886629924, 623.4315119403245, 619.3859669542795, 615.9931500620155, 613.0553333058721, 610.4407960910032, 608.0611716056255, 605.8567891031248, 603.7870793061213, 601.8242415361602, 599.9490389936265, 598.1479953679553, 596.411520201968, 594.7326526118559, 593.1062180109603, 591.5282612926414, 589.9956653593867, 588.5058940523926, 587.0568186458507, 585.6466005123857, 584.2736115682533, 582.9363801434241, 581.6335539732056, 580.3638747290299, 579.1261603342455, 577.9192925395156, 576.7422080585029, 575.5938921199744, 574.4733736660211, 573.3797216773482, 572.3120422756238, 571.2694763666068, 570.2511976643032, 569.2564109879354, 568.2843507581915, 567.3342796425947, 566.4054873155923, 565.4972893095924, 564.609025940345, 563.7400612949396, 562.8897822739667, 562.0575976816468, 561.2429373592494, 560.4452513581809, 559.6640091498567, 558.8986988699669, 558.148826595125, 557.4139156501451, 556.6935059443803, 555.9871533357161, 555.2944290209172, 554.6149189511216, 553.9482232713582, 553.293955783019, 552.6517434282904, 552.021225795579, 551.4020546450346, 550.7938934533042, 550.1964169766933, 549.6093108319455, 549.0322710938992, 548.4650039092949, 547.9072251260543, 547.3586599373746, 546.8190425400111, 546.288115806152, 545.7656309683119, 545.2513473166958, 544.7450319085117, 544.2464592887296, 543.7554112218124, 543.2716764339522, 542.7950503653832, 542.3253349323452, 541.8623382982997, 541.405874654015, 540.9557640061507, 540.5118319739937, 540.0739095940064, 539.6418331318667, 539.2154439016946, 538.7945880921632, 538.3791165992204, 537.9688848651487, 537.5637527237005, 537.1635842510668, 536.7682476224421, 536.377614973954, 535.9915622697475, 535.6099691740098, 535.2327189277397, 534.8596982300722, 534.4907971239743, 534.1259088861345, 533.7649299208834, 533.4077596579845, 533.0543004541374, 532.7044574980506, 532.3581387189404, 532.0152546983242, 531.6757185849723, 531.3394460129044, 531.0063550222995, 530.676365983217, 530.3494015220124, 530.0253864503444, 529.7042476966776, 529.3859142401776, 529.0703170469104, 528.7573890082607, 528.4470648814751, 528.1392812322605, 527.8339763793493, 527.5310903409655, 527.2305647831125, 526.9323429696195, 526.6363697138769, 526.3425913321992, 526.0509555987552, 525.7614117020041, 525.4739102025854, 525.1884029926074, 524.9048432562797, 524.6231854318477, 524.3433851747732, 524.0653993221194, 523.7891858580997, 523.5147038807398, 523.2419135696239, 522.9707761546722, 522.7012538859295, 522.4333100043109, 522.1669087132858, 521.9020151514576, 521.6385953660089, 521.3766162869862, 521.1160457023888, 520.8568522340369, 520.5990053141915, 520.3424751628997, 520.0872327660395, 519.8332498540419, 519.5804988812629, 519.3289530059894, 519.0785860710536, 518.8293725850318, 518.5812877040174, 518.3343072139369, 518.0884075134026, 517.8435655970723, 517.5997590395111, 517.3569659795262, 517.1151651049685, 516.8743356379842, 516.6344573206951, 516.3955104013024, 516.1574756205928, 515.9203341988392, 515.6840678230818, 515.4486586347731, 515.2140892177816, 514.9803425867401, 514.7474021757236, 514.5152518272548, 514.28387578162, 514.0532586664846, 513.8233854868076, 513.5942416150352, 513.3658127815729, 513.1380850655207, 512.9110448856715, 512.684678991754, 512.4589744559239, 512.2339186644862, 512.0094993098483, 511.78570438269236, 511.5625221643632, 511.33994121946523, 511.1179503886582, 510.8965387816508, 510.6756957703855, 510.45541098240403, 510.23567429439373, 510.01647582590886, 509.7978059332569, 509.579655203551, 509.36201444892055, 509.1448747008749, 508.92822720481774, 508.71206341470725, 508.4963749878549, 508.281153779864, 508.0663918397006, 507.8520814048923, 507.6382148968554, 507.42478491634114, 507.2117842390027, 506.99920581107784, 506.7870427451805, 506.5752883162048, 506.3639359573346, 506.1529792561521, 505.942411950853, 505.73222792655173, 505.5224212116876, 505.3129859745199, 505.1039165197115, 504.8952072850034, 504.68685283796907, 504.4788478728553, 504.2711872075003, 504.06386578033283, 503.8568786474431, 503.65022097973207, 503.44388806012824, 503.23787528087774, 503.03217814090124, 502.82679224321606, 502.62171329242545, 502.4169370922671, 502.2124595432265, 502.0082766402062, 501.80438447025654, 501.6007792103597, 501.39745712527065, 501.19441456541074, 500.99164796481506, 500.78915383912624, 500.5869287836437, 500.38496947141647, 500.18327265138447, 499.9818351465663, 499.7806538522894, 499.5797257344661, 499.3790478279105, 499.17861723469633, 498.97843112255623, 498.77848672331834, 498.57878133138337, 498.37931230223563, 498.18007705099353, 497.98107305099455, 497.78229783241085, 497.58374898090534, 497.3854241363146, 497.18732099136514, 496.98943729042367, 496.79177082827255, 496.59431944891907, 496.3970810444321, 496.20005355380533, 496.0032349618506, 495.8066232981151, 495.61021663582784, 495.41401309086706, 495.2180108207582, 495.0222080236902, 494.82660293755845, 494.6311938390309, 494.435979042636, 494.24095689987087, 494.04612579833315, 493.85148416087395, 493.6570304447669, 493.4627631409031, 493.26868077299935, 493.0747818968297, 492.8810650994735, 492.687528998581, 492.4941722416569, 492.3009935053619, 492.1079914948288, 491.91516494299674, 491.72251260996086, 491.53003328233535, 491.3377257726361, 491.145588918672, 490.9536215829572, 490.7618226521319, 490.57019103639846, 490.37872566897374, 490.1874255055503, 489.99628952377236, 489.80531672272366, 489.6145061224286, 489.4238567633632, 489.23336770597905, 489.04303803023816, 488.85286683515847, 488.66285323837, 488.47299637568227, 488.2832954006621, 488.09374948421856, 487.90435781420194, 487.71511959500924, 487.5260340471992, 487.337100407118, 487.1483179265322, 486.9596858722702, 486.77120352587355, 486.58287018325575, 486.3946851543688, 486.2066477628768, 486.01875734583956, 485.8310132534017, 485.64341484848893, 485.4559615065141, 485.26865261508533, 485.081487573726, 484.8944657935984, 484.707586697235, 484.52084971827406, 484.334254301206, 484.14779990111884, 483.96148598345707, 483.7753120237803, 483.58927750753037, 483.40338192980363, 483.2176247951281, 483.0320056172459, 482.8465239189011, 482.6611792316323, 482.4759710955697, 482.2908990592379, 482.10596267936216, 481.92116152067973, 481.73649515575687, 481.55196316480635, 481.3675651355137, 481.1833006628661, 480.99916934898147, 480.81517080294947, 480.63130464066654, 480.44757048468426, 480.2639679640533, 480.0804967141765, 479.897156376663, 479.71394659918565, 479.5308670353426, 479.3479173445216, 479.165097191767, 478.9824062476529, 478.7998441881522, 478.617410694518, 478.435105453162, 478.25292815553365, 478.07087849800917, 477.8889561817776, 477.7071609127304, 477.5254924013563, 477.34395036263544, 477.16253451593667, 476.9812445849196, 476.8000802974353, 476.6190413854325, 476.4381275848635, 476.2573386355939, 476.0766742813142, 475.89613426945283, 475.7157183510909, 475.53542628088104, 475.35525781696555, 475.17521272089795, 474.99529075756516, 474.8154916951136, 474.63581530487534, 474.45626136129533, 474.2768296418625, 474.0975199270405, 473.9183320002012, 473.7392656475599, 473.56032065810996, 473.3814968235624, 473.2027939382833, 473.0242117992353, 472.84575020591956, 472.66740896031877, 472.48918786684095, 472.31108673226754, 472.13310536569765, 471.95524357849877, 471.7775011842549, 471.5998779987181, 471.4223738397597, 471.24498852732404, 471.06772188338175, 470.8905737318853, 470.71354389872516, 470.5366322116877, 470.35983850041094, 470.1831625963474, 470.00660433272054, 469.8301635444885, 469.6538400683048, 469.4776337424813, 469.3015444069514, 469.12557190323616, 468.94971607440766, 468.7739767650568, 468.59835382125874, 468.42284709054167, 468.2474564218551, 468.0721816655387, 467.89702267329216, 467.72197929814644, 467.54705139443416, 467.37223881776237, 467.1975414249838, 467.022959074172, 466.84849162459386, 466.6741389366838, 466.49990087201996, 466.3257772932987, 466.15176806431174, 465.9778730499219, 465.80409211604194, 465.6304251296092, 465.45687195856846, 465.2834324718463, 465.11010653933386, 464.9368940318637, 464.76379482119273, 464.5908087799803, 464.4179357817721, 464.2451757009795, 464.0725284128625, 463.89999379351167, 463.7275717198322, 463.5552620695252, 463.3830647210732, 463.2109795537222, 463.0390064474687, 462.8671452830413, 462.69539594188836, 462.5237583061616, 462.3522322587029, 462.18081768303057, 462.00951446332436, 461.8383224844136, 461.66724163176326, 461.4962717914626, 461.3254128502105, 461.1546646953062, 460.9840272146348, 460.8135002966577, 460.64308383039986, 460.47277770544025, 460.3025818118996, 460.1324960404304, 459.9625202822073, 459.7926544289164, 459.6228983727451, 459.45325200637325, 459.2837152229634, 459.11428791615197, 458.9449699800395, 458.775761309183, 458.60666179858646, 458.4376713436932, 458.2687898403771, 458.10001718493544, 457.93135327408004, 457.7627980049308, 457.5943512750074, 457.42601298222195, 457.25778302487316, 457.089661301638, 456.92164771156547, 456.7537421540703, 456.58594452892567, 456.41825473625823, 456.25067267653975, 456.0831982505834, 455.91583135953647, 455.7485719048751, 455.58141978839893, 455.4143749122245, 455.24743717878135, 455.08060649080454, 454.91388275133284, 454.7472658637004, 454.5807557315342, 454.4143522587482, 454.2480553495382, 454.08186490837824, 453.91578084001566, 453.74980304946723, 453.5839314420135, 453.41816592319697, 453.25250639881517, 453.08695277491887, 452.9215049578076, 452.75616285402486, 452.59092637035656, 452.42579541382435, 452.260769891685, 452.095849711425, 451.93103478075807, 451.7663250076216, 451.6017203001734, 451.4372205667879, 451.2728257160549, 451.10853565677405, 450.9443502979534, 450.78026954880687, 450.61629331874997, 450.4524215173982, 450.288654054564, 450.1249908402542, 449.9614317846667, 449.797976798189, 449.6346257913952, 449.4713786750433, 449.30823536007387, 449.14519575760636, 448.9822597789377, 448.81942733554007, 448.65669833905855, 448.4940727013088, 448.33155033427545, 448.16913115010954, 448.0068150611268, 447.84460197980707, 447.6824918187892, 447.52048449087187, 447.35857990901115, 447.1967779863186, 447.0350786360595, 446.8734817716514, 446.7119873066612, 446.55059515480593, 446.3893052299489, 446.22811744609976, 446.06703171741196, 445.906047958181, 445.7451660828445, 445.5843860059799, 445.42370764230225, 445.2631309066638, 445.1026557140532, 444.9422819795928, 444.7820096185384, 444.6218385462777, 444.46176867832855, 444.3017999303389, 444.1419322180849, 443.98216545746965, 443.8224995645226, 443.6629344553977, 443.5034700463732, 443.34410625385004, 443.18484299435096, 443.02568018451933, 442.8666177411187, 442.7076555810309, 442.5487936212565, 442.3900317789128, 442.23136997123237, 442.07280811556393, 441.9143461293704, 441.7559839302273, 441.59772143582495, 441.43955856396246, 441.28149523255286, 441.12353135961763, 440.9656668632885, 440.8079016618059, 440.65023567351795, 440.49266881688027, 440.3352010104556, 440.17783217291156, 440.0205622230214, 439.8633910796639, 439.70631866182015, 439.5493448885757, 439.39246967911805, 439.2356929527373, 439.07901462882495, 438.922434626873, 438.7659528664737, 438.60956926731916, 438.4532837492014, 438.2970962320097, 438.14100663573254, 437.98501488045554, 437.8291208863612, 437.6733245737286, 437.5176258629339, 437.3620246744468, 437.2065209288341, 437.0511145467563, 436.89580544896785, 436.74059355631783, 436.5854787897481, 436.4304610702928, 436.2755403190796, 436.1207164573273, 435.96598940634715, 435.8113590875411, 435.6568254224015, 435.5023883325122, 435.34804773954625, 435.19380356526653, 435.0396557315256, 434.8856041602646, 434.73164877351354, 434.5777894933906, 434.42402624210166, 434.2703589419406, 434.11678751528797, 433.9633118846119, 433.80993197246676, 433.6566477014931, 433.503458994418, 433.3503657740534, 433.1973679632974, 433.04446548513295, 432.8916582626275, 432.7389462189332, 432.5863292772871, 432.43380736100875, 432.28138039350284, 432.1290482982569, 431.97681099884136, 431.82466841891045, 431.67262048219993, 431.5206671125289, 431.3688082337981, 431.21704376999025, 431.06537364517015, 430.9137977834837, 430.76231610915806, 430.6109285465013, 430.4596350199024, 430.30843545383124, 430.15732977283716, 430.00631790155046, 429.855399764681, 429.70457528701803, 429.55384439343106, 429.403207008868, 429.25266305835663, 429.1022124670031, 428.9518551599926, 428.80159106258816, 428.6514201001323, 428.5013421980444, 428.3513572818227, 428.20146527704287, 428.05166610935754, 427.90195970449827, 427.7523459882721, 427.60282488656463, 427.4533963253371, 427.3040602306282, 427.1548165285527, 427.0056651453026, 426.8566060071451, 426.707639040424, 426.5587641715586, 426.4099813270443, 426.2612904334525, 426.11269141742855, 425.9641842056946, 425.8157687250475, 425.6674449023585, 425.51921266457424, 425.3710719387157, 425.22302265187915, 425.075064731234, 424.9271981040251, 424.77942269757006, 424.6317384392621, 424.4841452565673, 424.33664307702486, 424.1892318282494, 424.04191143792696, 423.894681833818, 423.7475429437559, 423.6004946956471, 423.453537017471, 423.3066698372791, 423.1598930831968, 423.0132066834209, 422.8666105662211, 422.72010465993964, 422.57368889298994, 422.42736319385847, 422.2811274911035, 422.13498171335453, 421.9889257893131, 421.84295964775214, 421.6970832175163, 421.5512964275211, 421.4055992067538, 421.25999148427235, 421.114473189206, 420.9690442507549, 420.82370459818895, 420.6784541608503, 420.53329286815074, 420.3882206495723, 420.24323743466783, 420.0983431530604, 419.9535377344425, 419.8088211085776, 419.66419320529866, 419.51965395450765, 419.3752032861776, 419.23084113035014, 419.0865674171369, 418.94238207671856, 418.798285039345, 418.6542762353361, 418.5103555950797, 418.36652304903276, 418.22277852772254, 418.07912196174306, 417.935553281758, 417.79207241850014, 417.6486793027699, 417.50537386543647, 417.36215603743705, 417.2190257497773, 417.0759829335309, 416.93302751983964, 416.7901594399132, 416.6473786250288, 416.50468500653164, 416.3620785158345, 416.21955908441777, 416.07712664382916, 415.9347811256837, 415.7925224616639, 415.6503505835192, 415.5082654230668, 415.36626691218964, 415.2243549828383, 415.08252956703035, 414.94079059685, 414.79913800444774, 414.6575717220412, 414.5160916819138, 414.3746978164155, 414.23339005796294, 414.0921683390388, 413.9510325921915, 413.80998275003583, 413.6690187452526, 413.5281405105883, 413.3873479788552, 413.24664108293115, 413.1060197557601, 412.9654839303507, 412.82503353977773, 412.684668517181, 412.544388795766, 412.4041943088024, 412.26408498962627, 412.1240607716376, 411.9841215883018, 411.8442673731495, 411.7044980597753, 411.56481358183896, 411.42521387306505, 411.2856988672421, 411.1462684982233, 411.00692269992663, 410.8676614063336, 410.7284845514907, 410.58939206950777, 410.45038389455937, 410.31145996088406, 410.17262020278326, 410.0338645546234, 409.89519295083386, 409.7566053259081, 409.6181016144031, 409.47968175093894, 409.34134567019987, 409.20309330693294, 409.064924595948, 408.9268394721189, 408.78883787038234, 408.6509197257382, 408.5130849732491, 408.37533354804015, 408.23766538530003, 408.10008042027937, 407.96257858829216, 407.8251598247149, 407.6878240649857, 407.5505712446062, 407.4134012991395, 407.2763141642115, 407.13930977551036, 407.00238806878593, 406.86554897985025, 406.7287924445772, 406.5921183989032, 406.4555267788256, 406.31901752040403, 406.18259055976, 406.0462458330755, 405.90998327659554, 405.7738028266255, 405.63770441953284, 405.50168799174526, 405.36575347975287, 405.2299008201064, 405.094129949418, 404.95844080436007, 404.8228333216667, 404.68730743813205, 404.55186309061247, 404.41650021602334, 404.281218751342, 404.14601863360554, 404.0108997999118, 403.87586218741956, 403.74090573334706, 403.60603037497333, 403.47123604963804, 403.33652269473976, 403.2018902477383, 403.06733864615325, 402.9328678275638, 402.7984777296092, 402.66416828998854, 402.5299394464604, 402.39579113684294, 402.2617232990144, 402.1277358709123, 401.9938287905334, 401.8600019959342, 401.72625542523014, 401.59258901659587, 401.4590027082656, 401.32549643853247, 401.19207014574823, 401.0587237683244, 400.9254572447305, 400.79227051349574, 400.6591635132069, 400.526136182511, 400.39318846011236, 400.26032028477437, 400.1275315953188, 399.99482233062616, 399.8621924296347, 399.7296418313414, 399.59717047480143, 399.46477829912766, 399.33246524349147, 399.20023124712225, 399.06807624930696, 398.9360001893903, 398.80400300677604, 398.67208464092386, 398.5402450313523, 398.4084841176373, 398.2768018394123, 398.14519813636775, 398.0136729482521, 397.88222621487085, 397.75085787608697, 397.61956787182, 397.4883561420473, 397.35722262680326, 397.226167266179, 397.0951900003227, 396.9642907694391, 396.8334695137905, 396.7027261736948, 396.57206068952735, 396.44147300172057, 396.3109630507618, 396.1805307771968, 396.05017612162663, 395.9198990247081, 395.78969942715605, 395.6595772697398, 395.52953249328624, 395.3995650386771, 395.269674846851, 395.1398618588022, 395.01012601558085, 394.88046725829275, 394.75088552810007, 394.6213807662198, 394.4919529139252, 394.36260191254513, 394.23332770346366, 394.10413022812, 393.97500942800974, 393.845965244683, 393.71699761974526, 393.588106494857, 393.45929181173466, 393.33055351214875, 393.2018915379255, 393.07330583094534, 392.9447963331445, 392.81636298651296, 392.6880057330966, 392.55972451499497, 392.4315192743629, 392.30338995340963, 392.1753364943987, 392.04735883964804, 391.91945693153014, 391.7916307124721, 391.6638801249546, 391.53620511151325, 391.40860561473676, 391.2810815772687, 391.153632941807, 391.02625965110246, 390.89896164796016, 390.7717388752397, 390.6445912758534, 390.5175187927681, 390.3905213690033, 390.26359894763317, 390.1367514717845, 390.0099788846385, 389.88328112942827, 389.7566581494424, 389.63010988802023, 389.5036362885562, 389.37723729449715, 389.25091284934285, 389.12466289664707, 388.99848738001504, 388.8723862431061, 388.74635942963215, 388.62040688335713, 388.4945285480985, 388.36872436772677, 388.24299428616365, 388.11733824738485, 387.9917561954176, 387.8662480743419, 387.7408138282898, 387.6154534014464, 387.49016673804846, 387.3649537823851, 387.23981447879714, 387.1147487716782, 386.98975660547325, 386.8648379246796, 386.73999267384664, 386.61522079757515, 386.49052224051746, 386.36589694737825, 386.2413448629137, 386.1168659319313, 385.9924600992905, 385.86812730990175, 385.74386750872696, 385.6196806407802, 385.49556665112544, 385.3715254848792, 385.24755708720863, 385.1236614033319, 384.9998383785185, 384.87608795808904, 384.7524100874145, 384.6288047119173, 384.5052717770705, 384.38181122839836, 384.25842301147486, 384.1351070719258, 384.0118633554268, 383.8886918077044, 383.7655923745356, 383.6425650017475, 383.5196096352181, 383.39672622087573, 383.27391470469826, 383.1511750327148, 383.0285071510037]\n",
            "244.1325775090804\n"
          ]
        }
      ]
    },
    {
      "cell_type": "code",
      "metadata": {
        "colab": {
          "base_uri": "https://localhost:8080/",
          "height": 282
        },
        "id": "lVw-ywWjwUzl",
        "outputId": "34a909eb-efe5-4957-a4e4-80c02a7ceab3"
      },
      "source": [
        "epoch = [i+1 for i in range(len(trains_MSE))]\n",
        "plt.plot(epoch, trains_MSE)"
      ],
      "execution_count": 20,
      "outputs": [
        {
          "output_type": "execute_result",
          "data": {
            "text/plain": [
              "[<matplotlib.lines.Line2D at 0x7eff89738ed0>]"
            ]
          },
          "metadata": {},
          "execution_count": 20
        },
        {
          "output_type": "display_data",
          "data": {
            "image/png": "[encoded data removed]",
            "text/plain": [
              "<Figure size 432x288 with 1 Axes>"
            ]
          },
          "metadata": {
            "needs_background": "light"
          }
        }
      ]
    },
    {
      "cell_type": "code",
      "metadata": {
        "colab": {
          "base_uri": "https://localhost:8080/",
          "height": 282
        },
        "id": "VfDVVKJkz69U",
        "outputId": "3bfccc80-ed37-4eb3-fe19-e99841f4b0ad"
      },
      "source": [
        "plt.plot(epoch, validations_MSE)"
      ],
      "execution_count": 21,
      "outputs": [
        {
          "output_type": "execute_result",
          "data": {
            "text/plain": [
              "[<matplotlib.lines.Line2D at 0x7eff88e2ead0>]"
            ]
          },
          "metadata": {},
          "execution_count": 21
        },
        {
          "output_type": "display_data",
          "data": {
            "image/png": "[encoded data removed]",
            "text/plain": [
              "<Figure size 432x288 with 1 Axes>"
            ]
          },
          "metadata": {
            "needs_background": "light"
          }
        }
      ]
    },
    {
      "cell_type": "code",
      "metadata": {
        "colab": {
          "base_uri": "https://localhost:8080/"
        },
        "id": "hvOaVTgC0GDm",
        "outputId": "0f8b7c7f-80b3-4caf-820d-bd392156e486"
      },
      "source": [
        "# when dataset is not normalized\n",
        "\n",
        "from sklearn.linear_model import LinearRegression\n",
        "reg = LinearRegression()\n",
        "reg.fit(np.delete(train_UN, -1, 1),  train_UN[:,-1])\n",
        "\n",
        "\n",
        "from sklearn.metrics import mean_squared_error\n",
        "mse_train = mean_squared_error(train_UN[:,-1], reg.predict(np.delete(train_UN, -1, 1)), sample_weight=None)\n",
        "mse_validation = mean_squared_error(validation_UN[:,-1], reg.predict(np.delete(validation_UN, -1, 1)), sample_weight=None)\n",
        "mse_test = mean_squared_error(test_UN[:,-1], reg.predict(np.delete(test_UN, -1, 1)), sample_weight=None)\n",
        "print(\"train_mse\", mse_train)\n",
        "print(\"validation mse\", mse_validation)\n",
        "print(\"test_mse\", mse_test)"
      ],
      "execution_count": 22,
      "outputs": [
        {
          "output_type": "stream",
          "name": "stdout",
          "text": [
            "train_mse 19.37145802445955\n",
            "validation mse 16.21399368073882\n",
            "test_mse 28.056899408482142\n"
          ]
        }
      ]
    },
    {
      "cell_type": "code",
      "metadata": {
        "id": "4NuFEQPv1TGl"
      },
      "source": [
        ""
      ],
      "execution_count": null,
      "outputs": []
    }
  ]
}