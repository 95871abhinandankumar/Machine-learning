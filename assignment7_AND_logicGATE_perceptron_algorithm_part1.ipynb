{
  "nbformat": 4,
  "nbformat_minor": 0,
  "metadata": {
    "colab": {
      "name": "assignment7_AND_logicGATE_perceptron algorithm_part1.ipynb",
      "provenance": [],
      "authorship_tag": "ABX9TyPzuB5NxZRS1WOrxkOsZai/",
      "include_colab_link": true
    },
    "kernelspec": {
      "name": "python3",
      "display_name": "Python 3"
    },
    "language_info": {
      "name": "python"
    }
  },
  "cells": [
    {
      "cell_type": "markdown",
      "metadata": {
        "id": "view-in-github",
        "colab_type": "text"
      },
      "source": [
        "<a href=\"https://colab.research.google.com/github/95871abhinandankumar/95871abhinandankumar/blob/main/assignment7_AND_logicGATE_perceptron_algorithm_part1.ipynb\" target=\"_parent\"><img src=\"https://colab.research.google.com/assets/colab-badge.svg\" alt=\"Open In Colab\"/></a>"
      ]
    },
    {
      "cell_type": "code",
      "metadata": {
        "id": "3h_4ucQSm7uW"
      },
      "source": [
        "import numpy as np\n"
      ],
      "execution_count": 79,
      "outputs": []
    },
    {
      "cell_type": "code",
      "metadata": {
        "id": "18tjP1E3sO2d"
      },
      "source": [
        "def predicted(w, x):\n",
        "  if np.dot(w, x) >= 0:\n",
        "    return 1\n",
        "  else:\n",
        "    return 0"
      ],
      "execution_count": 80,
      "outputs": []
    },
    {
      "cell_type": "code",
      "metadata": {
        "id": "4awTV5G2oS5s"
      },
      "source": [
        "def accuaracy(dataset, w):\n",
        "  count = 0\n",
        "  for i in range(len(dataset)):\n",
        "    if predicted(w, dataset[i][0:-1]) == dataset[i][-1]:\n",
        "      count += 1\n",
        "  return count/len(dataset) \n"
      ],
      "execution_count": 81,
      "outputs": []
    },
    {
      "cell_type": "code",
      "metadata": {
        "id": "ESvh-58lttvy"
      },
      "source": [
        "def perceptron_model(dataset, w, epoch):\n",
        "\n",
        "  for _ in range(epoch):\n",
        "    for i in range(len(dataset)):\n",
        "      # print(i)\n",
        "      # print(dataset[i][0:-1])\n",
        "      # print(w)\n",
        "      while predicted(w, dataset[i][0:-1]) != dataset[i][-1]:\n",
        "        # print(w)\n",
        "        if np.dot(w, dataset[i][0:-1]) < 0 and dataset[i][-1] == 1:\n",
        "          w = np.add(w, dataset[i][0:-1])\n",
        "          print(w)\n",
        "        elif np.dot(w, dataset[i][0:-1]) >= 0 and dataset[i][-1] == 0:\n",
        "          w = np.subtract(w, dataset[i][0:-1])\n",
        "  return w"
      ],
      "execution_count": 82,
      "outputs": []
    },
    {
      "cell_type": "code",
      "metadata": {
        "colab": {
          "base_uri": "https://localhost:8080/"
        },
        "id": "rz4G5eGDpRQR",
        "outputId": "1ffe1a6d-3234-4e36-e8e5-27b1a8f59a6a"
      },
      "source": [
        "dataset = [[1,0,0,0], [1,0,1,0],[1,1,0,0],[1,1,1,1]]\n",
        "\n",
        "dataset = np.array(dataset)\n",
        "print(dataset)"
      ],
      "execution_count": 83,
      "outputs": [
        {
          "output_type": "stream",
          "name": "stdout",
          "text": [
            "[[1 0 0 0]\n",
            " [1 0 1 0]\n",
            " [1 1 0 0]\n",
            " [1 1 1 1]]\n"
          ]
        }
      ]
    },
    {
      "cell_type": "code",
      "metadata": {
        "colab": {
          "base_uri": "https://localhost:8080/"
        },
        "id": "14A80Q2QvHAf",
        "outputId": "e2809996-1807-4040-c05a-5c78b7f47009"
      },
      "source": [
        "w = np.array([0.1, 0.1, 0.1])\n",
        "\n",
        "w = perceptron_model(dataset, w, 10)\n",
        "\n",
        "print(accuaracy(dataset, w))"
      ],
      "execution_count": 84,
      "outputs": [
        {
          "output_type": "stream",
          "name": "stdout",
          "text": [
            "[0.1 1.1 1.1]\n",
            "[-0.9  2.1  1.1]\n",
            "[-1.9  2.1  1.1]\n",
            "[-1.9  2.1  2.1]\n",
            "1.0\n"
          ]
        }
      ]
    }
  ]
}